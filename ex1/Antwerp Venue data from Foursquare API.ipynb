{
 "cells": [
  {
   "cell_type": "markdown",
   "metadata": {},
   "source": [
    "\n",
    "# Data"
   ]
  },
  {
   "cell_type": "code",
   "execution_count": 11,
   "metadata": {},
   "outputs": [
    {
     "name": "stdout",
     "output_type": "stream",
     "text": [
      "Libraries imported.\n"
     ]
    }
   ],
   "source": [
    "import pandas as pd # library to handle data in a vectorized manner\n",
    "\n",
    "import json # library to handle JSON files\n",
    "from IPython.display import JSON \n",
    "\n",
    "import requests # library to handle requests\n",
    "\n",
    "print('Libraries imported.')"
   ]
  },
  {
   "cell_type": "code",
   "execution_count": 3,
   "metadata": {},
   "outputs": [
    {
     "data": {
      "text/html": [
       "<div>\n",
       "<style scoped>\n",
       "    .dataframe tbody tr th:only-of-type {\n",
       "        vertical-align: middle;\n",
       "    }\n",
       "\n",
       "    .dataframe tbody tr th {\n",
       "        vertical-align: top;\n",
       "    }\n",
       "\n",
       "    .dataframe thead th {\n",
       "        text-align: right;\n",
       "    }\n",
       "</style>\n",
       "<table border=\"1\" class=\"dataframe\">\n",
       "  <thead>\n",
       "    <tr style=\"text-align: right;\">\n",
       "      <th></th>\n",
       "      <th>Neighbourhoods</th>\n",
       "      <th>Latitude</th>\n",
       "      <th>Longitude</th>\n",
       "    </tr>\n",
       "  </thead>\n",
       "  <tbody>\n",
       "    <tr>\n",
       "      <th>0</th>\n",
       "      <td>Antwerp</td>\n",
       "      <td>51.22139</td>\n",
       "      <td>4.39722</td>\n",
       "    </tr>\n",
       "    <tr>\n",
       "      <th>1</th>\n",
       "      <td>Berchem</td>\n",
       "      <td>51.1955771</td>\n",
       "      <td>4.4188392</td>\n",
       "    </tr>\n",
       "    <tr>\n",
       "      <th>2</th>\n",
       "      <td>Berendrecht</td>\n",
       "      <td>51.3455396</td>\n",
       "      <td>4.319401</td>\n",
       "    </tr>\n",
       "    <tr>\n",
       "      <th>3</th>\n",
       "      <td>Borgerhout</td>\n",
       "      <td>51.2128453</td>\n",
       "      <td>4.4462406</td>\n",
       "    </tr>\n",
       "    <tr>\n",
       "      <th>4</th>\n",
       "      <td>Deurne</td>\n",
       "      <td>51.20849</td>\n",
       "      <td>4.4719297</td>\n",
       "    </tr>\n",
       "    <tr>\n",
       "      <th>5</th>\n",
       "      <td>Ekeren</td>\n",
       "      <td>51.2773404</td>\n",
       "      <td>4.4181413</td>\n",
       "    </tr>\n",
       "    <tr>\n",
       "      <th>6</th>\n",
       "      <td>Hoboken</td>\n",
       "      <td>51.1794946</td>\n",
       "      <td>4.3617847</td>\n",
       "    </tr>\n",
       "    <tr>\n",
       "      <th>7</th>\n",
       "      <td>Merksem</td>\n",
       "      <td>51.2512626</td>\n",
       "      <td>4.4485629</td>\n",
       "    </tr>\n",
       "    <tr>\n",
       "      <th>8</th>\n",
       "      <td>Wilrijk</td>\n",
       "      <td>51.1683102</td>\n",
       "      <td>4.3942868</td>\n",
       "    </tr>\n",
       "  </tbody>\n",
       "</table>\n",
       "</div>"
      ],
      "text/plain": [
       "  Neighbourhoods    Latitude  Longitude\n",
       "0        Antwerp    51.22139    4.39722\n",
       "1        Berchem  51.1955771  4.4188392\n",
       "2    Berendrecht  51.3455396   4.319401\n",
       "3     Borgerhout  51.2128453  4.4462406\n",
       "4         Deurne    51.20849  4.4719297\n",
       "5         Ekeren  51.2773404  4.4181413\n",
       "6        Hoboken  51.1794946  4.3617847\n",
       "7        Merksem  51.2512626  4.4485629\n",
       "8        Wilrijk  51.1683102  4.3942868"
      ]
     },
     "execution_count": 3,
     "metadata": {},
     "output_type": "execute_result"
    }
   ],
   "source": [
    "\n",
    "data = {'Neighbourhoods':  ['Antwerp', 'Berchem', 'Berendrecht', 'Borgerhout', 'Deurne', 'Ekeren', 'Hoboken', 'Merksem', 'Wilrijk'],\n",
    "        'Latitude': ['51.22139', '51.1955771', '51.3455396', '51.2128453', '51.20849', '51.2773404', '51.1794946', '51.2512626', '51.1683102'],\n",
    "        'Longitude': ['4.39722', '4.4188392', '4.319401', '4.4462406', '4.4719297', '4.4181413', '4.3617847', '4.4485629', '4.3942868' ]\n",
    "       }\n",
    "\n",
    "df = pd.DataFrame (data, columns = ['Neighbourhoods','Latitude', 'Longitude'])\n",
    "\n",
    "df"
   ]
  },
  {
   "cell_type": "code",
   "execution_count": null,
   "metadata": {},
   "outputs": [],
   "source": []
  },
  {
   "cell_type": "markdown",
   "metadata": {},
   "source": [
    "# Neighbourhoods on a Folium Map"
   ]
  },
  {
   "cell_type": "code",
   "execution_count": null,
   "metadata": {},
   "outputs": [],
   "source": [
    "# import folium  \n",
    "# latitude = 51.22139\n",
    "# longitude = 4.39722\n",
    "\n",
    "# map_antwerp = folium.Map(location=[latitude, longitude], zoom_start=12)\n",
    "\n",
    "# # add markers to map\n",
    "# for neighbourhood, lat, lng in zip(df['Neighbourhoods'], df['Latitude'], df['Longitude']):\n",
    "#     label = '{}'.format(neighbourhood)\n",
    "#     label = folium.Popup(label, parse_html=True)\n",
    "#     folium.CircleMarker(\n",
    "#         [lat, lng],\n",
    "#         radius=6,\n",
    "#         popup=label,\n",
    "#         color='blue',\n",
    "#         fill=True,\n",
    "#         fill_color='blue',\n",
    "#         fill_opacity=1,\n",
    "#         parse_html=False).add_to(map_antwerp)  \n",
    "    \n",
    "# map_antwerp\n"
   ]
  },
  {
   "cell_type": "code",
   "execution_count": null,
   "metadata": {},
   "outputs": [],
   "source": []
  },
  {
   "cell_type": "code",
   "execution_count": null,
   "metadata": {},
   "outputs": [],
   "source": []
  },
  {
   "cell_type": "markdown",
   "metadata": {},
   "source": [
    "![title](foursquare.jpg)"
   ]
  },
  {
   "cell_type": "markdown",
   "metadata": {},
   "source": []
  },
  {
   "cell_type": "code",
   "execution_count": null,
   "metadata": {},
   "outputs": [],
   "source": []
  },
  {
   "cell_type": "markdown",
   "metadata": {},
   "source": [
    "# A function to extract venues for all neighbourhoods"
   ]
  },
  {
   "cell_type": "code",
   "execution_count": 4,
   "metadata": {},
   "outputs": [],
   "source": [
    "# go to developer.foursquare.com and create a free account\n",
    "\n",
    "CLIENT_ID = '2GQBW5PR0QFXTOGCHKTRFWJBTGOFOHXW1TRTNRAFURQ5FE1X'\n",
    "CLIENT_SECRET = '3QH40WMZIIDSQN1RFAVAEQHUIMOQUJPKYPABQVNTSDQJN2YD'\n",
    "VERSION = 20202808\n",
    "radius = 500\n",
    "LIMIT = 100\n",
    "\n",
    "\n"
   ]
  },
  {
   "cell_type": "code",
   "execution_count": 13,
   "metadata": {
    "collapsed": true,
    "jupyter": {
     "outputs_hidden": true
    },
    "tags": []
   },
   "outputs": [
    {
     "data": {
      "application/json": {
       "meta": {
        "code": 200,
        "requestId": "63fc29855b89901bf863a570"
       },
       "response": {
        "groups": [
         {
          "items": [
           {
            "reasons": {
             "count": 0,
             "items": [
              {
               "reasonName": "globalInteractionReason",
               "summary": "This spot is popular",
               "type": "general"
              }
             ]
            },
            "referralId": "e-0-4c274f99a852c9287300e86c-0",
            "venue": {
             "categories": [
              {
               "icon": {
                "prefix": "https://ss3.4sqi.net/img/categories_v2/parks_outdoors/plaza_",
                "suffix": ".png"
               },
               "id": "4bf58dd8d48988d164941735",
               "name": "Plaza",
               "pluralName": "Plazas",
               "primary": true,
               "shortName": "Plaza"
              }
             ],
             "id": "4c274f99a852c9287300e86c",
             "location": {
              "address": "Grote Markt",
              "cc": "BE",
              "city": "Antwerpen",
              "country": "België",
              "distance": 182,
              "formattedAddress": [
               "Grote Markt",
               "2000 Antwerpen",
               "België"
              ],
              "labeledLatLngs": [
               {
                "label": "display",
                "lat": 51.22116326214871,
                "lng": 4.399809612986948
               }
              ],
              "lat": 51.22116326214871,
              "lng": 4.399809612986948,
              "postalCode": "2000",
              "state": "Antwerpen"
             },
             "name": "Grote Markt",
             "photos": {
              "count": 0,
              "groups": []
             }
            }
           },
           {
            "reasons": {
             "count": 0,
             "items": [
              {
               "reasonName": "globalInteractionReason",
               "summary": "This spot is popular",
               "type": "general"
              }
             ]
            },
            "referralId": "e-0-552d17f8498e33b084e03a83-1",
            "venue": {
             "categories": [
              {
               "icon": {
                "prefix": "https://ss3.4sqi.net/img/categories_v2/arts_entertainment/movietheater_",
                "suffix": ".png"
               },
               "id": "4bf58dd8d48988d17e941735",
               "name": "Indie Movie Theater",
               "pluralName": "Indie Movie Theaters",
               "primary": true,
               "shortName": "Indie Movies"
              }
             ],
             "id": "552d17f8498e33b084e03a83",
             "location": {
              "address": "Kaasstraat 4",
              "cc": "BE",
              "city": "Antwerpen",
              "country": "België",
              "distance": 67,
              "formattedAddress": [
               "Kaasstraat 4",
               "2000 Antwerpen",
               "België"
              ],
              "labeledLatLngs": [
               {
                "label": "display",
                "lat": 51.221692709260495,
                "lng": 4.398058396803749
               }
              ],
              "lat": 51.221692709260495,
              "lng": 4.398058396803749,
              "postalCode": "2000",
              "state": "Antwerpen"
             },
             "name": "Cartoon's ",
             "photos": {
              "count": 0,
              "groups": []
             }
            }
           },
           {
            "reasons": {
             "count": 0,
             "items": [
              {
               "reasonName": "globalInteractionReason",
               "summary": "This spot is popular",
               "type": "general"
              }
             ]
            },
            "referralId": "e-0-53288de9498e1a9800b50636-2",
            "venue": {
             "categories": [
              {
               "icon": {
                "prefix": "https://ss3.4sqi.net/img/categories_v2/food/falafel_",
                "suffix": ".png"
               },
               "id": "4bf58dd8d48988d10b941735",
               "name": "Falafel Restaurant",
               "pluralName": "Falafel Restaurants",
               "primary": true,
               "shortName": "Falafel"
              }
             ],
             "id": "53288de9498e1a9800b50636",
             "location": {
              "address": "Hoogstraat",
              "cc": "BE",
              "city": "Antwerpen",
              "country": "België",
              "distance": 180,
              "formattedAddress": [
               "Hoogstraat",
               "2000 Antwerpen",
               "België"
              ],
              "labeledLatLngs": [
               {
                "label": "display",
                "lat": 51.219975094624324,
                "lng": 4.398477850381504
               }
              ],
              "lat": 51.219975094624324,
              "lng": 4.398477850381504,
              "postalCode": "2000",
              "state": "Antwerpen"
             },
             "name": "Falafel Tof",
             "photos": {
              "count": 0,
              "groups": []
             }
            }
           },
           {
            "reasons": {
             "count": 0,
             "items": [
              {
               "reasonName": "globalInteractionReason",
               "summary": "This spot is popular",
               "type": "general"
              }
             ]
            },
            "referralId": "e-0-4be9ab0561aca59331d58200-3",
            "venue": {
             "categories": [
              {
               "icon": {
                "prefix": "https://ss3.4sqi.net/img/categories_v2/food/sushi_",
                "suffix": ".png"
               },
               "id": "4bf58dd8d48988d1d2941735",
               "name": "Sushi Restaurant",
               "pluralName": "Sushi Restaurants",
               "primary": true,
               "shortName": "Sushi"
              }
             ],
             "id": "4be9ab0561aca59331d58200",
             "location": {
              "address": "Oude Koornmarkt 22",
              "cc": "BE",
              "city": "Antwerpen",
              "country": "België",
              "distance": 210,
              "formattedAddress": [
               "Oude Koornmarkt 22",
               "2000 Antwerpen",
               "België"
              ],
              "labeledLatLngs": [
               {
                "label": "display",
                "lat": 51.22029229969027,
                "lng": 4.399673791094058
               }
              ],
              "lat": 51.22029229969027,
              "lng": 4.399673791094058,
              "postalCode": "2000",
              "state": "Antwerpen"
             },
             "name": "Zaowang",
             "photos": {
              "count": 0,
              "groups": []
             },
             "venuePage": {
              "id": "47213515"
             }
            }
           },
           {
            "reasons": {
             "count": 0,
             "items": [
              {
               "reasonName": "globalInteractionReason",
               "summary": "This spot is popular",
               "type": "general"
              }
             ]
            },
            "referralId": "e-0-56292285498e9b5403ef1ba3-4",
            "venue": {
             "categories": [
              {
               "icon": {
                "prefix": "https://ss3.4sqi.net/img/categories_v2/food/fishandchips_",
                "suffix": ".png"
               },
               "id": "4edd64a0c7ddd24ca188df1a",
               "name": "Fish & Chips Shop",
               "pluralName": "Fish & Chips Shops",
               "primary": true,
               "shortName": "Fish & Chips"
              }
             ],
             "id": "56292285498e9b5403ef1ba3",
             "location": {
              "address": "Maalderijstraat 1",
              "cc": "BE",
              "city": "Antwerpen",
              "country": "België",
              "distance": 214,
              "formattedAddress": [
               "Maalderijstraat 1",
               "2000 Antwerpen",
               "België"
              ],
              "labeledLatLngs": [
               {
                "label": "display",
                "lat": 51.22089411711053,
                "lng": 4.400188694999644
               }
              ],
              "lat": 51.22089411711053,
              "lng": 4.400188694999644,
              "postalCode": "2000",
              "state": "Antwerpen"
             },
             "name": "Bia Mara",
             "photos": {
              "count": 0,
              "groups": []
             }
            }
           },
           {
            "reasons": {
             "count": 0,
             "items": [
              {
               "reasonName": "globalInteractionReason",
               "summary": "This spot is popular",
               "type": "general"
              }
             ]
            },
            "referralId": "e-0-4c82331847cc224b9335839f-5",
            "venue": {
             "categories": [
              {
               "icon": {
                "prefix": "https://ss3.4sqi.net/img/categories_v2/parks_outdoors/plaza_",
                "suffix": ".png"
               },
               "id": "4bf58dd8d48988d164941735",
               "name": "Plaza",
               "pluralName": "Plazas",
               "primary": true,
               "shortName": "Plaza"
              }
             ],
             "id": "4c82331847cc224b9335839f",
             "location": {
              "address": "Steenplein",
              "cc": "BE",
              "city": "Antwerpen",
              "country": "België",
              "distance": 8,
              "formattedAddress": [
               "Steenplein",
               "2000 Antwerpen",
               "België"
              ],
              "labeledLatLngs": [
               {
                "label": "display",
                "lat": 51.221370153662214,
                "lng": 4.397108915891959
               }
              ],
              "lat": 51.221370153662214,
              "lng": 4.397108915891959,
              "postalCode": "2000",
              "state": "Antwerpen"
             },
             "name": "Steenplein",
             "photos": {
              "count": 0,
              "groups": []
             }
            }
           },
           {
            "reasons": {
             "count": 0,
             "items": [
              {
               "reasonName": "globalInteractionReason",
               "summary": "This spot is popular",
               "type": "general"
              }
             ]
            },
            "referralId": "e-0-4b65dd1bf964a520ae042be3-6",
            "venue": {
             "categories": [
              {
               "icon": {
                "prefix": "https://ss3.4sqi.net/img/categories_v2/food/italian_",
                "suffix": ".png"
               },
               "id": "4bf58dd8d48988d110941735",
               "name": "Italian Restaurant",
               "pluralName": "Italian Restaurants",
               "primary": true,
               "shortName": "Italian"
              }
             ],
             "id": "4b65dd1bf964a520ae042be3",
             "location": {
              "address": "Suikerrui 24",
              "cc": "BE",
              "city": "Antwerpen",
              "country": "België",
              "distance": 107,
              "formattedAddress": [
               "Suikerrui 24",
               "2000 Antwerpen",
               "België"
              ],
              "labeledLatLngs": [
               {
                "label": "display",
                "lat": 51.22081295778817,
                "lng": 4.398452234289174
               }
              ],
              "lat": 51.22081295778817,
              "lng": 4.398452234289174,
              "postalCode": "2000",
              "state": "Antwerpen"
             },
             "name": "Arte",
             "photos": {
              "count": 0,
              "groups": []
             }
            }
           },
           {
            "reasons": {
             "count": 0,
             "items": [
              {
               "reasonName": "globalInteractionReason",
               "summary": "This spot is popular",
               "type": "general"
              }
             ]
            },
            "referralId": "e-0-54df9d78498eccd401b224a6-7",
            "venue": {
             "categories": [
              {
               "icon": {
                "prefix": "https://ss3.4sqi.net/img/categories_v2/nightlife/cocktails_",
                "suffix": ".png"
               },
               "id": "4bf58dd8d48988d11e941735",
               "name": "Cocktail Bar",
               "pluralName": "Cocktail Bars",
               "primary": true,
               "shortName": "Cocktail"
              }
             ],
             "id": "54df9d78498eccd401b224a6",
             "location": {
              "address": "Pelgrimstraat 7",
              "cc": "BE",
              "city": "Antwerpen",
              "country": "België",
              "distance": 245,
              "formattedAddress": [
               "Pelgrimstraat 7",
               "2000 Antwerpen",
               "België"
              ],
              "labeledLatLngs": [
               {
                "label": "display",
                "lat": 51.21981744483137,
                "lng": 4.399696649886646
               }
              ],
              "lat": 51.21981744483137,
              "lng": 4.399696649886646,
              "postalCode": "2000",
              "state": "Antwerpen"
             },
             "name": "Jones & co",
             "photos": {
              "count": 0,
              "groups": []
             }
            }
           },
           {
            "reasons": {
             "count": 0,
             "items": [
              {
               "reasonName": "globalInteractionReason",
               "summary": "This spot is popular",
               "type": "general"
              }
             ]
            },
            "referralId": "e-0-516868db498ee0ac3eb98384-8",
            "venue": {
             "categories": [
              {
               "icon": {
                "prefix": "https://ss3.4sqi.net/img/categories_v2/food/bbqalt_",
                "suffix": ".png"
               },
               "id": "4bf58dd8d48988d1df931735",
               "name": "BBQ Joint",
               "pluralName": "BBQ Joints",
               "primary": true,
               "shortName": "BBQ"
              }
             ],
             "id": "516868db498ee0ac3eb98384",
             "location": {
              "address": "Suikerrui 9",
              "cc": "BE",
              "city": "Antwerpen",
              "country": "België",
              "distance": 39,
              "formattedAddress": [
               "Suikerrui 9",
               "2000 Antwerpen",
               "België"
              ],
              "labeledLatLngs": [
               {
                "label": "display",
                "lat": 51.221197409752534,
                "lng": 4.3976991341829015
               }
              ],
              "lat": 51.221197409752534,
              "lng": 4.3976991341829015,
              "postalCode": "2000",
              "state": "Antwerpen"
             },
             "name": "Amadeus 2",
             "photos": {
              "count": 0,
              "groups": []
             }
            }
           },
           {
            "reasons": {
             "count": 0,
             "items": [
              {
               "reasonName": "globalInteractionReason",
               "summary": "This spot is popular",
               "type": "general"
              }
             ]
            },
            "referralId": "e-0-4b8edb7af964a520343b33e3-9",
            "venue": {
             "categories": [
              {
               "icon": {
                "prefix": "https://ss3.4sqi.net/img/categories_v2/nightlife/pub_",
                "suffix": ".png"
               },
               "id": "4bf58dd8d48988d11b941735",
               "name": "Pub",
               "pluralName": "Pubs",
               "primary": true,
               "shortName": "Pub"
              }
             ],
             "id": "4b8edb7af964a520343b33e3",
             "location": {
              "address": "Blauwmoezelstraat 1",
              "cc": "BE",
              "city": "Antwerpen",
              "country": "België",
              "distance": 245,
              "formattedAddress": [
               "Blauwmoezelstraat 1",
               "2000 Antwerpen",
               "België"
              ],
              "labeledLatLngs": [
               {
                "label": "display",
                "lat": 51.22063331582656,
                "lng": 4.4005331890040456
               }
              ],
              "lat": 51.22063331582656,
              "lng": 4.4005331890040456,
              "postalCode": "2000",
              "state": "Antwerpen"
             },
             "name": "Paters Vaetje",
             "photos": {
              "count": 0,
              "groups": []
             }
            }
           },
           {
            "reasons": {
             "count": 0,
             "items": [
              {
               "reasonName": "globalInteractionReason",
               "summary": "This spot is popular",
               "type": "general"
              }
             ]
            },
            "referralId": "e-0-546e3913498e22b3445ca600-10",
            "venue": {
             "categories": [
              {
               "icon": {
                "prefix": "https://ss3.4sqi.net/img/categories_v2/food/moroccan_",
                "suffix": ".png"
               },
               "id": "4bf58dd8d48988d1c3941735",
               "name": "Moroccan Restaurant",
               "pluralName": "Moroccan Restaurants",
               "primary": true,
               "shortName": "Moroccan"
              }
             ],
             "id": "546e3913498e22b3445ca600",
             "location": {
              "address": "Ernest Van Dijckkaai",
              "cc": "BE",
              "city": "Antwerpen",
              "country": "België",
              "distance": 61,
              "formattedAddress": [
               "Ernest Van Dijckkaai",
               "Antwerpen",
               "België"
              ],
              "labeledLatLngs": [
               {
                "label": "display",
                "lat": 51.2208903569663,
                "lng": 4.396853074536036
               }
              ],
              "lat": 51.2208903569663,
              "lng": 4.396853074536036,
              "state": "Antwerpen"
             },
             "name": "O'Tagine",
             "photos": {
              "count": 0,
              "groups": []
             }
            }
           },
           {
            "reasons": {
             "count": 0,
             "items": [
              {
               "reasonName": "globalInteractionReason",
               "summary": "This spot is popular",
               "type": "general"
              }
             ]
            },
            "referralId": "e-0-4b40d98df964a5202bbc25e3-11",
            "venue": {
             "categories": [
              {
               "icon": {
                "prefix": "https://ss3.4sqi.net/img/categories_v2/food/italian_",
                "suffix": ".png"
               },
               "id": "4bf58dd8d48988d110941735",
               "name": "Italian Restaurant",
               "pluralName": "Italian Restaurants",
               "primary": true,
               "shortName": "Italian"
              }
             ],
             "id": "4b40d98df964a5202bbc25e3",
             "location": {
              "address": "Oude Koornmarkt 32",
              "cc": "BE",
              "city": "Antwerpen",
              "country": "België",
              "crossStreet": "Pelgrimstraat",
              "distance": 231,
              "formattedAddress": [
               "Oude Koornmarkt 32 (Pelgrimstraat)",
               "2000 Antwerpen",
               "België"
              ],
              "labeledLatLngs": [
               {
                "label": "display",
                "lat": 51.220143,
                "lng": 4.399874
               }
              ],
              "lat": 51.220143,
              "lng": 4.399874,
              "postalCode": "2000",
              "state": "Antwerpen"
             },
             "name": "Pasta Hippo Vino",
             "photos": {
              "count": 0,
              "groups": []
             }
            }
           },
           {
            "reasons": {
             "count": 0,
             "items": [
              {
               "reasonName": "globalInteractionReason",
               "summary": "This spot is popular",
               "type": "general"
              }
             ]
            },
            "referralId": "e-0-4beef697b659a593f2ef36c3-12",
            "venue": {
             "categories": [
              {
               "icon": {
                "prefix": "https://ss3.4sqi.net/img/categories_v2/food/spanish_",
                "suffix": ".png"
               },
               "id": "4bf58dd8d48988d150941735",
               "name": "Spanish Restaurant",
               "pluralName": "Spanish Restaurants",
               "primary": true,
               "shortName": "Spanish"
              }
             ],
             "id": "4beef697b659a593f2ef36c3",
             "location": {
              "address": "Pelgrimstraat 21",
              "cc": "BE",
              "city": "Antwerpen",
              "country": "België",
              "distance": 257,
              "formattedAddress": [
               "Pelgrimstraat 21",
               "2000 Antwerpen",
               "België"
              ],
              "labeledLatLngs": [
               {
                "label": "display",
                "lat": 51.21954886046016,
                "lng": 4.399444094245382
               }
              ],
              "lat": 51.21954886046016,
              "lng": 4.399444094245382,
              "postalCode": "2000",
              "state": "Antwerpen"
             },
             "name": "Tapa Bar",
             "photos": {
              "count": 0,
              "groups": []
             }
            }
           },
           {
            "reasons": {
             "count": 0,
             "items": [
              {
               "reasonName": "globalInteractionReason",
               "summary": "This spot is popular",
               "type": "general"
              }
             ]
            },
            "referralId": "e-0-597e0c2b8496ca0b43392be5-13",
            "venue": {
             "categories": [
              {
               "icon": {
                "prefix": "https://ss3.4sqi.net/img/categories_v2/food/taco_",
                "suffix": ".png"
               },
               "id": "4bf58dd8d48988d151941735",
               "name": "Taco Place",
               "pluralName": "Taco Places",
               "primary": true,
               "shortName": "Tacos"
              }
             ],
             "id": "597e0c2b8496ca0b43392be5",
             "location": {
              "address": "Reyndersstraat 13",
              "cc": "BE",
              "city": "Antwerpen",
              "country": "België",
              "distance": 248,
              "formattedAddress": [
               "Reyndersstraat 13",
               "2000 Antwerpen",
               "België"
              ],
              "labeledLatLngs": [
               {
                "label": "display",
                "lat": 51.21936408741781,
                "lng": 4.398731689775403
               }
              ],
              "lat": 51.21936408741781,
              "lng": 4.398731689775403,
              "postalCode": "2000",
              "state": "Antwerpen"
             },
             "name": "Pick&Mex",
             "photos": {
              "count": 0,
              "groups": []
             }
            }
           },
           {
            "reasons": {
             "count": 0,
             "items": [
              {
               "reasonName": "globalInteractionReason",
               "summary": "This spot is popular",
               "type": "general"
              }
             ]
            },
            "referralId": "e-0-521919db11d247f3c0af5194-14",
            "venue": {
             "categories": [
              {
               "icon": {
                "prefix": "https://ss3.4sqi.net/img/categories_v2/food/coffeeshop_",
                "suffix": ".png"
               },
               "id": "4bf58dd8d48988d1e0931735",
               "name": "Coffee Shop",
               "pluralName": "Coffee Shops",
               "primary": true,
               "shortName": "Coffee Shop"
              }
             ],
             "id": "521919db11d247f3c0af5194",
             "location": {
              "address": "Oudebeurs 24",
              "cc": "BE",
              "city": "Antwerpen",
              "country": "België",
              "distance": 246,
              "formattedAddress": [
               "Oudebeurs 24",
               "Antwerpen",
               "België"
              ],
              "labeledLatLngs": [
               {
                "label": "display",
                "lat": 51.22186803136541,
                "lng": 4.400666287959621
               }
              ],
              "lat": 51.22186803136541,
              "lng": 4.400666287959621,
              "state": "Antwerpen"
             },
             "name": "Caffe Mundi",
             "photos": {
              "count": 0,
              "groups": []
             }
            }
           },
           {
            "reasons": {
             "count": 0,
             "items": [
              {
               "reasonName": "globalInteractionReason",
               "summary": "This spot is popular",
               "type": "general"
              }
             ]
            },
            "referralId": "e-0-4bd72f0ef009ef3b864b0c33-15",
            "venue": {
             "categories": [
              {
               "icon": {
                "prefix": "https://ss3.4sqi.net/img/categories_v2/nightlife/cocktails_",
                "suffix": ".png"
               },
               "id": "4bf58dd8d48988d11e941735",
               "name": "Cocktail Bar",
               "pluralName": "Cocktail Bars",
               "primary": true,
               "shortName": "Cocktail"
              }
             ],
             "id": "4bd72f0ef009ef3b864b0c33",
             "location": {
              "address": "Papenstraatje 1",
              "cc": "BE",
              "city": "Antwerpen",
              "country": "België",
              "distance": 293,
              "formattedAddress": [
               "Papenstraatje 1",
               "2000 Antwerpen",
               "België"
              ],
              "labeledLatLngs": [
               {
                "label": "display",
                "lat": 51.219911948375746,
                "lng": 4.4007093204355785
               }
              ],
              "lat": 51.219911948375746,
              "lng": 4.4007093204355785,
              "postalCode": "2000",
              "state": "Antwerpen"
             },
             "name": "Absinthbar",
             "photos": {
              "count": 0,
              "groups": []
             },
             "venuePage": {
              "id": "33241866"
             }
            }
           },
           {
            "reasons": {
             "count": 0,
             "items": [
              {
               "reasonName": "globalInteractionReason",
               "summary": "This spot is popular",
               "type": "general"
              }
             ]
            },
            "referralId": "e-0-4b646d31f964a52039b22ae3-16",
            "venue": {
             "categories": [
              {
               "icon": {
                "prefix": "https://ss3.4sqi.net/img/categories_v2/food/default_",
                "suffix": ".png"
               },
               "id": "52e81612bcbc57f1066b7a02",
               "name": "Belgian Restaurant",
               "pluralName": "Belgian Restaurants",
               "primary": true,
               "shortName": "Belgian"
              }
             ],
             "id": "4b646d31f964a52039b22ae3",
             "location": {
              "address": "Braderijstraat 24",
              "cc": "BE",
              "city": "Antwerpen",
              "country": "België",
              "distance": 155,
              "formattedAddress": [
               "Braderijstraat 24",
               "2000 Antwerpen",
               "België"
              ],
              "labeledLatLngs": [
               {
                "label": "display",
                "lat": 51.221641,
                "lng": 4.399419
               }
              ],
              "lat": 51.221641,
              "lng": 4.399419,
              "postalCode": "2000",
              "state": "Antwerpen"
             },
             "name": "De 7 Schaken",
             "photos": {
              "count": 0,
              "groups": []
             }
            }
           },
           {
            "reasons": {
             "count": 0,
             "items": [
              {
               "reasonName": "globalInteractionReason",
               "summary": "This spot is popular",
               "type": "general"
              }
             ]
            },
            "referralId": "e-0-4d84a78f5e70224b14bc1009-17",
            "venue": {
             "categories": [
              {
               "icon": {
                "prefix": "https://ss3.4sqi.net/img/categories_v2/food/cupcakes_",
                "suffix": ".png"
               },
               "id": "4bf58dd8d48988d1bc941735",
               "name": "Cupcake Shop",
               "pluralName": "Cupcake Shops",
               "primary": true,
               "shortName": "Cupcakes"
              }
             ],
             "id": "4d84a78f5e70224b14bc1009",
             "location": {
              "address": "Reynderstraat 37",
              "cc": "BE",
              "city": "Antwerpen",
              "country": "België",
              "distance": 299,
              "formattedAddress": [
               "Reynderstraat 37",
               "2000 Antwerpen",
               "België"
              ],
              "labeledLatLngs": [
               {
                "label": "display",
                "lat": 51.21908459021155,
                "lng": 4.399444977766275
               }
              ],
              "lat": 51.21908459021155,
              "lng": 4.399444977766275,
              "postalCode": "2000",
              "state": "Antwerpen"
             },
             "name": "MoMade Cupcakes",
             "photos": {
              "count": 0,
              "groups": []
             }
            }
           },
           {
            "reasons": {
             "count": 0,
             "items": [
              {
               "reasonName": "globalInteractionReason",
               "summary": "This spot is popular",
               "type": "general"
              }
             ]
            },
            "referralId": "e-0-4d1b6beb02a66dcb6cce6865-18",
            "venue": {
             "categories": [
              {
               "icon": {
                "prefix": "https://ss3.4sqi.net/img/categories_v2/nightlife/pub_",
                "suffix": ".png"
               },
               "id": "4bf58dd8d48988d116941735",
               "name": "Bar",
               "pluralName": "Bars",
               "primary": true,
               "shortName": "Bar"
              }
             ],
             "id": "4d1b6beb02a66dcb6cce6865",
             "location": {
              "address": "Vlasmarkt 19",
              "cc": "BE",
              "city": "Antwerpen",
              "country": "België",
              "distance": 173,
              "formattedAddress": [
               "Vlasmarkt 19",
               "2000 Antwerpen",
               "België"
              ],
              "labeledLatLngs": [
               {
                "label": "display",
                "lat": 51.21983601752845,
                "lng": 4.397457540035248
               }
              ],
              "lat": 51.21983601752845,
              "lng": 4.397457540035248,
              "postalCode": "2000",
              "state": "Antwerpen"
             },
             "name": "De Ware Jacob",
             "photos": {
              "count": 0,
              "groups": []
             }
            }
           },
           {
            "reasons": {
             "count": 0,
             "items": [
              {
               "reasonName": "globalInteractionReason",
               "summary": "This spot is popular",
               "type": "general"
              }
             ]
            },
            "referralId": "e-0-4c5355be6a4bb713e82b0a27-19",
            "venue": {
             "categories": [
              {
               "icon": {
                "prefix": "https://ss3.4sqi.net/img/categories_v2/nightlife/pub_",
                "suffix": ".png"
               },
               "id": "4bf58dd8d48988d11b941735",
               "name": "Pub",
               "pluralName": "Pubs",
               "primary": true,
               "shortName": "Pub"
              }
             ],
             "id": "4c5355be6a4bb713e82b0a27",
             "location": {
              "address": "Vlasmarkt 2",
              "cc": "BE",
              "city": "Antwerpen",
              "country": "België",
              "crossStreet": "Ernest Van Dijckkaai",
              "distance": 180,
              "formattedAddress": [
               "Vlasmarkt 2 (Ernest Van Dijckkaai)",
               "Antwerpen",
               "België"
              ],
              "labeledLatLngs": [
               {
                "label": "display",
                "lat": 51.219855517409556,
                "lng": 4.3963644947939216
               }
              ],
              "lat": 51.219855517409556,
              "lng": 4.3963644947939216,
              "state": "Antwerpen"
             },
             "name": "Café Beveren",
             "photos": {
              "count": 0,
              "groups": []
             }
            }
           },
           {
            "reasons": {
             "count": 0,
             "items": [
              {
               "reasonName": "globalInteractionReason",
               "summary": "This spot is popular",
               "type": "general"
              }
             ]
            },
            "referralId": "e-0-4b6545a1f964a52060eb2ae3-20",
            "venue": {
             "categories": [
              {
               "icon": {
                "prefix": "https://ss3.4sqi.net/img/categories_v2/food/french_",
                "suffix": ".png"
               },
               "id": "57558b36e4b065ecebd306b0",
               "name": "Brasserie",
               "pluralName": "Brasseries",
               "primary": true,
               "shortName": "Brasserie"
              }
             ],
             "id": "4b6545a1f964a52060eb2ae3",
             "location": {
              "address": "Papenstraatje 1",
              "cc": "BE",
              "city": "Antwerpen",
              "country": "België",
              "distance": 296,
              "formattedAddress": [
               "Papenstraatje 1",
               "2000 Antwerpen",
               "België"
              ],
              "labeledLatLngs": [
               {
                "label": "display",
                "lat": 51.21987928424813,
                "lng": 4.400716848069901
               }
              ],
              "lat": 51.21987928424813,
              "lng": 4.400716848069901,
              "postalCode": "2000",
              "state": "Antwerpen"
             },
             "name": "Brasserie Appelmans",
             "photos": {
              "count": 0,
              "groups": []
             },
             "venuePage": {
              "id": "33241867"
             }
            }
           },
           {
            "reasons": {
             "count": 0,
             "items": [
              {
               "reasonName": "globalInteractionReason",
               "summary": "This spot is popular",
               "type": "general"
              }
             ]
            },
            "referralId": "e-0-4bf9a9db5ec320a18aa58ad3-21",
            "venue": {
             "categories": [
              {
               "icon": {
                "prefix": "https://ss3.4sqi.net/img/categories_v2/nightlife/pub_",
                "suffix": ".png"
               },
               "id": "4bf58dd8d48988d116941735",
               "name": "Bar",
               "pluralName": "Bars",
               "primary": true,
               "shortName": "Bar"
              }
             ],
             "id": "4bf9a9db5ec320a18aa58ad3",
             "location": {
              "address": "Blauwmoezelstraat 8",
              "cc": "BE",
              "city": "Antwerpen",
              "country": "België",
              "distance": 278,
              "formattedAddress": [
               "Blauwmoezelstraat 8",
               "2000 Antwerpen",
               "België"
              ],
              "labeledLatLngs": [
               {
                "label": "display",
                "lat": 51.22062704638522,
                "lng": 4.401024404809856
               }
              ],
              "lat": 51.22062704638522,
              "lng": 4.401024404809856,
              "postalCode": "2000",
              "state": "Antwerpen"
             },
             "name": "Witzli-Poetzli",
             "photos": {
              "count": 0,
              "groups": []
             }
            }
           },
           {
            "reasons": {
             "count": 0,
             "items": [
              {
               "reasonName": "globalInteractionReason",
               "summary": "This spot is popular",
               "type": "general"
              }
             ]
            },
            "referralId": "e-0-4d9626d5744f3704fa02b357-22",
            "venue": {
             "categories": [
              {
               "icon": {
                "prefix": "https://ss3.4sqi.net/img/categories_v2/food/french_",
                "suffix": ".png"
               },
               "id": "4bf58dd8d48988d10c941735",
               "name": "French Restaurant",
               "pluralName": "French Restaurants",
               "primary": true,
               "shortName": "French"
              }
             ],
             "id": "4d9626d5744f3704fa02b357",
             "location": {
              "address": "Reyndersstraat 24",
              "cc": "BE",
              "city": "Antwerpen",
              "country": "België",
              "distance": 310,
              "formattedAddress": [
               "Reyndersstraat 24",
               "2000 Antwerpen",
               "België"
              ],
              "labeledLatLngs": [
               {
                "label": "display",
                "lat": 51.218954158818626,
                "lng": 4.399396405631926
               }
              ],
              "lat": 51.218954158818626,
              "lng": 4.399396405631926,
              "postalCode": "2000",
              "state": "Antwerpen"
             },
             "name": "'t Fornuis",
             "photos": {
              "count": 0,
              "groups": []
             }
            }
           },
           {
            "reasons": {
             "count": 0,
             "items": [
              {
               "reasonName": "globalInteractionReason",
               "summary": "This spot is popular",
               "type": "general"
              }
             ]
            },
            "referralId": "e-0-4bec3a85415e20a18d45e7bb-23",
            "venue": {
             "categories": [
              {
               "icon": {
                "prefix": "https://ss3.4sqi.net/img/categories_v2/food/indonesian_",
                "suffix": ".png"
               },
               "id": "4deefc054765f83613cdba6f",
               "name": "Indonesian Restaurant",
               "pluralName": "Indonesian Restaurants",
               "primary": true,
               "shortName": "Indonesian"
              }
             ],
             "id": "4bec3a85415e20a18d45e7bb",
             "location": {
              "address": "Oude Koornmarkt 61",
              "cc": "BE",
              "city": "Antwerpen",
              "country": "België",
              "distance": 331,
              "formattedAddress": [
               "Oude Koornmarkt 61",
               "2000 Antwerpen",
               "België"
              ],
              "labeledLatLngs": [
               {
                "label": "display",
                "lat": 51.219269716120465,
                "lng": 4.400557207871248
               }
              ],
              "lat": 51.219269716120465,
              "lng": 4.400557207871248,
              "postalCode": "2000",
              "state": "Antwerpen"
             },
             "name": "Kartini Indonesisch Restaurant",
             "photos": {
              "count": 0,
              "groups": []
             }
            }
           },
           {
            "reasons": {
             "count": 0,
             "items": [
              {
               "reasonName": "globalInteractionReason",
               "summary": "This spot is popular",
               "type": "general"
              }
             ]
            },
            "referralId": "e-0-4b921875f964a520f8e633e3-24",
            "venue": {
             "categories": [
              {
               "icon": {
                "prefix": "https://ss3.4sqi.net/img/categories_v2/building/religious_church_",
                "suffix": ".png"
               },
               "id": "4bf58dd8d48988d132941735",
               "name": "Church",
               "pluralName": "Churches",
               "primary": true,
               "shortName": "Church"
              }
             ],
             "id": "4b921875f964a520f8e633e3",
             "location": {
              "address": "Groenplaats 21",
              "cc": "BE",
              "city": "Antwerpen",
              "country": "België",
              "crossStreet": "Handschoenmarkt",
              "distance": 330,
              "formattedAddress": [
               "Groenplaats 21 (Handschoenmarkt)",
               "2000 Antwerpen",
               "België"
              ],
              "labeledLatLngs": [
               {
                "label": "display",
                "lat": 51.22028,
                "lng": 4.4016094
               }
              ],
              "lat": 51.22028,
              "lng": 4.4016094,
              "postalCode": "2000",
              "state": "Antwerpen"
             },
             "name": "Onze-Lieve-Vrouwekathedraal",
             "photos": {
              "count": 0,
              "groups": []
             }
            }
           },
           {
            "reasons": {
             "count": 0,
             "items": [
              {
               "reasonName": "globalInteractionReason",
               "summary": "This spot is popular",
               "type": "general"
              }
             ]
            },
            "referralId": "e-0-5c9951b7829b0c002cad6848-25",
            "venue": {
             "categories": [
              {
               "icon": {
                "prefix": "https://ss3.4sqi.net/img/categories_v2/nightlife/pub_",
                "suffix": ".png"
               },
               "id": "4bf58dd8d48988d116941735",
               "name": "Bar",
               "pluralName": "Bars",
               "primary": true,
               "shortName": "Bar"
              }
             ],
             "id": "5c9951b7829b0c002cad6848",
             "location": {
              "address": "Oude Koornmarkt",
              "cc": "BE",
              "city": "Antwerpen",
              "country": "België",
              "distance": 266,
              "formattedAddress": [
               "Oude Koornmarkt",
               "2000 Antwerpen",
               "België"
              ],
              "labeledLatLngs": [
               {
                "label": "display",
                "lat": 51.21985175002639,
                "lng": 4.4001568757008815
               }
              ],
              "lat": 51.21985175002639,
              "lng": 4.4001568757008815,
              "postalCode": "2000",
              "state": "Antwerpen"
             },
             "name": "Tram 3",
             "photos": {
              "count": 0,
              "groups": []
             }
            }
           },
           {
            "reasons": {
             "count": 0,
             "items": [
              {
               "reasonName": "globalInteractionReason",
               "summary": "This spot is popular",
               "type": "general"
              }
             ]
            },
            "referralId": "e-0-55159666498e69b180df09cc-26",
            "venue": {
             "categories": [
              {
               "icon": {
                "prefix": "https://ss3.4sqi.net/img/categories_v2/nightlife/pub_",
                "suffix": ".png"
               },
               "id": "4bf58dd8d48988d116941735",
               "name": "Bar",
               "pluralName": "Bars",
               "primary": true,
               "shortName": "Bar"
              }
             ],
             "id": "55159666498e69b180df09cc",
             "location": {
              "address": "Zwaluwstraat 69",
              "cc": "BE",
              "city": "Antwerpen",
              "country": "België",
              "distance": 344,
              "formattedAddress": [
               "Zwaluwstraat 69",
               "2000 Antwerpen",
               "België"
              ],
              "labeledLatLngs": [
               {
                "label": "display",
                "lat": 51.21909164318088,
                "lng": 4.400518117371707
               }
              ],
              "lat": 51.21909164318088,
              "lng": 4.400518117371707,
              "postalCode": "2000",
              "state": "Antwerpen"
             },
             "name": "Belmondo",
             "photos": {
              "count": 0,
              "groups": []
             }
            }
           },
           {
            "reasons": {
             "count": 0,
             "items": [
              {
               "reasonName": "globalInteractionReason",
               "summary": "This spot is popular",
               "type": "general"
              }
             ]
            },
            "referralId": "e-0-4b77225ff964a520c9802ee3-27",
            "venue": {
             "categories": [
              {
               "icon": {
                "prefix": "https://ss3.4sqi.net/img/categories_v2/nightlife/cocktails_",
                "suffix": ".png"
               },
               "id": "4bf58dd8d48988d11e941735",
               "name": "Cocktail Bar",
               "pluralName": "Cocktail Bars",
               "primary": true,
               "shortName": "Cocktail"
              }
             ],
             "id": "4b77225ff964a520c9802ee3",
             "location": {
              "address": "Lijnwaadmarkt 9",
              "cc": "BE",
              "city": "Antwerpen",
              "country": "België",
              "distance": 348,
              "formattedAddress": [
               "Lijnwaadmarkt 9",
               "2000 Antwerpen",
               "België"
              ],
              "labeledLatLngs": [
               {
                "label": "display",
                "lat": 51.22077235539168,
                "lng": 4.4021146735658405
               }
              ],
              "lat": 51.22077235539168,
              "lng": 4.4021146735658405,
              "postalCode": "2000",
              "state": "Antwerpen"
             },
             "name": "Cocktails at Nine",
             "photos": {
              "count": 0,
              "groups": []
             }
            }
           },
           {
            "reasons": {
             "count": 0,
             "items": [
              {
               "reasonName": "globalInteractionReason",
               "summary": "This spot is popular",
               "type": "general"
              }
             ]
            },
            "referralId": "e-0-57f64379498ecba9de7fed90-28",
            "venue": {
             "categories": [
              {
               "icon": {
                "prefix": "https://ss3.4sqi.net/img/categories_v2/building/medical_opticalshop_",
                "suffix": ".png"
               },
               "id": "4d954afda243a5684865b473",
               "name": "Optical Shop",
               "pluralName": "Optical Shops",
               "primary": true,
               "shortName": "Optical"
              }
             ],
             "id": "57f64379498ecba9de7fed90",
             "location": {
              "address": "Steenhouwersvest 15",
              "cc": "BE",
              "city": "Antwerpen",
              "country": "België",
              "distance": 355,
              "formattedAddress": [
               "Steenhouwersvest 15",
               "2000 Antwerpen",
               "België"
              ],
              "labeledLatLngs": [
               {
                "label": "display",
                "lat": 51.21821448019929,
                "lng": 4.397692402446751
               }
              ],
              "lat": 51.21821448019929,
              "lng": 4.397692402446751,
              "postalCode": "2000",
              "state": "Antwerpen"
             },
             "name": "Ace & Tate",
             "photos": {
              "count": 0,
              "groups": []
             }
            }
           },
           {
            "reasons": {
             "count": 0,
             "items": [
              {
               "reasonName": "globalInteractionReason",
               "summary": "This spot is popular",
               "type": "general"
              }
             ]
            },
            "referralId": "e-0-4ba4e871f964a520b0c138e3-29",
            "venue": {
             "categories": [
              {
               "icon": {
                "prefix": "https://ss3.4sqi.net/img/categories_v2/food/default_",
                "suffix": ".png"
               },
               "id": "52e81612bcbc57f1066b7a02",
               "name": "Belgian Restaurant",
               "pluralName": "Belgian Restaurants",
               "primary": true,
               "shortName": "Belgian"
              }
             ],
             "id": "4ba4e871f964a520b0c138e3",
             "location": {
              "address": "Kaasrui 5",
              "cc": "BE",
              "city": "Antwerpen",
              "country": "België",
              "distance": 325,
              "formattedAddress": [
               "Kaasrui 5",
               "2000 Antwerpen",
               "België"
              ],
              "labeledLatLngs": [
               {
                "label": "display",
                "lat": 51.22109707205255,
                "lng": 4.4018698571024215
               }
              ],
              "lat": 51.22109707205255,
              "lng": 4.4018698571024215,
              "postalCode": "2000",
              "state": "Antwerpen"
             },
             "name": "De Pottekijker",
             "photos": {
              "count": 0,
              "groups": []
             },
             "venuePage": {
              "id": "66090499"
             }
            }
           },
           {
            "reasons": {
             "count": 0,
             "items": [
              {
               "reasonName": "globalInteractionReason",
               "summary": "This spot is popular",
               "type": "general"
              }
             ]
            },
            "referralId": "e-0-4ba37d66f964a5208d4138e3-30",
            "venue": {
             "categories": [
              {
               "icon": {
                "prefix": "https://ss3.4sqi.net/img/categories_v2/food/coffeeshop_",
                "suffix": ".png"
               },
               "id": "4bf58dd8d48988d1e0931735",
               "name": "Coffee Shop",
               "pluralName": "Coffee Shops",
               "primary": true,
               "shortName": "Coffee Shop"
              }
             ],
             "id": "4ba37d66f964a5208d4138e3",
             "location": {
              "address": "Lijnwaadmarkt 11",
              "cc": "BE",
              "city": "Antwerpen",
              "country": "België",
              "distance": 352,
              "formattedAddress": [
               "Lijnwaadmarkt 11",
               "2000 Antwerpen",
               "België"
              ],
              "labeledLatLngs": [
               {
                "label": "display",
                "lat": 51.220625035221246,
                "lng": 4.402132028711696
               }
              ],
              "lat": 51.220625035221246,
              "lng": 4.402132028711696,
              "postalCode": "2000",
              "state": "Antwerpen"
             },
             "name": "Quetzal",
             "photos": {
              "count": 0,
              "groups": []
             },
             "venuePage": {
              "id": "51162316"
             }
            }
           },
           {
            "reasons": {
             "count": 0,
             "items": [
              {
               "reasonName": "globalInteractionReason",
               "summary": "This spot is popular",
               "type": "general"
              }
             ]
            },
            "referralId": "e-0-4c3950d76ec69c745fec04a9-31",
            "venue": {
             "categories": [
              {
               "icon": {
                "prefix": "https://ss3.4sqi.net/img/categories_v2/arts_entertainment/museum_art_",
                "suffix": ".png"
               },
               "id": "4bf58dd8d48988d18f941735",
               "name": "Art Museum",
               "pluralName": "Art Museums",
               "primary": true,
               "shortName": "Art Museum"
              }
             ],
             "id": "4c3950d76ec69c745fec04a9",
             "location": {
              "address": "Vrijdagmarkt 22",
              "cc": "BE",
              "city": "Antwerpen",
              "country": "België",
              "distance": 329,
              "formattedAddress": [
               "Vrijdagmarkt 22",
               "2000 Antwerpen",
               "België"
              ],
              "labeledLatLngs": [
               {
                "label": "display",
                "lat": 51.218477418052345,
                "lng": 4.398078162027128
               }
              ],
              "lat": 51.218477418052345,
              "lng": 4.398078162027128,
              "postalCode": "2000",
              "state": "Antwerpen"
             },
             "name": "Museum Plantin-Moretus / Prentenkabinet (Museum Plantin-Moretus)",
             "photos": {
              "count": 0,
              "groups": []
             },
             "venuePage": {
              "id": "64214995"
             }
            }
           },
           {
            "reasons": {
             "count": 0,
             "items": [
              {
               "reasonName": "globalInteractionReason",
               "summary": "This spot is popular",
               "type": "general"
              }
             ]
            },
            "referralId": "e-0-4b17cb0df964a5203fc823e3-32",
            "venue": {
             "categories": [
              {
               "icon": {
                "prefix": "https://ss3.4sqi.net/img/categories_v2/food/sushi_",
                "suffix": ".png"
               },
               "id": "4bf58dd8d48988d1d2941735",
               "name": "Sushi Restaurant",
               "pluralName": "Sushi Restaurants",
               "primary": true,
               "shortName": "Sushi"
              }
             ],
             "id": "4b17cb0df964a5203fc823e3",
             "location": {
              "address": "Groenplaats 8",
              "cc": "BE",
              "city": "Antwerpen",
              "country": "België",
              "distance": 353,
              "formattedAddress": [
               "Groenplaats 8",
               "2000 Antwerpen",
               "België"
              ],
              "labeledLatLngs": [
               {
                "label": "display",
                "lat": 51.21933575896549,
                "lng": 4.401081374008544
               }
              ],
              "lat": 51.21933575896549,
              "lng": 4.401081374008544,
              "postalCode": "2000",
              "state": "Antwerpen"
             },
             "name": "Umi Sushi & Asian Cuisine",
             "photos": {
              "count": 0,
              "groups": []
             }
            }
           },
           {
            "reasons": {
             "count": 0,
             "items": [
              {
               "reasonName": "globalInteractionReason",
               "summary": "This spot is popular",
               "type": "general"
              }
             ]
            },
            "referralId": "e-0-51dab816498e60ca1e7195db-33",
            "venue": {
             "categories": [
              {
               "icon": {
                "prefix": "https://ss3.4sqi.net/img/categories_v2/nightlife/pub_",
                "suffix": ".png"
               },
               "id": "4bf58dd8d48988d116941735",
               "name": "Bar",
               "pluralName": "Bars",
               "primary": true,
               "shortName": "Bar"
              }
             ],
             "id": "51dab816498e60ca1e7195db",
             "location": {
              "address": "Kaasrui 1",
              "cc": "BE",
              "city": "Antwerpen",
              "country": "België",
              "distance": 308,
              "formattedAddress": [
               "Kaasrui 1",
               "2000 Antwerpen",
               "België"
              ],
              "labeledLatLngs": [
               {
                "label": "display",
                "lat": 51.22108792663166,
                "lng": 4.401614832862303
               }
              ],
              "lat": 51.22108792663166,
              "lng": 4.401614832862303,
              "postalCode": "2000",
              "state": "Antwerpen"
             },
             "name": "Cabron",
             "photos": {
              "count": 0,
              "groups": []
             }
            }
           },
           {
            "reasons": {
             "count": 0,
             "items": [
              {
               "reasonName": "globalInteractionReason",
               "summary": "This spot is popular",
               "type": "general"
              }
             ]
            },
            "referralId": "e-0-52ab569211d2ff27b587ab2b-34",
            "venue": {
             "categories": [
              {
               "icon": {
                "prefix": "https://ss3.4sqi.net/img/categories_v2/nightlife/pub_",
                "suffix": ".png"
               },
               "id": "56aa371ce4b08b9a8d57356c",
               "name": "Beer Bar",
               "pluralName": "Beer Bars",
               "primary": true,
               "shortName": "Beer Bar"
              }
             ],
             "id": "52ab569211d2ff27b587ab2b",
             "location": {
              "address": "Kammenstraat 12",
              "cc": "BE",
              "city": "Antwerpen",
              "country": "België",
              "crossStreet": "Bergstraat",
              "distance": 394,
              "formattedAddress": [
               "Kammenstraat 12 (Bergstraat)",
               "2000 Antwerpen",
               "België"
              ],
              "labeledLatLngs": [
               {
                "label": "display",
                "lat": 51.218431696680476,
                "lng": 4.400341403913909
               }
              ],
              "lat": 51.218431696680476,
              "lng": 4.400341403913909,
              "postalCode": "2000",
              "state": "Antwerpen"
             },
             "name": "Billie's Bier Kafétaria",
             "photos": {
              "count": 0,
              "groups": []
             }
            }
           },
           {
            "reasons": {
             "count": 0,
             "items": [
              {
               "reasonName": "globalInteractionReason",
               "summary": "This spot is popular",
               "type": "general"
              }
             ]
            },
            "referralId": "e-0-52af56be498e02a4eeddab4d-35",
            "venue": {
             "categories": [
              {
               "icon": {
                "prefix": "https://ss3.4sqi.net/img/categories_v2/nightlife/cocktails_",
                "suffix": ".png"
               },
               "id": "4bf58dd8d48988d11e941735",
               "name": "Cocktail Bar",
               "pluralName": "Cocktail Bars",
               "primary": true,
               "shortName": "Cocktail"
              }
             ],
             "id": "52af56be498e02a4eeddab4d",
             "location": {
              "address": "Wijngaardstraat 5",
              "cc": "BE",
              "city": "Antwerpen",
              "country": "België",
              "distance": 393,
              "formattedAddress": [
               "Wijngaardstraat 5",
               "2000 Antwerpen",
               "België"
              ],
              "labeledLatLngs": [
               {
                "label": "display",
                "lat": 51.22114647843799,
                "lng": 4.402854277962921
               }
              ],
              "lat": 51.22114647843799,
              "lng": 4.402854277962921,
              "postalCode": "2000",
              "state": "Antwerpen"
             },
             "name": "Dogma Cocktails",
             "photos": {
              "count": 0,
              "groups": []
             },
             "venuePage": {
              "id": "85365626"
             }
            }
           },
           {
            "reasons": {
             "count": 0,
             "items": [
              {
               "reasonName": "globalInteractionReason",
               "summary": "This spot is popular",
               "type": "general"
              }
             ]
            },
            "referralId": "e-0-56b673ef498e2c32d25b4034-36",
            "venue": {
             "categories": [
              {
               "icon": {
                "prefix": "https://ss3.4sqi.net/img/categories_v2/food/default_",
                "suffix": ".png"
               },
               "id": "52e81612bcbc57f1066b7a02",
               "name": "Belgian Restaurant",
               "pluralName": "Belgian Restaurants",
               "primary": true,
               "shortName": "Belgian"
              }
             ],
             "id": "56b673ef498e2c32d25b4034",
             "location": {
              "address": "Ernest Van Dijckkaai 37",
              "cc": "BE",
              "city": "Antwerpen",
              "country": "België",
              "distance": 314,
              "formattedAddress": [
               "Ernest Van Dijckkaai 37",
               "2000 Antwerpen",
               "België"
              ],
              "labeledLatLngs": [
               {
                "label": "display",
                "lat": 51.2191165611552,
                "lng": 4.394538086094428
               }
              ],
              "lat": 51.2191165611552,
              "lng": 4.394538086094428,
              "postalCode": "2000",
              "state": "Antwerpen"
             },
             "name": "RAS | Restaurant Aan de Stroom",
             "photos": {
              "count": 0,
              "groups": []
             }
            }
           },
           {
            "reasons": {
             "count": 0,
             "items": [
              {
               "reasonName": "globalInteractionReason",
               "summary": "This spot is popular",
               "type": "general"
              }
             ]
            },
            "referralId": "e-0-4da74c0a6a230db30ed59266-37",
            "venue": {
             "categories": [
              {
               "icon": {
                "prefix": "https://ss3.4sqi.net/img/categories_v2/nightlife/cocktails_",
                "suffix": ".png"
               },
               "id": "4bf58dd8d48988d11e941735",
               "name": "Cocktail Bar",
               "pluralName": "Cocktail Bars",
               "primary": true,
               "shortName": "Cocktail"
              }
             ],
             "id": "4da74c0a6a230db30ed59266",
             "location": {
              "address": "Grote Pieter Potstraat 16A",
              "cc": "BE",
              "city": "Antwerpen",
              "country": "België",
              "crossStreet": "Haarstraat",
              "distance": 90,
              "formattedAddress": [
               "Grote Pieter Potstraat 16A (Haarstraat)",
               "2000 Antwerpen",
               "België"
              ],
              "labeledLatLngs": [
               {
                "label": "display",
                "lat": 51.22057878002097,
                "lng": 4.397306327006305
               }
              ],
              "lat": 51.22057878002097,
              "lng": 4.397306327006305,
              "postalCode": "2000",
              "state": "Antwerpen"
             },
             "name": "Café De Vuile Was",
             "photos": {
              "count": 0,
              "groups": []
             }
            }
           },
           {
            "reasons": {
             "count": 0,
             "items": [
              {
               "reasonName": "globalInteractionReason",
               "summary": "This spot is popular",
               "type": "general"
              }
             ]
            },
            "referralId": "e-0-4b731011f964a520f5982de3-38",
            "venue": {
             "categories": [
              {
               "icon": {
                "prefix": "https://ss3.4sqi.net/img/categories_v2/nightlife/pub_",
                "suffix": ".png"
               },
               "id": "4bf58dd8d48988d116941735",
               "name": "Bar",
               "pluralName": "Bars",
               "primary": true,
               "shortName": "Bar"
              }
             ],
             "id": "4b731011f964a520f5982de3",
             "location": {
              "address": "Grote Markt 50",
              "cc": "BE",
              "city": "Antwerpen",
              "country": "België",
              "distance": 267,
              "formattedAddress": [
               "Grote Markt 50",
               "2000 Antwerpen",
               "België"
              ],
              "labeledLatLngs": [
               {
                "label": "display",
                "lat": 51.22125232576326,
                "lng": 4.4010544303465275
               }
              ],
              "lat": 51.22125232576326,
              "lng": 4.4010544303465275,
              "postalCode": "2000",
              "state": "Antwerpen"
             },
             "name": "Kid's Rhythm 'n Blues Kaffee",
             "photos": {
              "count": 0,
              "groups": []
             }
            }
           },
           {
            "reasons": {
             "count": 0,
             "items": [
              {
               "reasonName": "globalInteractionReason",
               "summary": "This spot is popular",
               "type": "general"
              }
             ]
            },
            "referralId": "e-0-51699c8190e7db90a2904ec9-39",
            "venue": {
             "categories": [
              {
               "icon": {
                "prefix": "https://ss3.4sqi.net/img/categories_v2/food/frozenyogurt_",
                "suffix": ".png"
               },
               "id": "512e7cae91d4cbb4e5efe0af",
               "name": "Frozen Yogurt Shop",
               "pluralName": "Frozen Yogurt Shops",
               "primary": true,
               "shortName": "Yogurt"
              }
             ],
             "id": "51699c8190e7db90a2904ec9",
             "location": {
              "address": "Melkmarkt 27",
              "cc": "BE",
              "city": "Antwerpen",
              "country": "België",
              "distance": 420,
              "formattedAddress": [
               "Melkmarkt 27",
               "2000 Antwerpen",
               "België"
              ],
              "labeledLatLngs": [
               {
                "label": "display",
                "lat": 51.220036,
                "lng": 4.40285
               }
              ],
              "lat": 51.220036,
              "lng": 4.40285,
              "postalCode": "2000",
              "state": "Antwerpen"
             },
             "name": "Moochie Frozen Yoghurt",
             "photos": {
              "count": 0,
              "groups": []
             }
            }
           },
           {
            "reasons": {
             "count": 0,
             "items": [
              {
               "reasonName": "globalInteractionReason",
               "summary": "This spot is popular",
               "type": "general"
              }
             ]
            },
            "referralId": "e-0-4b294ba0f964a520769c24e3-40",
            "venue": {
             "categories": [
              {
               "icon": {
                "prefix": "https://ss3.4sqi.net/img/categories_v2/arts_entertainment/musicvenue_jazzclub_",
                "suffix": ".png"
               },
               "id": "4bf58dd8d48988d1e7931735",
               "name": "Jazz Club",
               "pluralName": "Jazz Clubs",
               "primary": true,
               "shortName": "Jazz Club"
              }
             ],
             "id": "4b294ba0f964a520769c24e3",
             "location": {
              "address": "Melkmarkt 15",
              "cc": "BE",
              "city": "Antwerpen",
              "country": "België",
              "distance": 392,
              "formattedAddress": [
               "Melkmarkt 15",
               "2000 Antwerpen",
               "België"
              ],
              "labeledLatLngs": [
               {
                "label": "display",
                "lat": 51.220569013500956,
                "lng": 4.402699301467771
               }
              ],
              "lat": 51.220569013500956,
              "lng": 4.402699301467771,
              "postalCode": "2000",
              "state": "Antwerpen"
             },
             "name": "De Muze",
             "photos": {
              "count": 0,
              "groups": []
             }
            }
           },
           {
            "reasons": {
             "count": 0,
             "items": [
              {
               "reasonName": "globalInteractionReason",
               "summary": "This spot is popular",
               "type": "general"
              }
             ]
            },
            "referralId": "e-0-523da72a11d2ba039fccffde-41",
            "venue": {
             "categories": [
              {
               "icon": {
                "prefix": "https://ss3.4sqi.net/img/categories_v2/food/coffeeshop_",
                "suffix": ".png"
               },
               "id": "4bf58dd8d48988d1e0931735",
               "name": "Coffee Shop",
               "pluralName": "Coffee Shops",
               "primary": true,
               "shortName": "Coffee Shop"
              }
             ],
             "id": "523da72a11d2ba039fccffde",
             "location": {
              "address": "Oever 18",
              "cc": "BE",
              "city": "Antwerpen",
              "country": "België",
              "distance": 422,
              "formattedAddress": [
               "Oever 18",
               "2000 Antwerpen",
               "België"
              ],
              "labeledLatLngs": [
               {
                "label": "display",
                "lat": 51.21763573122324,
                "lng": 4.396331308274219
               }
              ],
              "lat": 51.21763573122324,
              "lng": 4.396331308274219,
              "postalCode": "2000",
              "state": "Antwerpen"
             },
             "name": "Me & My Monkey",
             "photos": {
              "count": 0,
              "groups": []
             }
            }
           },
           {
            "reasons": {
             "count": 0,
             "items": [
              {
               "reasonName": "globalInteractionReason",
               "summary": "This spot is popular",
               "type": "general"
              }
             ]
            },
            "referralId": "e-0-5f884bfe6b425a1103c1af79-42",
            "venue": {
             "categories": [
              {
               "icon": {
                "prefix": "https://ss3.4sqi.net/img/categories_v2/food/italian_",
                "suffix": ".png"
               },
               "id": "4bf58dd8d48988d110941735",
               "name": "Italian Restaurant",
               "pluralName": "Italian Restaurants",
               "primary": true,
               "shortName": "Italian"
              }
             ],
             "id": "5f884bfe6b425a1103c1af79",
             "location": {
              "address": "Jan Blomstraat 8",
              "cc": "BE",
              "city": "Antwerpen",
              "country": "België",
              "crossStreet": "Papenstraatje",
              "distance": 284,
              "formattedAddress": [
               "Jan Blomstraat 8 (Papenstraatje)",
               "2000 Antwerpen",
               "België"
              ],
              "labeledLatLngs": [
               {
                "label": "display",
                "lat": 51.219929,
                "lng": 4.4005703
               }
              ],
              "lat": 51.219929,
              "lng": 4.4005703,
              "postalCode": "2000",
              "state": "Antwerpen"
             },
             "name": "Da Giovanni",
             "photos": {
              "count": 0,
              "groups": []
             },
             "venuePage": {
              "id": "595587628"
             }
            }
           },
           {
            "reasons": {
             "count": 0,
             "items": [
              {
               "reasonName": "globalInteractionReason",
               "summary": "This spot is popular",
               "type": "general"
              }
             ]
            },
            "referralId": "e-0-55be01b2498e2ff94912d6bb-43",
            "venue": {
             "categories": [
              {
               "icon": {
                "prefix": "https://ss3.4sqi.net/img/categories_v2/food/winery_",
                "suffix": ".png"
               },
               "id": "4bf58dd8d48988d123941735",
               "name": "Wine Bar",
               "pluralName": "Wine Bars",
               "primary": true,
               "shortName": "Wine Bar"
              }
             ],
             "id": "55be01b2498e2ff94912d6bb",
             "location": {
              "address": "Vrijdagmarkt 21",
              "cc": "BE",
              "city": "Antwerpen",
              "country": "België",
              "distance": 350,
              "formattedAddress": [
               "Vrijdagmarkt 21",
               "2000 Antwerpen",
               "België"
              ],
              "labeledLatLngs": [
               {
                "label": "display",
                "lat": 51.21832832369206,
                "lng": 4.398399152487239
               }
              ],
              "lat": 51.21832832369206,
              "lng": 4.398399152487239,
              "postalCode": "2000",
              "state": "Antwerpen"
             },
             "name": "Pinot",
             "photos": {
              "count": 0,
              "groups": []
             }
            }
           },
           {
            "reasons": {
             "count": 0,
             "items": [
              {
               "reasonName": "globalInteractionReason",
               "summary": "This spot is popular",
               "type": "general"
              }
             ]
            },
            "referralId": "e-0-4cf188ede3b9a093aa493f53-44",
            "venue": {
             "categories": [
              {
               "icon": {
                "prefix": "https://ss3.4sqi.net/img/categories_v2/food/default_",
                "suffix": ".png"
               },
               "id": "52e81612bcbc57f1066b7a02",
               "name": "Belgian Restaurant",
               "pluralName": "Belgian Restaurants",
               "primary": true,
               "shortName": "Belgian"
              }
             ],
             "id": "4cf188ede3b9a093aa493f53",
             "location": {
              "address": "Torfbrug 10",
              "cc": "BE",
              "city": "Antwerpen",
              "country": "België",
              "crossStreet": "Blauwmoezelstraat",
              "distance": 304,
              "formattedAddress": [
               "Torfbrug 10 (Blauwmoezelstraat)",
               "2000 Antwerpen",
               "België"
              ],
              "labeledLatLngs": [
               {
                "label": "display",
                "lat": 51.22076334533789,
                "lng": 4.401472806930542
               }
              ],
              "lat": 51.22076334533789,
              "lng": 4.401472806930542,
              "postalCode": "2000",
              "state": "Antwerpen"
             },
             "name": "Elfde Gebod",
             "photos": {
              "count": 0,
              "groups": []
             }
            }
           },
           {
            "reasons": {
             "count": 0,
             "items": [
              {
               "reasonName": "globalInteractionReason",
               "summary": "This spot is popular",
               "type": "general"
              }
             ]
            },
            "referralId": "e-0-4c9dea7b03133704fe4163d5-45",
            "venue": {
             "categories": [
              {
               "icon": {
                "prefix": "https://ss3.4sqi.net/img/categories_v2/shops/bookstore_",
                "suffix": ".png"
               },
               "id": "4bf58dd8d48988d114951735",
               "name": "Bookstore",
               "pluralName": "Bookstores",
               "primary": true,
               "shortName": "Bookstore"
              }
             ],
             "id": "4c9dea7b03133704fe4163d5",
             "location": {
              "address": "Wolstraat 7",
              "cc": "BE",
              "city": "Antwerpen",
              "country": "België",
              "crossStreet": "Lange koepoortstraat",
              "distance": 385,
              "formattedAddress": [
               "Wolstraat 7 (Lange koepoortstraat)",
               "2000 Antwerpen",
               "België"
              ],
              "labeledLatLngs": [
               {
                "label": "display",
                "lat": 51.22164951794753,
                "lng": 4.402729143969631
               }
              ],
              "lat": 51.22164951794753,
              "lng": 4.402729143969631,
              "postalCode": "2000",
              "state": "Antwerpen"
             },
             "name": "De Groene Waterman",
             "photos": {
              "count": 0,
              "groups": []
             },
             "venuePage": {
              "id": "38462906"
             }
            }
           },
           {
            "reasons": {
             "count": 0,
             "items": [
              {
               "reasonName": "globalInteractionReason",
               "summary": "This spot is popular",
               "type": "general"
              }
             ]
            },
            "referralId": "e-0-4b3b3278f964a520657125e3-46",
            "venue": {
             "categories": [
              {
               "icon": {
                "prefix": "https://ss3.4sqi.net/img/categories_v2/parks_outdoors/plaza_",
                "suffix": ".png"
               },
               "id": "4bf58dd8d48988d164941735",
               "name": "Plaza",
               "pluralName": "Plazas",
               "primary": true,
               "shortName": "Plaza"
              }
             ],
             "id": "4b3b3278f964a520657125e3",
             "location": {
              "address": "Groenplaats",
              "cc": "BE",
              "city": "Antwerpen",
              "country": "België",
              "distance": 414,
              "formattedAddress": [
               "Groenplaats",
               "2000 Antwerpen",
               "België"
              ],
              "labeledLatLngs": [
               {
                "label": "display",
                "lat": 51.2188059938768,
                "lng": 4.401491509160746
               }
              ],
              "lat": 51.2188059938768,
              "lng": 4.401491509160746,
              "postalCode": "2000",
              "state": "Antwerpen"
             },
             "name": "Groenplaats",
             "photos": {
              "count": 0,
              "groups": []
             }
            }
           },
           {
            "reasons": {
             "count": 0,
             "items": [
              {
               "reasonName": "globalInteractionReason",
               "summary": "This spot is popular",
               "type": "general"
              }
             ]
            },
            "referralId": "e-0-5277bf5911d2e64d5ba5048a-47",
            "venue": {
             "categories": [
              {
               "icon": {
                "prefix": "https://ss3.4sqi.net/img/categories_v2/food/coffeeshop_",
                "suffix": ".png"
               },
               "id": "4bf58dd8d48988d1e0931735",
               "name": "Coffee Shop",
               "pluralName": "Coffee Shops",
               "primary": true,
               "shortName": "Coffee Shop"
              }
             ],
             "id": "5277bf5911d2e64d5ba5048a",
             "location": {
              "address": "Korte Koepoortstraat 2",
              "cc": "BE",
              "city": "Antwerpen",
              "country": "België",
              "distance": 363,
              "formattedAddress": [
               "Korte Koepoortstraat 2",
               "2000 Antwerpen",
               "België"
              ],
              "labeledLatLngs": [
               {
                "label": "display",
                "lat": 51.22148123364994,
                "lng": 4.4024344143928245
               }
              ],
              "lat": 51.22148123364994,
              "lng": 4.4024344143928245,
              "postalCode": "2000",
              "state": "Antwerpen"
             },
             "name": "Tartoer",
             "photos": {
              "count": 0,
              "groups": []
             },
             "venuePage": {
              "id": "76317774"
             }
            }
           },
           {
            "reasons": {
             "count": 0,
             "items": [
              {
               "reasonName": "globalInteractionReason",
               "summary": "This spot is popular",
               "type": "general"
              }
             ]
            },
            "referralId": "e-0-591eab68eacf45502c93ec92-48",
            "venue": {
             "categories": [
              {
               "icon": {
                "prefix": "https://ss3.4sqi.net/img/categories_v2/food/burger_",
                "suffix": ".png"
               },
               "id": "4bf58dd8d48988d16c941735",
               "name": "Burger Joint",
               "pluralName": "Burger Joints",
               "primary": true,
               "shortName": "Burgers"
              }
             ],
             "id": "591eab68eacf45502c93ec92",
             "location": {
              "address": "Groenplaats 1",
              "cc": "BE",
              "city": "Antwerpen",
              "country": "België",
              "distance": 395,
              "formattedAddress": [
               "Groenplaats 1",
               "2000 Antwerpen",
               "België"
              ],
              "labeledLatLngs": [
               {
                "label": "display",
                "lat": 51.2187,
                "lng": 4.40092
               }
              ],
              "lat": 51.2187,
              "lng": 4.40092,
              "postalCode": "2000",
              "state": "Antwerpen"
             },
             "name": "Manhattn's Burgers",
             "photos": {
              "count": 0,
              "groups": []
             }
            }
           },
           {
            "reasons": {
             "count": 0,
             "items": [
              {
               "reasonName": "globalInteractionReason",
               "summary": "This spot is popular",
               "type": "general"
              }
             ]
            },
            "referralId": "e-0-5631070b498ecd79b27d4420-49",
            "venue": {
             "categories": [
              {
               "icon": {
                "prefix": "https://ss3.4sqi.net/img/categories_v2/food/french_",
                "suffix": ".png"
               },
               "id": "4bf58dd8d48988d10c941735",
               "name": "French Restaurant",
               "pluralName": "French Restaurants",
               "primary": true,
               "shortName": "French"
              }
             ],
             "id": "5631070b498ecd79b27d4420",
             "location": {
              "address": "Lange Koepoortstraat 11",
              "cc": "BE",
              "city": "Antwerpen",
              "country": "België",
              "distance": 434,
              "formattedAddress": [
               "Lange Koepoortstraat 11",
               "2000 Antwerpen",
               "België"
              ],
              "labeledLatLngs": [
               {
                "label": "display",
                "lat": 51.22323704770704,
                "lng": 4.402718251718127
               }
              ],
              "lat": 51.22323704770704,
              "lng": 4.402718251718127,
              "postalCode": "2000",
              "state": "Antwerpen"
             },
             "name": "Marché-Couverts",
             "photos": {
              "count": 0,
              "groups": []
             }
            }
           },
           {
            "reasons": {
             "count": 0,
             "items": [
              {
               "reasonName": "globalInteractionReason",
               "summary": "This spot is popular",
               "type": "general"
              }
             ]
            },
            "referralId": "e-0-58d57ba244689a1e9b207699-50",
            "venue": {
             "categories": [
              {
               "icon": {
                "prefix": "https://ss3.4sqi.net/img/categories_v2/arts_entertainment/default_",
                "suffix": ".png"
               },
               "id": "5f2c2834b6d05514c704451e",
               "name": "Escape Room",
               "pluralName": "Escape Rooms",
               "primary": true,
               "shortName": "Escape Room"
              }
             ],
             "id": "58d57ba244689a1e9b207699",
             "location": {
              "cc": "BE",
              "city": "Antwerpen",
              "country": "België",
              "distance": 286,
              "formattedAddress": [
               "2000 Antwerpen",
               "België"
              ],
              "labeledLatLngs": [
               {
                "label": "display",
                "lat": 51.21911821564856,
                "lng": 4.399165041471609
               }
              ],
              "lat": 51.21911821564856,
              "lng": 4.399165041471609,
              "postalCode": "2000",
              "state": "Antwerpen"
             },
             "name": "Escaping Antwerp",
             "photos": {
              "count": 0,
              "groups": []
             }
            }
           },
           {
            "reasons": {
             "count": 0,
             "items": [
              {
               "reasonName": "globalInteractionReason",
               "summary": "This spot is popular",
               "type": "general"
              }
             ]
            },
            "referralId": "e-0-4e22e3891f6effe84f7fc2e9-51",
            "venue": {
             "categories": [
              {
               "icon": {
                "prefix": "https://ss3.4sqi.net/img/categories_v2/building/religious_church_",
                "suffix": ".png"
               },
               "id": "4bf58dd8d48988d132941735",
               "name": "Church",
               "pluralName": "Churches",
               "primary": true,
               "shortName": "Church"
              }
             ],
             "id": "4e22e3891f6effe84f7fc2e9",
             "location": {
              "address": "Sint-Paulusstraat 22",
              "cc": "BE",
              "city": "Antwerpen",
              "country": "België",
              "distance": 410,
              "formattedAddress": [
               "Sint-Paulusstraat 22",
               "2000 Antwerpen",
               "België"
              ],
              "labeledLatLngs": [
               {
                "label": "display",
                "lat": 51.22405420031056,
                "lng": 4.401290416717529
               }
              ],
              "lat": 51.22405420031056,
              "lng": 4.401290416717529,
              "postalCode": "2000",
              "state": "Antwerpen"
             },
             "name": "Sint-Pauluskerk",
             "photos": {
              "count": 0,
              "groups": []
             }
            }
           },
           {
            "reasons": {
             "count": 0,
             "items": [
              {
               "reasonName": "globalInteractionReason",
               "summary": "This spot is popular",
               "type": "general"
              }
             ]
            },
            "referralId": "e-0-4d7256e75f0037049455dea0-52",
            "venue": {
             "categories": [
              {
               "icon": {
                "prefix": "https://ss3.4sqi.net/img/categories_v2/shops/default_",
                "suffix": ".png"
               },
               "id": "52f2ab2ebcbc57f1066b8b2c",
               "name": "Herbs & Spices Store",
               "pluralName": "Herbs & Spices Stores",
               "primary": true,
               "shortName": "Herbs & Spices Store"
              }
             ],
             "id": "4d7256e75f0037049455dea0",
             "location": {
              "address": "Vleminckstraat 9",
              "cc": "BE",
              "city": "Antwerpen",
              "country": "België",
              "distance": 463,
              "formattedAddress": [
               "Vleminckstraat 9",
               "2000 Antwerpen",
               "België"
              ],
              "labeledLatLngs": [
               {
                "label": "display",
                "lat": 51.21994745190665,
                "lng": 4.403460857335856
               }
              ],
              "lat": 51.21994745190665,
              "lng": 4.403460857335856,
              "postalCode": "2000",
              "state": "Antwerpen"
             },
             "name": "Dille & Kamille",
             "photos": {
              "count": 0,
              "groups": []
             }
            }
           },
           {
            "reasons": {
             "count": 0,
             "items": [
              {
               "reasonName": "globalInteractionReason",
               "summary": "This spot is popular",
               "type": "general"
              }
             ]
            },
            "referralId": "e-0-5817a69938fa17eb2409da61-53",
            "venue": {
             "categories": [
              {
               "icon": {
                "prefix": "https://ss3.4sqi.net/img/categories_v2/food/default_",
                "suffix": ".png"
               },
               "id": "52e81612bcbc57f1066b7a02",
               "name": "Belgian Restaurant",
               "pluralName": "Belgian Restaurants",
               "primary": true,
               "shortName": "Belgian"
              }
             ],
             "id": "5817a69938fa17eb2409da61",
             "location": {
              "address": "Lange Koepoortstraat 13",
              "cc": "BE",
              "city": "Antwerpen",
              "country": "België",
              "distance": 430,
              "formattedAddress": [
               "Lange Koepoortstraat 13",
               "2000 Antwerpen",
               "België"
              ],
              "labeledLatLngs": [
               {
                "label": "display",
                "lat": 51.223127849853,
                "lng": 4.402728558710872
               }
              ],
              "lat": 51.223127849853,
              "lng": 4.402728558710872,
              "postalCode": "2000",
              "state": "Antwerpen"
             },
             "name": "Restaurant Nathan",
             "photos": {
              "count": 0,
              "groups": []
             }
            }
           },
           {
            "reasons": {
             "count": 0,
             "items": [
              {
               "reasonName": "globalInteractionReason",
               "summary": "This spot is popular",
               "type": "general"
              }
             ]
            },
            "referralId": "e-0-582dfd0a92ca4c169a8ee758-54",
            "venue": {
             "categories": [
              {
               "icon": {
                "prefix": "https://ss3.4sqi.net/img/categories_v2/food/vietnamese_",
                "suffix": ".png"
               },
               "id": "4bf58dd8d48988d14a941735",
               "name": "Vietnamese Restaurant",
               "pluralName": "Vietnamese Restaurants",
               "primary": true,
               "shortName": "Vietnamese"
              }
             ],
             "id": "582dfd0a92ca4c169a8ee758",
             "location": {
              "address": "Muntstraat 4",
              "cc": "BE",
              "city": "Antwerpen",
              "country": "België",
              "distance": 474,
              "formattedAddress": [
               "Muntstraat 4",
               "2000 Antwerpen",
               "België"
              ],
              "labeledLatLngs": [
               {
                "label": "display",
                "lat": 51.217141819121,
                "lng": 4.396581606195229
               }
              ],
              "lat": 51.217141819121,
              "lng": 4.396581606195229,
              "postalCode": "2000",
              "state": "Antwerpen"
             },
             "name": "Camino",
             "photos": {
              "count": 0,
              "groups": []
             }
            }
           },
           {
            "reasons": {
             "count": 0,
             "items": [
              {
               "reasonName": "globalInteractionReason",
               "summary": "This spot is popular",
               "type": "general"
              }
             ]
            },
            "referralId": "e-0-4bf6d4f35ec320a11ad885d3-55",
            "venue": {
             "categories": [
              {
               "icon": {
                "prefix": "https://ss3.4sqi.net/img/categories_v2/parks_outdoors/plaza_",
                "suffix": ".png"
               },
               "id": "4bf58dd8d48988d164941735",
               "name": "Plaza",
               "pluralName": "Plazas",
               "primary": true,
               "shortName": "Plaza"
              }
             ],
             "id": "4bf6d4f35ec320a11ad885d3",
             "location": {
              "address": "Hendrik Conscienceplein",
              "cc": "BE",
              "city": "Antwerpen",
              "country": "België",
              "distance": 486,
              "formattedAddress": [
               "Hendrik Conscienceplein",
               "2000 Antwerpen",
               "België"
              ],
              "labeledLatLngs": [
               {
                "label": "display",
                "lat": 51.22103608246193,
                "lng": 4.40418010790557
               }
              ],
              "lat": 51.22103608246193,
              "lng": 4.40418010790557,
              "postalCode": "2000",
              "state": "Antwerpen"
             },
             "name": "Hendrik Consienceplein",
             "photos": {
              "count": 0,
              "groups": []
             }
            }
           },
           {
            "reasons": {
             "count": 0,
             "items": [
              {
               "reasonName": "globalInteractionReason",
               "summary": "This spot is popular",
               "type": "general"
              }
             ]
            },
            "referralId": "e-0-5878e761469aef4ebf2a5358-56",
            "venue": {
             "categories": [
              {
               "icon": {
                "prefix": "https://ss3.4sqi.net/img/categories_v2/nightlife/pub_",
                "suffix": ".png"
               },
               "id": "4bf58dd8d48988d116941735",
               "name": "Bar",
               "pluralName": "Bars",
               "primary": true,
               "shortName": "Bar"
              }
             ],
             "id": "5878e761469aef4ebf2a5358",
             "location": {
              "address": "35 Groenplaats",
              "cc": "BE",
              "city": "Antwerpen",
              "country": "België",
              "crossStreet": "Jan Blomstraat",
              "distance": 450,
              "formattedAddress": [
               "35 Groenplaats (Jan Blomstraat)",
               "2000 Antwerpen",
               "België"
              ],
              "labeledLatLngs": [
               {
                "label": "display",
                "lat": 51.2188288,
                "lng": 4.4022244
               }
              ],
              "lat": 51.2188288,
              "lng": 4.4022244,
              "postalCode": "2000",
              "state": "Antwerpen"
             },
             "name": "Hard Rock Cafe",
             "photos": {
              "count": 0,
              "groups": []
             }
            }
           },
           {
            "reasons": {
             "count": 0,
             "items": [
              {
               "reasonName": "globalInteractionReason",
               "summary": "This spot is popular",
               "type": "general"
              }
             ]
            },
            "referralId": "e-0-4b768a6df964a52028512ee3-57",
            "venue": {
             "categories": [
              {
               "icon": {
                "prefix": "https://ss3.4sqi.net/img/categories_v2/travel/hotel_",
                "suffix": ".png"
               },
               "id": "4bf58dd8d48988d1fa931735",
               "name": "Hotel",
               "pluralName": "Hotels",
               "primary": true,
               "shortName": "Hotel"
              }
             ],
             "id": "4b768a6df964a52028512ee3",
             "location": {
              "address": "Korte Nieuwstraat 24",
              "cc": "BE",
              "city": "Antwerpen",
              "country": "België",
              "distance": 479,
              "formattedAddress": [
               "Korte Nieuwstraat 24",
               "2000 Antwerpen",
               "België"
              ],
              "labeledLatLngs": [
               {
                "label": "display",
                "lat": 51.22028465382873,
                "lng": 4.403871907689068
               }
              ],
              "lat": 51.22028465382873,
              "lng": 4.403871907689068,
              "postalCode": "2000",
              "state": "Antwerpen"
             },
             "name": "Hotel Julien",
             "photos": {
              "count": 0,
              "groups": []
             }
            }
           },
           {
            "reasons": {
             "count": 0,
             "items": [
              {
               "reasonName": "globalInteractionReason",
               "summary": "This spot is popular",
               "type": "general"
              }
             ]
            },
            "referralId": "e-0-52a860ad498e1c987eb17e32-58",
            "venue": {
             "categories": [
              {
               "icon": {
                "prefix": "https://ss3.4sqi.net/img/categories_v2/food/default_",
                "suffix": ".png"
               },
               "id": "52e81612bcbc57f1066b79f1",
               "name": "Bistro",
               "pluralName": "Bistros",
               "primary": true,
               "shortName": "Bistro"
              }
             ],
             "id": "52a860ad498e1c987eb17e32",
             "location": {
              "address": "Munstraat",
              "cc": "BE",
              "city": "Antwerpen",
              "country": "België",
              "distance": 480,
              "formattedAddress": [
               "Munstraat",
               "2000 Antwerpen",
               "België"
              ],
              "labeledLatLngs": [
               {
                "label": "display",
                "lat": 51.21707361968364,
                "lng": 4.396970422452216
               }
              ],
              "lat": 51.21707361968364,
              "lng": 4.396970422452216,
              "postalCode": "2000",
              "state": "Antwerpen"
             },
             "name": "Native",
             "photos": {
              "count": 0,
              "groups": []
             }
            }
           },
           {
            "reasons": {
             "count": 0,
             "items": [
              {
               "reasonName": "globalInteractionReason",
               "summary": "This spot is popular",
               "type": "general"
              }
             ]
            },
            "referralId": "e-0-4d9cb21050aa41bd701414e1-59",
            "venue": {
             "categories": [
              {
               "icon": {
                "prefix": "https://ss3.4sqi.net/img/categories_v2/arts_entertainment/museum_history_",
                "suffix": ".png"
               },
               "id": "4bf58dd8d48988d190941735",
               "name": "History Museum",
               "pluralName": "History Museums",
               "primary": true,
               "shortName": "History Museum"
              }
             ],
             "id": "4d9cb21050aa41bd701414e1",
             "location": {
              "address": "Vleeshouwersstraat 38-40",
              "cc": "BE",
              "city": "Antwerpen",
              "country": "België",
              "distance": 201,
              "formattedAddress": [
               "Vleeshouwersstraat 38-40",
               "2000 Antwerpen",
               "België"
              ],
              "labeledLatLngs": [
               {
                "label": "display",
                "lat": 51.22262882465097,
                "lng": 4.399335698910586
               }
              ],
              "lat": 51.22262882465097,
              "lng": 4.399335698910586,
              "postalCode": "2000",
              "state": "Antwerpen"
             },
             "name": "Museum Vleeshuis | Klank van de stad",
             "photos": {
              "count": 0,
              "groups": []
             },
             "venuePage": {
              "id": "64214928"
             }
            }
           },
           {
            "reasons": {
             "count": 0,
             "items": [
              {
               "reasonName": "globalInteractionReason",
               "summary": "This spot is popular",
               "type": "general"
              }
             ]
            },
            "referralId": "e-0-4ca7311714c33704a6d5c63b-60",
            "venue": {
             "categories": [
              {
               "icon": {
                "prefix": "https://ss3.4sqi.net/img/categories_v2/shops/bookstore_",
                "suffix": ".png"
               },
               "id": "4bf58dd8d48988d114951735",
               "name": "Bookstore",
               "pluralName": "Bookstores",
               "primary": true,
               "shortName": "Bookstore"
              }
             ],
             "id": "4ca7311714c33704a6d5c63b",
             "location": {
              "cc": "BE",
              "city": "Antwerpen",
              "country": "België",
              "distance": 489,
              "formattedAddress": [
               "Antwerpen",
               "België"
              ],
              "labeledLatLngs": [
               {
                "label": "display",
                "lat": 51.21732004463701,
                "lng": 4.399895803706711
               }
              ],
              "lat": 51.21732004463701,
              "lng": 4.399895803706711,
              "state": "Antwerpen"
             },
             "name": "Copyright",
             "photos": {
              "count": 0,
              "groups": []
             }
            }
           },
           {
            "reasons": {
             "count": 0,
             "items": [
              {
               "reasonName": "globalInteractionReason",
               "summary": "This spot is popular",
               "type": "general"
              }
             ]
            },
            "referralId": "e-0-58aae397d4ab737624769d10-61",
            "venue": {
             "categories": [
              {
               "icon": {
                "prefix": "https://ss3.4sqi.net/img/categories_v2/food/asian_",
                "suffix": ".png"
               },
               "id": "4bf58dd8d48988d142941735",
               "name": "Asian Restaurant",
               "pluralName": "Asian Restaurants",
               "primary": true,
               "shortName": "Asian"
              }
             ],
             "id": "58aae397d4ab737624769d10",
             "location": {
              "address": "Wijngaardbrug 8",
              "cc": "BE",
              "city": "Antwerpen",
              "country": "België",
              "distance": 491,
              "formattedAddress": [
               "Wijngaardbrug 8",
               "2000 Antwerpen",
               "België"
              ],
              "labeledLatLngs": [
               {
                "label": "display",
                "lat": 51.2212,
                "lng": 4.40427
               }
              ],
              "lat": 51.2212,
              "lng": 4.40427,
              "postalCode": "2000",
              "state": "Antwerpen"
             },
             "name": "Satay",
             "photos": {
              "count": 0,
              "groups": []
             },
             "venuePage": {
              "id": "480405261"
             }
            }
           },
           {
            "reasons": {
             "count": 0,
             "items": [
              {
               "reasonName": "globalInteractionReason",
               "summary": "This spot is popular",
               "type": "general"
              }
             ]
            },
            "referralId": "e-0-57f8fc64498e90b31b64a54f-62",
            "venue": {
             "categories": [
              {
               "icon": {
                "prefix": "https://ss3.4sqi.net/img/categories_v2/food/default_",
                "suffix": ".png"
               },
               "id": "4bf58dd8d48988d1c4941735",
               "name": "Restaurant",
               "pluralName": "Restaurants",
               "primary": true,
               "shortName": "Restaurant"
              }
             ],
             "id": "57f8fc64498e90b31b64a54f",
             "location": {
              "address": "Lange Koepoortstraat 32",
              "cc": "BE",
              "city": "Antwerpen",
              "country": "België",
              "distance": 398,
              "formattedAddress": [
               "Lange Koepoortstraat 32",
               "2000 Antwerpen",
               "België"
              ],
              "labeledLatLngs": [
               {
                "label": "display",
                "lat": 51.22283478730274,
                "lng": 4.402455126245976
               }
              ],
              "lat": 51.22283478730274,
              "lng": 4.402455126245976,
              "postalCode": "2000",
              "state": "Antwerpen"
             },
             "name": "Croquettenbar Smaeck",
             "photos": {
              "count": 0,
              "groups": []
             }
            }
           },
           {
            "reasons": {
             "count": 0,
             "items": [
              {
               "reasonName": "globalInteractionReason",
               "summary": "This spot is popular",
               "type": "general"
              }
             ]
            },
            "referralId": "e-0-592e630b8173cb368d9295c4-63",
            "venue": {
             "categories": [
              {
               "icon": {
                "prefix": "https://ss3.4sqi.net/img/categories_v2/nightlife/pub_",
                "suffix": ".png"
               },
               "id": "4bf58dd8d48988d116941735",
               "name": "Bar",
               "pluralName": "Bars",
               "primary": true,
               "shortName": "Bar"
              }
             ],
             "id": "592e630b8173cb368d9295c4",
             "location": {
              "address": "Groenplaats",
              "cc": "BE",
              "city": "Antwerpen",
              "country": "België",
              "distance": 388,
              "formattedAddress": [
               "Groenplaats",
               "2000 Antwerpen",
               "België"
              ],
              "labeledLatLngs": [
               {
                "label": "display",
                "lat": 51.21904863516944,
                "lng": 4.401353726643001
               }
              ],
              "lat": 51.21904863516944,
              "lng": 4.401353726643001,
              "postalCode": "2000",
              "state": "Antwerpen"
             },
             "name": "Bar Basil",
             "photos": {
              "count": 0,
              "groups": []
             }
            }
           },
           {
            "reasons": {
             "count": 0,
             "items": [
              {
               "reasonName": "globalInteractionReason",
               "summary": "This spot is popular",
               "type": "general"
              }
             ]
            },
            "referralId": "e-0-54c38b53498ea74d80d83ae4-64",
            "venue": {
             "categories": [
              {
               "icon": {
                "prefix": "https://ss3.4sqi.net/img/categories_v2/shops/bookstore_",
                "suffix": ".png"
               },
               "id": "4bf58dd8d48988d114951735",
               "name": "Bookstore",
               "pluralName": "Bookstores",
               "primary": true,
               "shortName": "Bookstore"
              }
             ],
             "id": "54c38b53498ea74d80d83ae4",
             "location": {
              "address": "Kaasrui 11",
              "cc": "BE",
              "city": "Antwerpen",
              "country": "België",
              "distance": 386,
              "formattedAddress": [
               "Kaasrui 11",
               "2000 Antwerpen",
               "België"
              ],
              "labeledLatLngs": [
               {
                "label": "display",
                "lat": 51.2204043107621,
                "lng": 4.402534896183931
               }
              ],
              "lat": 51.2204043107621,
              "lng": 4.402534896183931,
              "postalCode": "2000",
              "state": "Antwerpen"
             },
             "name": "IMS Tijdschriften",
             "photos": {
              "count": 0,
              "groups": []
             }
            }
           },
           {
            "reasons": {
             "count": 0,
             "items": [
              {
               "reasonName": "globalInteractionReason",
               "summary": "This spot is popular",
               "type": "general"
              }
             ]
            },
            "referralId": "e-0-4cf14852899c6ea88d9aefc1-65",
            "venue": {
             "categories": [
              {
               "icon": {
                "prefix": "https://ss3.4sqi.net/img/categories_v2/food/default_",
                "suffix": ".png"
               },
               "id": "4bf58dd8d48988d1c4941735",
               "name": "Restaurant",
               "pluralName": "Restaurants",
               "primary": true,
               "shortName": "Restaurant"
              }
             ],
             "id": "4cf14852899c6ea88d9aefc1",
             "location": {
              "cc": "BE",
              "country": "België",
              "distance": 335,
              "formattedAddress": [
               "België"
              ],
              "labeledLatLngs": [
               {
                "label": "display",
                "lat": 51.22386235165906,
                "lng": 4.399976990717009
               }
              ],
              "lat": 51.22386235165906,
              "lng": 4.399976990717009
             },
             "name": "Lids",
             "photos": {
              "count": 0,
              "groups": []
             }
            }
           },
           {
            "reasons": {
             "count": 0,
             "items": [
              {
               "reasonName": "globalInteractionReason",
               "summary": "This spot is popular",
               "type": "general"
              }
             ]
            },
            "referralId": "e-0-4d16475ecc216ea8685668d3-66",
            "venue": {
             "categories": [
              {
               "icon": {
                "prefix": "https://ss3.4sqi.net/img/categories_v2/travel/default_",
                "suffix": ".png"
               },
               "id": "52f2ab2ebcbc57f1066b8b4a",
               "name": "Tunnel",
               "pluralName": "Tunnels",
               "primary": true,
               "shortName": "Tunnel"
              }
             ],
             "id": "4d16475ecc216ea8685668d3",
             "location": {
              "address": "Sint-Annatunnel",
              "cc": "BE",
              "city": "Antwerpen",
              "country": "België",
              "distance": 418,
              "formattedAddress": [
               "Sint-Annatunnel",
               "2000 Antwerpen",
               "België"
              ],
              "labeledLatLngs": [
               {
                "label": "display",
                "lat": 51.219740102291944,
                "lng": 4.39182230271399
               }
              ],
              "lat": 51.219740102291944,
              "lng": 4.39182230271399,
              "neighborhood": "Linkeroever",
              "postalCode": "2000",
              "state": "Antwerpen"
             },
             "name": "Sint-Annatunnel",
             "photos": {
              "count": 0,
              "groups": []
             }
            }
           },
           {
            "reasons": {
             "count": 0,
             "items": [
              {
               "reasonName": "globalInteractionReason",
               "summary": "This spot is popular",
               "type": "general"
              }
             ]
            },
            "referralId": "e-0-4b4ed3c2f964a52006f626e3-67",
            "venue": {
             "categories": [
              {
               "icon": {
                "prefix": "https://ss3.4sqi.net/img/categories_v2/food/bakery_",
                "suffix": ".png"
               },
               "id": "4bf58dd8d48988d16a941735",
               "name": "Bakery",
               "pluralName": "Bakeries",
               "primary": true,
               "shortName": "Bakery"
              }
             ],
             "id": "4b4ed3c2f964a52006f626e3",
             "location": {
              "address": "Steenhouwersvest 48",
              "cc": "BE",
              "city": "Antwerpen",
              "country": "België",
              "distance": 446,
              "formattedAddress": [
               "Steenhouwersvest 48",
               "2000 Antwerpen",
               "België"
              ],
              "labeledLatLngs": [
               {
                "label": "display",
                "lat": 51.217697380548934,
                "lng": 4.399707913398743
               }
              ],
              "lat": 51.217697380548934,
              "lng": 4.399707913398743,
              "postalCode": "2000",
              "state": "Antwerpen"
             },
             "name": "Le Pain Quotidien",
             "photos": {
              "count": 0,
              "groups": []
             }
            }
           },
           {
            "reasons": {
             "count": 0,
             "items": [
              {
               "reasonName": "globalInteractionReason",
               "summary": "This spot is popular",
               "type": "general"
              }
             ]
            },
            "referralId": "e-0-4b47abeff964a520fe3926e3-68",
            "venue": {
             "categories": [
              {
               "icon": {
                "prefix": "https://ss3.4sqi.net/img/categories_v2/food/french_",
                "suffix": ".png"
               },
               "id": "4bf58dd8d48988d10c941735",
               "name": "French Restaurant",
               "pluralName": "French Restaurants",
               "primary": true,
               "shortName": "French"
              }
             ],
             "id": "4b47abeff964a520fe3926e3",
             "location": {
              "address": "Wijngaardstraat 8",
              "cc": "BE",
              "city": "Antwerpen",
              "country": "België",
              "crossStreet": "Old city centre of Antwerp",
              "distance": 418,
              "formattedAddress": [
               "Wijngaardstraat 8 (Old city centre of Antwerp)",
               "2000 Antwerpen",
               "België"
              ],
              "labeledLatLngs": [
               {
                "label": "display",
                "lat": 51.221098571837985,
                "lng": 4.403198344658347
               }
              ],
              "lat": 51.221098571837985,
              "lng": 4.403198344658347,
              "postalCode": "2000",
              "state": "Antwerpen"
             },
             "name": "de Peerdestal",
             "photos": {
              "count": 0,
              "groups": []
             },
             "venuePage": {
              "id": "60018925"
             }
            }
           },
           {
            "reasons": {
             "count": 0,
             "items": [
              {
               "reasonName": "globalInteractionReason",
               "summary": "This spot is popular",
               "type": "general"
              }
             ]
            },
            "referralId": "e-0-56b0bd9c498ec801efaa721f-69",
            "venue": {
             "categories": [
              {
               "icon": {
                "prefix": "https://ss3.4sqi.net/img/categories_v2/shops/food_fishmarket_",
                "suffix": ".png"
               },
               "id": "52f2ab2ebcbc57f1066b8b16",
               "name": "Fishing Store",
               "pluralName": "Fishing Stores",
               "primary": true,
               "shortName": "Fishing Store"
              }
             ],
             "id": "56b0bd9c498ec801efaa721f",
             "location": {
              "cc": "BE",
              "country": "België",
              "distance": 450,
              "formattedAddress": [
               "België"
              ],
              "labeledLatLngs": [
               {
                "label": "display",
                "lat": 51.22339697896049,
                "lng": 4.402834967914227
               }
              ],
              "lat": 51.22339697896049,
              "lng": 4.402834967914227
             },
             "name": "NADA",
             "photos": {
              "count": 0,
              "groups": []
             }
            }
           },
           {
            "reasons": {
             "count": 0,
             "items": [
              {
               "reasonName": "globalInteractionReason",
               "summary": "This spot is popular",
               "type": "general"
              }
             ]
            },
            "referralId": "e-0-4c28c89e3492a59381ddb728-70",
            "venue": {
             "categories": [
              {
               "icon": {
                "prefix": "https://ss3.4sqi.net/img/categories_v2/nightlife/pub_",
                "suffix": ".png"
               },
               "id": "4bf58dd8d48988d116941735",
               "name": "Bar",
               "pluralName": "Bars",
               "primary": true,
               "shortName": "Bar"
              }
             ],
             "id": "4c28c89e3492a59381ddb728",
             "location": {
              "address": "Melkmarkt 9",
              "cc": "BE",
              "city": "Antwerpen",
              "country": "België",
              "distance": 393,
              "formattedAddress": [
               "Melkmarkt 9",
               "2000 Antwerpen",
               "België"
              ],
              "labeledLatLngs": [
               {
                "label": "display",
                "lat": 51.22076424754061,
                "lng": 4.402773279094545
               }
              ],
              "lat": 51.22076424754061,
              "lng": 4.402773279094545,
              "postalCode": "2000",
              "state": "Antwerpen"
             },
             "name": "'t Vervolg",
             "photos": {
              "count": 0,
              "groups": []
             }
            }
           },
           {
            "reasons": {
             "count": 0,
             "items": [
              {
               "reasonName": "globalInteractionReason",
               "summary": "This spot is popular",
               "type": "general"
              }
             ]
            },
            "referralId": "e-0-4b8183d8f964a520afab30e3-71",
            "venue": {
             "categories": [
              {
               "icon": {
                "prefix": "https://ss3.4sqi.net/img/categories_v2/food/bbqalt_",
                "suffix": ".png"
               },
               "id": "4bf58dd8d48988d1df931735",
               "name": "BBQ Joint",
               "pluralName": "BBQ Joints",
               "primary": true,
               "shortName": "BBQ"
              }
             ],
             "id": "4b8183d8f964a520afab30e3",
             "location": {
              "address": "Sint-Paulusplaats 20",
              "cc": "BE",
              "city": "Antwerpen",
              "country": "België",
              "distance": 436,
              "formattedAddress": [
               "Sint-Paulusplaats 20",
               "2000 Antwerpen",
               "België"
              ],
              "labeledLatLngs": [
               {
                "label": "display",
                "lat": 51.22464235913155,
                "lng": 4.400717905776969
               }
              ],
              "lat": 51.22464235913155,
              "lng": 4.400717905776969,
              "postalCode": "2000",
              "state": "Antwerpen"
             },
             "name": "Amadeus I",
             "photos": {
              "count": 0,
              "groups": []
             }
            }
           },
           {
            "reasons": {
             "count": 0,
             "items": [
              {
               "reasonName": "globalInteractionReason",
               "summary": "This spot is popular",
               "type": "general"
              }
             ]
            },
            "referralId": "e-0-4d5a350e3358a090be738e44-72",
            "venue": {
             "categories": [
              {
               "icon": {
                "prefix": "https://ss3.4sqi.net/img/categories_v2/parks_outdoors/beach_",
                "suffix": ".png"
               },
               "id": "50aaa49e4b90af0d42d5de11",
               "name": "Castle",
               "pluralName": "Castles",
               "primary": true,
               "shortName": "Castle"
              }
             ],
             "id": "4d5a350e3358a090be738e44",
             "location": {
              "address": "Steenplein 1",
              "cc": "BE",
              "city": "Antwerpen",
              "country": "België",
              "distance": 140,
              "formattedAddress": [
               "Steenplein 1",
               "2000 Antwerpen",
               "België"
              ],
              "labeledLatLngs": [
               {
                "label": "display",
                "lat": 51.222646,
                "lng": 4.39742
               }
              ],
              "lat": 51.222646,
              "lng": 4.39742,
              "postalCode": "2000",
              "state": "Antwerpen"
             },
             "name": "Het Steen",
             "photos": {
              "count": 0,
              "groups": []
             }
            }
           },
           {
            "reasons": {
             "count": 0,
             "items": [
              {
               "reasonName": "globalInteractionReason",
               "summary": "This spot is popular",
               "type": "general"
              }
             ]
            },
            "referralId": "e-0-51a1eb99498e776daaa29f57-73",
            "venue": {
             "categories": [
              {
               "icon": {
                "prefix": "https://ss3.4sqi.net/img/categories_v2/food/latinamerican_",
                "suffix": ".png"
               },
               "id": "52939a8c3cf9994f4e043a35",
               "name": "Empanada Restaurant",
               "pluralName": "Empanada Restaurants",
               "primary": true,
               "shortName": "Empanada"
              }
             ],
             "id": "51a1eb99498e776daaa29f57",
             "location": {
              "address": "Koepoortbrug 3",
              "cc": "BE",
              "city": "Antwerpen",
              "country": "België",
              "crossStreet": "Minderbroedersrui",
              "distance": 497,
              "formattedAddress": [
               "Koepoortbrug 3 (Minderbroedersrui)",
               "2000 Antwerpen",
               "België"
              ],
              "labeledLatLngs": [
               {
                "label": "display",
                "lat": 51.22367960234628,
                "lng": 4.403353035449982
               }
              ],
              "lat": 51.22367960234628,
              "lng": 4.403353035449982,
              "postalCode": "2000",
              "state": "Antwerpen"
             },
             "name": "Bar Buenos Aires",
             "photos": {
              "count": 0,
              "groups": []
             }
            }
           },
           {
            "reasons": {
             "count": 0,
             "items": [
              {
               "reasonName": "globalInteractionReason",
               "summary": "This spot is popular",
               "type": "general"
              }
             ]
            },
            "referralId": "e-0-55f9437f498e059979c5c08e-74",
            "venue": {
             "categories": [
              {
               "icon": {
                "prefix": "https://ss3.4sqi.net/img/categories_v2/shops/salon_barber_",
                "suffix": ".png"
               },
               "id": "54541900498ea6ccd0202697",
               "name": "Health & Beauty Service",
               "pluralName": "Health & Beauty Services",
               "primary": true,
               "shortName": "Health & Beauty"
              }
             ],
             "id": "55f9437f498e059979c5c08e",
             "location": {
              "address": "Sint Paulusstraat 41",
              "cc": "BE",
              "city": "Antwerpen",
              "country": "België",
              "distance": 485,
              "formattedAddress": [
               "Sint Paulusstraat 41",
               "Antwerpen",
               "België"
              ],
              "labeledLatLngs": [
               {
                "label": "display",
                "lat": 51.22414195914272,
                "lng": 4.402627250540573
               }
              ],
              "lat": 51.22414195914272,
              "lng": 4.402627250540573,
              "state": "Antwerpen"
             },
             "name": "House of brows - Myriam Ayari",
             "photos": {
              "count": 0,
              "groups": []
             }
            }
           },
           {
            "reasons": {
             "count": 0,
             "items": [
              {
               "reasonName": "globalInteractionReason",
               "summary": "This spot is popular",
               "type": "general"
              }
             ]
            },
            "referralId": "e-0-58b2dfc2b38b3238f8c113e0-75",
            "venue": {
             "categories": [
              {
               "icon": {
                "prefix": "https://ss3.4sqi.net/img/categories_v2/food/default_",
                "suffix": ".png"
               },
               "id": "52e81612bcbc57f1066b7a02",
               "name": "Belgian Restaurant",
               "pluralName": "Belgian Restaurants",
               "primary": true,
               "shortName": "Belgian"
              }
             ],
             "id": "58b2dfc2b38b3238f8c113e0",
             "location": {
              "address": "Kleine Koraalberg 8",
              "cc": "BE",
              "city": "Antwerpen",
              "country": "België",
              "distance": 285,
              "formattedAddress": [
               "Kleine Koraalberg 8",
               "2000 Antwerpen",
               "België"
              ],
              "labeledLatLngs": [
               {
                "label": "display",
                "lat": 51.222647080225116,
                "lng": 4.400797017392237
               }
              ],
              "lat": 51.222647080225116,
              "lng": 4.400797017392237,
              "postalCode": "2000",
              "state": "Antwerpen"
             },
             "name": "Refill",
             "photos": {
              "count": 0,
              "groups": []
             }
            }
           },
           {
            "reasons": {
             "count": 0,
             "items": [
              {
               "reasonName": "globalInteractionReason",
               "summary": "This spot is popular",
               "type": "general"
              }
             ]
            },
            "referralId": "e-0-4c530cf006901b8df36f7849-76",
            "venue": {
             "categories": [
              {
               "icon": {
                "prefix": "https://ss3.4sqi.net/img/categories_v2/food/thai_",
                "suffix": ".png"
               },
               "id": "4bf58dd8d48988d149941735",
               "name": "Thai Restaurant",
               "pluralName": "Thai Restaurants",
               "primary": true,
               "shortName": "Thai"
              }
             ],
             "id": "4c530cf006901b8df36f7849",
             "location": {
              "address": "Vleeshuisstraat 1",
              "cc": "BE",
              "city": "Antwerpen",
              "country": "België",
              "crossStreet": "Jordaanskaai",
              "distance": 176,
              "formattedAddress": [
               "Vleeshuisstraat 1 (Jordaanskaai)",
               "2000 Antwerpen",
               "België"
              ],
              "labeledLatLngs": [
               {
                "label": "display",
                "lat": 51.22283164684586,
                "lng": 4.398278147867946
               }
              ],
              "lat": 51.22283164684586,
              "lng": 4.398278147867946,
              "postalCode": "2000",
              "state": "Antwerpen"
             },
             "name": "Sombat",
             "photos": {
              "count": 0,
              "groups": []
             }
            }
           },
           {
            "reasons": {
             "count": 0,
             "items": [
              {
               "reasonName": "globalInteractionReason",
               "summary": "This spot is popular",
               "type": "general"
              }
             ]
            },
            "referralId": "e-0-4c7a3af981bca0937de4ff14-77",
            "venue": {
             "categories": [
              {
               "icon": {
                "prefix": "https://ss3.4sqi.net/img/categories_v2/parks_outdoors/plaza_",
                "suffix": ".png"
               },
               "id": "4bf58dd8d48988d164941735",
               "name": "Plaza",
               "pluralName": "Plazas",
               "primary": true,
               "shortName": "Plaza"
              }
             ],
             "id": "4c7a3af981bca0937de4ff14",
             "location": {
              "address": "Veemarkt",
              "cc": "BE",
              "city": "Antwerpen",
              "country": "België",
              "distance": 340,
              "formattedAddress": [
               "Veemarkt",
               "Antwerpen",
               "België"
              ],
              "labeledLatLngs": [
               {
                "label": "display",
                "lat": 51.22379312908388,
                "lng": 4.400238353281925
               }
              ],
              "lat": 51.22379312908388,
              "lng": 4.400238353281925,
              "state": "Antwerpen"
             },
             "name": "Veemarkt",
             "photos": {
              "count": 0,
              "groups": []
             }
            }
           },
           {
            "reasons": {
             "count": 0,
             "items": [
              {
               "reasonName": "globalInteractionReason",
               "summary": "This spot is popular",
               "type": "general"
              }
             ]
            },
            "referralId": "e-0-5f9eac9016d7c467a3ca432f-78",
            "venue": {
             "categories": [
              {
               "icon": {
                "prefix": "https://ss3.4sqi.net/img/categories_v2/food/coffeeshop_",
                "suffix": ".png"
               },
               "id": "4bf58dd8d48988d1e0931735",
               "name": "Coffee Shop",
               "pluralName": "Coffee Shops",
               "primary": true,
               "shortName": "Coffee Shop"
              }
             ],
             "id": "5f9eac9016d7c467a3ca432f",
             "location": {
              "address": "Lange Koepoortstraat 42",
              "cc": "BE",
              "city": "Antwerpen",
              "country": "België",
              "distance": 370,
              "formattedAddress": [
               "Lange Koepoortstraat 42",
               "2000 Antwerpen",
               "België"
              ],
              "labeledLatLngs": [
               {
                "label": "display",
                "lat": 51.222478,
                "lng": 4.402239
               }
              ],
              "lat": 51.222478,
              "lng": 4.402239,
              "postalCode": "2000",
              "state": "Antwerpen"
             },
             "name": "ToiToiToi",
             "photos": {
              "count": 0,
              "groups": []
             }
            }
           },
           {
            "reasons": {
             "count": 0,
             "items": [
              {
               "reasonName": "globalInteractionReason",
               "summary": "This spot is popular",
               "type": "general"
              }
             ]
            },
            "referralId": "e-0-4c5d739494fd0f47db58cb45-79",
            "venue": {
             "categories": [
              {
               "icon": {
                "prefix": "https://ss3.4sqi.net/img/categories_v2/parks_outdoors/plaza_",
                "suffix": ".png"
               },
               "id": "4bf58dd8d48988d164941735",
               "name": "Plaza",
               "pluralName": "Plazas",
               "primary": true,
               "shortName": "Plaza"
              }
             ],
             "id": "4c5d739494fd0f47db58cb45",
             "location": {
              "address": "Sint-Paulusplaats",
              "cc": "BE",
              "city": "Antwerpen",
              "country": "België",
              "distance": 496,
              "formattedAddress": [
               "Sint-Paulusplaats",
               "Antwerpen",
               "België"
              ],
              "labeledLatLngs": [
               {
                "label": "display",
                "lat": 51.22514316422769,
                "lng": 4.401067595660007
               }
              ],
              "lat": 51.22514316422769,
              "lng": 4.401067595660007,
              "state": "Antwerpen"
             },
             "name": "Sint-Paulusplaats",
             "photos": {
              "count": 0,
              "groups": []
             }
            }
           },
           {
            "reasons": {
             "count": 0,
             "items": [
              {
               "reasonName": "globalInteractionReason",
               "summary": "This spot is popular",
               "type": "general"
              }
             ]
            },
            "referralId": "e-0-4dcad96eb0fbd92b292aaf31-80",
            "venue": {
             "categories": [
              {
               "icon": {
                "prefix": "https://ss3.4sqi.net/img/categories_v2/food/ethiopian_",
                "suffix": ".png"
               },
               "id": "4bf58dd8d48988d10a941735",
               "name": "Ethiopian Restaurant",
               "pluralName": "Ethiopian Restaurants",
               "primary": true,
               "shortName": "Ethiopian"
              }
             ],
             "id": "4dcad96eb0fbd92b292aaf31",
             "location": {
              "address": "Zirkstraat 8",
              "cc": "BE",
              "city": "Antwerpen",
              "country": "België",
              "distance": 288,
              "formattedAddress": [
               "Zirkstraat 8",
               "2000 Antwerpen",
               "België"
              ],
              "labeledLatLngs": [
               {
                "label": "display",
                "lat": 51.223104825812754,
                "lng": 4.400324322589081
               }
              ],
              "lat": 51.223104825812754,
              "lng": 4.400324322589081,
              "postalCode": "2000",
              "state": "Antwerpen"
             },
             "name": "Little Ethiopia",
             "photos": {
              "count": 0,
              "groups": []
             }
            }
           },
           {
            "reasons": {
             "count": 0,
             "items": [
              {
               "reasonName": "globalInteractionReason",
               "summary": "This spot is popular",
               "type": "general"
              }
             ]
            },
            "referralId": "e-0-582e115c6431e52c19ae667f-81",
            "venue": {
             "categories": [
              {
               "icon": {
                "prefix": "https://ss3.4sqi.net/img/categories_v2/nightlife/pub_",
                "suffix": ".png"
               },
               "id": "4bf58dd8d48988d116941735",
               "name": "Bar",
               "pluralName": "Bars",
               "primary": true,
               "shortName": "Bar"
              }
             ],
             "id": "582e115c6431e52c19ae667f",
             "location": {
              "address": "Koepoortbrug 4",
              "cc": "BE",
              "city": "Antwerpen",
              "country": "België",
              "distance": 499,
              "formattedAddress": [
               "Koepoortbrug 4",
               "2000 Antwerpen",
               "België"
              ],
              "labeledLatLngs": [
               {
                "label": "display",
                "lat": 51.223582,
                "lng": 4.403465
               }
              ],
              "lat": 51.223582,
              "lng": 4.403465,
              "postalCode": "2000",
              "state": "Antwerpen"
             },
             "name": "Cfou",
             "photos": {
              "count": 0,
              "groups": []
             }
            }
           },
           {
            "reasons": {
             "count": 0,
             "items": [
              {
               "reasonName": "globalInteractionReason",
               "summary": "This spot is popular",
               "type": "general"
              }
             ]
            },
            "referralId": "e-0-4c9e865446978cfad8b0a27f-82",
            "venue": {
             "categories": [
              {
               "icon": {
                "prefix": "https://ss3.4sqi.net/img/categories_v2/nightlife/gaybar_",
                "suffix": ".png"
               },
               "id": "4bf58dd8d48988d1d8941735",
               "name": "Gay Bar",
               "pluralName": "Gay Bars",
               "primary": true,
               "shortName": "Gay Bar"
              }
             ],
             "id": "4c9e865446978cfad8b0a27f",
             "location": {
              "address": "Lange Koepoortstraat 1",
              "cc": "BE",
              "city": "Antwerpen",
              "country": "België",
              "crossStreet": "Minderbroedersrui",
              "distance": 476,
              "formattedAddress": [
               "Lange Koepoortstraat 1 (Minderbroedersrui)",
               "2000 Antwerpen",
               "België"
              ],
              "labeledLatLngs": [
               {
                "label": "display",
                "lat": 51.22352967100452,
                "lng": 4.403146555228092
               }
              ],
              "lat": 51.22352967100452,
              "lng": 4.403146555228092,
              "postalCode": "2000",
              "state": "Antwerpen"
             },
             "name": "Que Pasa",
             "photos": {
              "count": 0,
              "groups": []
             }
            }
           },
           {
            "reasons": {
             "count": 0,
             "items": [
              {
               "reasonName": "globalInteractionReason",
               "summary": "This spot is popular",
               "type": "general"
              }
             ]
            },
            "referralId": "e-0-4d88a5c5f607a093c433da86-83",
            "venue": {
             "categories": [
              {
               "icon": {
                "prefix": "https://ss3.4sqi.net/img/categories_v2/food/greek_",
                "suffix": ".png"
               },
               "id": "4bf58dd8d48988d10e941735",
               "name": "Greek Restaurant",
               "pluralName": "Greek Restaurants",
               "primary": true,
               "shortName": "Greek"
              }
             ],
             "id": "4d88a5c5f607a093c433da86",
             "location": {
              "address": "Sint- Paulusplaats",
              "cc": "BE",
              "city": "Antwerpen",
              "country": "België",
              "distance": 496,
              "formattedAddress": [
               "Sint- Paulusplaats",
               "Antwerpen",
               "België"
              ],
              "labeledLatLngs": [
               {
                "label": "display",
                "lat": 51.225097193823224,
                "lng": 4.401186756436637
               }
              ],
              "lat": 51.225097193823224,
              "lng": 4.401186756436637,
              "state": "Antwerpen"
             },
             "name": "Athene",
             "photos": {
              "count": 0,
              "groups": []
             }
            }
           },
           {
            "reasons": {
             "count": 0,
             "items": [
              {
               "reasonName": "globalInteractionReason",
               "summary": "This spot is popular",
               "type": "general"
              }
             ]
            },
            "referralId": "e-0-4c8a81f86418a1435488e0ce-84",
            "venue": {
             "categories": [
              {
               "icon": {
                "prefix": "https://ss3.4sqi.net/img/categories_v2/food/default_",
                "suffix": ".png"
               },
               "id": "4bf58dd8d48988d1c4941735",
               "name": "Restaurant",
               "pluralName": "Restaurants",
               "primary": true,
               "shortName": "Restaurant"
              }
             ],
             "id": "4c8a81f86418a1435488e0ce",
             "location": {
              "address": "Koolkaai 9",
              "cc": "BE",
              "city": "Antwerpen",
              "country": "België",
              "distance": 442,
              "formattedAddress": [
               "Koolkaai 9",
               "2000 Antwerpen",
               "België"
              ],
              "labeledLatLngs": [
               {
                "label": "display",
                "lat": 51.22499969576793,
                "lng": 4.399875949055658
               }
              ],
              "lat": 51.22499969576793,
              "lng": 4.399875949055658,
              "postalCode": "2000",
              "state": "Antwerpen"
             },
             "name": "Mie Katoen",
             "photos": {
              "count": 0,
              "groups": []
             }
            }
           },
           {
            "reasons": {
             "count": 0,
             "items": [
              {
               "reasonName": "globalInteractionReason",
               "summary": "This spot is popular",
               "type": "general"
              }
             ]
            },
            "referralId": "e-0-56e03cef498e1ac3f99eb371-85",
            "venue": {
             "categories": [
              {
               "icon": {
                "prefix": "https://ss3.4sqi.net/img/categories_v2/food/cafe_",
                "suffix": ".png"
               },
               "id": "4bf58dd8d48988d16d941735",
               "name": "Café",
               "pluralName": "Cafés",
               "primary": true,
               "shortName": "Café"
              }
             ],
             "id": "56e03cef498e1ac3f99eb371",
             "location": {
              "address": "Zirkstraat 37",
              "cc": "BE",
              "city": "Antwerpen",
              "country": "België",
              "distance": 352,
              "formattedAddress": [
               "Zirkstraat 37",
               "2000 Antwerpen",
               "België"
              ],
              "labeledLatLngs": [
               {
                "label": "display",
                "lat": 51.22286010421566,
                "lng": 4.401694569092679
               }
              ],
              "lat": 51.22286010421566,
              "lng": 4.401694569092679,
              "postalCode": "2000",
              "state": "Antwerpen"
             },
             "name": "Zirkey",
             "photos": {
              "count": 0,
              "groups": []
             }
            }
           },
           {
            "reasons": {
             "count": 0,
             "items": [
              {
               "reasonName": "globalInteractionReason",
               "summary": "This spot is popular",
               "type": "general"
              }
             ]
            },
            "referralId": "e-0-53b1a199498e345e4a2fe989-86",
            "venue": {
             "categories": [
              {
               "icon": {
                "prefix": "https://ss3.4sqi.net/img/categories_v2/food/italian_",
                "suffix": ".png"
               },
               "id": "4bf58dd8d48988d110941735",
               "name": "Italian Restaurant",
               "pluralName": "Italian Restaurants",
               "primary": true,
               "shortName": "Italian"
              }
             ],
             "id": "53b1a199498e345e4a2fe989",
             "location": {
              "address": "Lange Koepoortstraat 18",
              "cc": "BE",
              "city": "Antwerpen",
              "country": "België",
              "distance": 428,
              "formattedAddress": [
               "Lange Koepoortstraat 18",
               "2000 Antwerpen",
               "België"
              ],
              "labeledLatLngs": [
               {
                "label": "display",
                "lat": 51.223162859056565,
                "lng": 4.4026763031978104
               }
              ],
              "lat": 51.223162859056565,
              "lng": 4.4026763031978104,
              "postalCode": "2000",
              "state": "Antwerpen"
             },
             "name": "Gusto Italiano",
             "photos": {
              "count": 0,
              "groups": []
             }
            }
           },
           {
            "reasons": {
             "count": 0,
             "items": [
              {
               "reasonName": "globalInteractionReason",
               "summary": "This spot is popular",
               "type": "general"
              }
             ]
            },
            "referralId": "e-0-4c19050bd4d9c9281c4ef029-87",
            "venue": {
             "categories": [
              {
               "icon": {
                "prefix": "https://ss3.4sqi.net/img/categories_v2/food/mediterranean_",
                "suffix": ".png"
               },
               "id": "4bf58dd8d48988d1c0941735",
               "name": "Mediterranean Restaurant",
               "pluralName": "Mediterranean Restaurants",
               "primary": true,
               "shortName": "Mediterranean"
              }
             ],
             "id": "4c19050bd4d9c9281c4ef029",
             "location": {
              "address": "Jordaenskaai 27",
              "cc": "BE",
              "city": "Antwerpen",
              "country": "België",
              "distance": 397,
              "formattedAddress": [
               "Jordaenskaai 27",
               "2000 Antwerpen",
               "België"
              ],
              "labeledLatLngs": [
               {
                "label": "display",
                "lat": 51.2248811093943,
                "lng": 4.3984195705380476
               }
              ],
              "lat": 51.2248811093943,
              "lng": 4.3984195705380476,
              "postalCode": "2000",
              "state": "Antwerpen"
             },
             "name": "NoorderTerras",
             "photos": {
              "count": 0,
              "groups": []
             }
            }
           },
           {
            "reasons": {
             "count": 0,
             "items": [
              {
               "reasonName": "globalInteractionReason",
               "summary": "This spot is popular",
               "type": "general"
              }
             ]
            },
            "referralId": "e-0-4fa635c6e4b098f42bc976ef-88",
            "venue": {
             "categories": [
              {
               "icon": {
                "prefix": "https://ss3.4sqi.net/img/categories_v2/parks_outdoors/harbor_",
                "suffix": ".png"
               },
               "id": "4bf58dd8d48988d1e0941735",
               "name": "Harbor / Marina",
               "pluralName": "Harbors / Marinas",
               "primary": true,
               "shortName": "Harbor / Marina"
              }
             ],
             "id": "4fa635c6e4b098f42bc976ef",
             "location": {
              "address": "Naast Het Steen",
              "cc": "BE",
              "city": "Antwerpen",
              "country": "België",
              "distance": 181,
              "formattedAddress": [
               "Naast Het Steen",
               "20000 Antwerpen",
               "België"
              ],
              "labeledLatLngs": [
               {
                "label": "display",
                "lat": 51.222886147700706,
                "lng": 4.398246777810232
               }
              ],
              "lat": 51.222886147700706,
              "lng": 4.398246777810232,
              "postalCode": "20000",
              "state": "Antwerpen"
             },
             "name": "MaritiemPark",
             "photos": {
              "count": 0,
              "groups": []
             }
            }
           },
           {
            "reasons": {
             "count": 0,
             "items": [
              {
               "reasonName": "globalInteractionReason",
               "summary": "This spot is popular",
               "type": "general"
              }
             ]
            },
            "referralId": "e-0-58fc86c51499464d4998a527-89",
            "venue": {
             "categories": [
              {
               "icon": {
                "prefix": "https://ss3.4sqi.net/img/categories_v2/travel/boat_",
                "suffix": ".png"
               },
               "id": "4bf58dd8d48988d12d951735",
               "name": "Boat or Ferry",
               "pluralName": "Boats or Ferries",
               "primary": true,
               "shortName": "Boat / Ferry"
              }
             ],
             "id": "58fc86c51499464d4998a527",
             "location": {
              "cc": "BE",
              "city": "Antwerpen",
              "country": "België",
              "distance": 456,
              "formattedAddress": [
               "2050 Antwerpen",
               "België"
              ],
              "labeledLatLngs": [
               {
                "label": "display",
                "lat": 51.224265,
                "lng": 4.392543
               }
              ],
              "lat": 51.224265,
              "lng": 4.392543,
              "postalCode": "2050",
              "state": "Antwerpen"
             },
             "name": "Overzetboot",
             "photos": {
              "count": 0,
              "groups": []
             }
            }
           }
          ],
          "name": "recommended",
          "type": "Recommended Places"
         }
        ],
        "headerFullLocation": "Historisch Centrum, Antwerp",
        "headerLocation": "Historisch Centrum",
        "headerLocationGranularity": "neighborhood",
        "queryRefinements": {
         "refinements": [
          {
           "query": "Food"
          },
          {
           "query": "Nightlife"
          },
          {
           "query": "Coffee"
          },
          {
           "query": "Shops"
          },
          {
           "query": "Arts"
          },
          {
           "query": "Outdoors"
          }
         ],
         "target": {
          "params": {
           "ll": "51.221390,4.397220",
           "radius": "500"
          },
          "type": "path",
          "url": "/venue/explore"
         }
        },
        "suggestedBounds": {
         "ne": {
          "lat": 51.2258900045,
          "lng": 4.404391500133293
         },
         "sw": {
          "lat": 51.2168899955,
          "lng": 4.390048499866706
         }
        },
        "totalResults": 90
       }
      },
      "text/plain": [
       "<IPython.core.display.JSON object>"
      ]
     },
     "execution_count": 13,
     "metadata": {
      "application/json": {
       "expanded": false,
       "root": "root"
      }
     },
     "output_type": "execute_result"
    }
   ],
   "source": [
    " url = 'https://api.foursquare.com/v2/venues/explore?&client_id={}&client_secret={}&v={}&ll={},{}&radius={}&limit={}'.format(\n",
    "            CLIENT_ID, \n",
    "            CLIENT_SECRET, \n",
    "            VERSION, \n",
    "            51.22139,\n",
    "            4.39722, \n",
    "            radius, \n",
    "            LIMIT)\n",
    "    \n",
    "results = requests.get(url).json() #[\"response\"]['groups'][0]['items']\n",
    "JSON(results)\n",
    "    "
   ]
  },
  {
   "cell_type": "code",
   "execution_count": 5,
   "metadata": {},
   "outputs": [],
   "source": [
    "def getNearbyVenues(names, latitudes, longitudes):\n",
    "    \n",
    "    venues_list=[]\n",
    "    for name, lat, lng in zip(names, latitudes, longitudes):\n",
    "        print(name)\n",
    "            \n",
    "# Part 1: creating the API request URL\n",
    "        url = 'https://api.foursquare.com/v2/venues/explore?&client_id={}&client_secret={}&v={}&ll={},{}&radius={}&limit={}'.format(\n",
    "            CLIENT_ID, \n",
    "            CLIENT_SECRET, \n",
    "            VERSION, \n",
    "            lat, \n",
    "            lng, \n",
    "            radius, \n",
    "            LIMIT)\n",
    "            \n",
    "# Part 2: making the GET request\n",
    "        results = requests.get(url).json()[\"response\"]['groups'][0]['items']\n",
    "    \n",
    "    \n",
    "    \n",
    "        \n",
    "# Part 3 returning only relevant information for each nearby venue and append to the list \n",
    "        venues_list.append([(\n",
    "            name, \n",
    "            lat, \n",
    "            lng,\n",
    "            v['venue']['name'], \n",
    "            v['venue']['location']['lat'], \n",
    "            v['venue']['location']['lng'],  \n",
    "            v['venue']['categories'][0]['name']) for v in results])\n",
    "        \n",
    "    return (venues_list)"
   ]
  },
  {
   "cell_type": "code",
   "execution_count": 8,
   "metadata": {},
   "outputs": [
    {
     "ename": "NameError",
     "evalue": "name 'JSON' is not defined",
     "output_type": "error",
     "traceback": [
      "\u001b[0;31m---------------------------------------------------------------------------\u001b[0m",
      "\u001b[0;31mNameError\u001b[0m                                 Traceback (most recent call last)",
      "\u001b[0;32m/var/folders/yx/8j4637vx6ssdx_jtqr57wrm40000gn/T/ipykernel_64314/2598195001.py\u001b[0m in \u001b[0;36m<module>\u001b[0;34m\u001b[0m\n\u001b[0;32m----> 1\u001b[0;31m \u001b[0mJSON\u001b[0m\u001b[0;34m(\u001b[0m\u001b[0mresults\u001b[0m\u001b[0;34m)\u001b[0m\u001b[0;34m\u001b[0m\u001b[0;34m\u001b[0m\u001b[0m\n\u001b[0m",
      "\u001b[0;31mNameError\u001b[0m: name 'JSON' is not defined"
     ]
    }
   ],
   "source": [
    "JSON(results)"
   ]
  },
  {
   "cell_type": "code",
   "execution_count": 6,
   "metadata": {},
   "outputs": [
    {
     "name": "stdout",
     "output_type": "stream",
     "text": [
      "Antwerp\n",
      "Berchem\n",
      "Berendrecht\n",
      "Borgerhout\n",
      "Deurne\n",
      "Ekeren\n",
      "Hoboken\n",
      "Merksem\n",
      "Wilrijk\n"
     ]
    }
   ],
   "source": [
    "antwerp_venues = getNearbyVenues(names = df['Neighbourhoods'],\n",
    "                              latitudes = df['Latitude'],\n",
    "                            longitudes = df['Longitude'])"
   ]
  },
  {
   "cell_type": "code",
   "execution_count": 7,
   "metadata": {
    "collapsed": true,
    "jupyter": {
     "outputs_hidden": true
    },
    "tags": []
   },
   "outputs": [
    {
     "data": {
      "text/plain": [
       "[[('Antwerp',\n",
       "   '51.22139',\n",
       "   '4.39722',\n",
       "   'Grote Markt',\n",
       "   51.22116326214871,\n",
       "   4.399809612986948,\n",
       "   'Plaza'),\n",
       "  ('Antwerp',\n",
       "   '51.22139',\n",
       "   '4.39722',\n",
       "   \"Cartoon's\\xa0\",\n",
       "   51.221692709260495,\n",
       "   4.398058396803749,\n",
       "   'Indie Movie Theater'),\n",
       "  ('Antwerp',\n",
       "   '51.22139',\n",
       "   '4.39722',\n",
       "   'Falafel Tof',\n",
       "   51.219975094624324,\n",
       "   4.398477850381504,\n",
       "   'Falafel Restaurant'),\n",
       "  ('Antwerp',\n",
       "   '51.22139',\n",
       "   '4.39722',\n",
       "   'Zaowang',\n",
       "   51.22029229969027,\n",
       "   4.399673791094058,\n",
       "   'Sushi Restaurant'),\n",
       "  ('Antwerp',\n",
       "   '51.22139',\n",
       "   '4.39722',\n",
       "   'Bia Mara',\n",
       "   51.22089411711053,\n",
       "   4.400188694999644,\n",
       "   'Fish & Chips Shop'),\n",
       "  ('Antwerp',\n",
       "   '51.22139',\n",
       "   '4.39722',\n",
       "   'Steenplein',\n",
       "   51.221370153662214,\n",
       "   4.397108915891959,\n",
       "   'Plaza'),\n",
       "  ('Antwerp',\n",
       "   '51.22139',\n",
       "   '4.39722',\n",
       "   'Arte',\n",
       "   51.22081295778817,\n",
       "   4.398452234289174,\n",
       "   'Italian Restaurant'),\n",
       "  ('Antwerp',\n",
       "   '51.22139',\n",
       "   '4.39722',\n",
       "   'Jones & co',\n",
       "   51.21981744483137,\n",
       "   4.399696649886646,\n",
       "   'Cocktail Bar'),\n",
       "  ('Antwerp',\n",
       "   '51.22139',\n",
       "   '4.39722',\n",
       "   'Amadeus 2',\n",
       "   51.221197409752534,\n",
       "   4.3976991341829015,\n",
       "   'BBQ Joint'),\n",
       "  ('Antwerp',\n",
       "   '51.22139',\n",
       "   '4.39722',\n",
       "   'Paters Vaetje',\n",
       "   51.22063331582656,\n",
       "   4.4005331890040456,\n",
       "   'Pub'),\n",
       "  ('Antwerp',\n",
       "   '51.22139',\n",
       "   '4.39722',\n",
       "   \"O'Tagine\",\n",
       "   51.2208903569663,\n",
       "   4.396853074536036,\n",
       "   'Moroccan Restaurant'),\n",
       "  ('Antwerp',\n",
       "   '51.22139',\n",
       "   '4.39722',\n",
       "   'Pasta Hippo Vino',\n",
       "   51.220143,\n",
       "   4.399874,\n",
       "   'Italian Restaurant'),\n",
       "  ('Antwerp',\n",
       "   '51.22139',\n",
       "   '4.39722',\n",
       "   'Tapa Bar',\n",
       "   51.21954886046016,\n",
       "   4.399444094245382,\n",
       "   'Spanish Restaurant'),\n",
       "  ('Antwerp',\n",
       "   '51.22139',\n",
       "   '4.39722',\n",
       "   'Pick&Mex',\n",
       "   51.21936408741781,\n",
       "   4.398731689775403,\n",
       "   'Taco Place'),\n",
       "  ('Antwerp',\n",
       "   '51.22139',\n",
       "   '4.39722',\n",
       "   'Caffe Mundi',\n",
       "   51.22186803136541,\n",
       "   4.400666287959621,\n",
       "   'Coffee Shop'),\n",
       "  ('Antwerp',\n",
       "   '51.22139',\n",
       "   '4.39722',\n",
       "   'Absinthbar',\n",
       "   51.219911948375746,\n",
       "   4.4007093204355785,\n",
       "   'Cocktail Bar'),\n",
       "  ('Antwerp',\n",
       "   '51.22139',\n",
       "   '4.39722',\n",
       "   'De 7 Schaken',\n",
       "   51.221641,\n",
       "   4.399419,\n",
       "   'Belgian Restaurant'),\n",
       "  ('Antwerp',\n",
       "   '51.22139',\n",
       "   '4.39722',\n",
       "   'MoMade Cupcakes',\n",
       "   51.21908459021155,\n",
       "   4.399444977766275,\n",
       "   'Cupcake Shop'),\n",
       "  ('Antwerp',\n",
       "   '51.22139',\n",
       "   '4.39722',\n",
       "   'De Ware Jacob',\n",
       "   51.21983601752845,\n",
       "   4.397457540035248,\n",
       "   'Bar'),\n",
       "  ('Antwerp',\n",
       "   '51.22139',\n",
       "   '4.39722',\n",
       "   'Café Beveren',\n",
       "   51.219855517409556,\n",
       "   4.3963644947939216,\n",
       "   'Pub'),\n",
       "  ('Antwerp',\n",
       "   '51.22139',\n",
       "   '4.39722',\n",
       "   'Brasserie Appelmans',\n",
       "   51.21987928424813,\n",
       "   4.400716848069901,\n",
       "   'Brasserie'),\n",
       "  ('Antwerp',\n",
       "   '51.22139',\n",
       "   '4.39722',\n",
       "   'Witzli-Poetzli',\n",
       "   51.22062704638522,\n",
       "   4.401024404809856,\n",
       "   'Bar'),\n",
       "  ('Antwerp',\n",
       "   '51.22139',\n",
       "   '4.39722',\n",
       "   \"'t Fornuis\",\n",
       "   51.218954158818626,\n",
       "   4.399396405631926,\n",
       "   'French Restaurant'),\n",
       "  ('Antwerp',\n",
       "   '51.22139',\n",
       "   '4.39722',\n",
       "   'Kartini Indonesisch Restaurant',\n",
       "   51.219269716120465,\n",
       "   4.400557207871248,\n",
       "   'Indonesian Restaurant'),\n",
       "  ('Antwerp',\n",
       "   '51.22139',\n",
       "   '4.39722',\n",
       "   'Onze-Lieve-Vrouwekathedraal',\n",
       "   51.22028,\n",
       "   4.4016094,\n",
       "   'Church'),\n",
       "  ('Antwerp',\n",
       "   '51.22139',\n",
       "   '4.39722',\n",
       "   'Tram 3',\n",
       "   51.21985175002639,\n",
       "   4.4001568757008815,\n",
       "   'Bar'),\n",
       "  ('Antwerp',\n",
       "   '51.22139',\n",
       "   '4.39722',\n",
       "   'Belmondo',\n",
       "   51.21909164318088,\n",
       "   4.400518117371707,\n",
       "   'Bar'),\n",
       "  ('Antwerp',\n",
       "   '51.22139',\n",
       "   '4.39722',\n",
       "   'Cocktails at Nine',\n",
       "   51.22077235539168,\n",
       "   4.4021146735658405,\n",
       "   'Cocktail Bar'),\n",
       "  ('Antwerp',\n",
       "   '51.22139',\n",
       "   '4.39722',\n",
       "   'Ace & Tate',\n",
       "   51.21821448019929,\n",
       "   4.397692402446751,\n",
       "   'Optical Shop'),\n",
       "  ('Antwerp',\n",
       "   '51.22139',\n",
       "   '4.39722',\n",
       "   'De Pottekijker',\n",
       "   51.22109707205255,\n",
       "   4.4018698571024215,\n",
       "   'Belgian Restaurant'),\n",
       "  ('Antwerp',\n",
       "   '51.22139',\n",
       "   '4.39722',\n",
       "   'Quetzal',\n",
       "   51.220625035221246,\n",
       "   4.402132028711696,\n",
       "   'Coffee Shop'),\n",
       "  ('Antwerp',\n",
       "   '51.22139',\n",
       "   '4.39722',\n",
       "   'Museum Plantin-Moretus / Prentenkabinet (Museum Plantin-Moretus)',\n",
       "   51.218477418052345,\n",
       "   4.398078162027128,\n",
       "   'Art Museum'),\n",
       "  ('Antwerp',\n",
       "   '51.22139',\n",
       "   '4.39722',\n",
       "   'Umi Sushi & Asian Cuisine',\n",
       "   51.21933575896549,\n",
       "   4.401081374008544,\n",
       "   'Sushi Restaurant'),\n",
       "  ('Antwerp',\n",
       "   '51.22139',\n",
       "   '4.39722',\n",
       "   'Cabron',\n",
       "   51.22108792663166,\n",
       "   4.401614832862303,\n",
       "   'Bar'),\n",
       "  ('Antwerp',\n",
       "   '51.22139',\n",
       "   '4.39722',\n",
       "   \"Billie's Bier Kafétaria\",\n",
       "   51.218431696680476,\n",
       "   4.400341403913909,\n",
       "   'Beer Bar'),\n",
       "  ('Antwerp',\n",
       "   '51.22139',\n",
       "   '4.39722',\n",
       "   'Dogma Cocktails',\n",
       "   51.22114647843799,\n",
       "   4.402854277962921,\n",
       "   'Cocktail Bar'),\n",
       "  ('Antwerp',\n",
       "   '51.22139',\n",
       "   '4.39722',\n",
       "   'RAS | Restaurant Aan de Stroom',\n",
       "   51.2191165611552,\n",
       "   4.394538086094428,\n",
       "   'Belgian Restaurant'),\n",
       "  ('Antwerp',\n",
       "   '51.22139',\n",
       "   '4.39722',\n",
       "   'Café De Vuile Was',\n",
       "   51.22057878002097,\n",
       "   4.397306327006305,\n",
       "   'Cocktail Bar'),\n",
       "  ('Antwerp',\n",
       "   '51.22139',\n",
       "   '4.39722',\n",
       "   \"Kid's Rhythm 'n Blues Kaffee\",\n",
       "   51.22125232576326,\n",
       "   4.4010544303465275,\n",
       "   'Bar'),\n",
       "  ('Antwerp',\n",
       "   '51.22139',\n",
       "   '4.39722',\n",
       "   'Moochie Frozen Yoghurt',\n",
       "   51.220036,\n",
       "   4.40285,\n",
       "   'Frozen Yogurt Shop'),\n",
       "  ('Antwerp',\n",
       "   '51.22139',\n",
       "   '4.39722',\n",
       "   'De Muze',\n",
       "   51.220569013500956,\n",
       "   4.402699301467771,\n",
       "   'Jazz Club'),\n",
       "  ('Antwerp',\n",
       "   '51.22139',\n",
       "   '4.39722',\n",
       "   'Me & My Monkey',\n",
       "   51.21763573122324,\n",
       "   4.396331308274219,\n",
       "   'Coffee Shop'),\n",
       "  ('Antwerp',\n",
       "   '51.22139',\n",
       "   '4.39722',\n",
       "   'Da Giovanni',\n",
       "   51.219929,\n",
       "   4.4005703,\n",
       "   'Italian Restaurant'),\n",
       "  ('Antwerp',\n",
       "   '51.22139',\n",
       "   '4.39722',\n",
       "   'Pinot',\n",
       "   51.21832832369206,\n",
       "   4.398399152487239,\n",
       "   'Wine Bar'),\n",
       "  ('Antwerp',\n",
       "   '51.22139',\n",
       "   '4.39722',\n",
       "   'Elfde Gebod',\n",
       "   51.22076334533789,\n",
       "   4.401472806930542,\n",
       "   'Belgian Restaurant'),\n",
       "  ('Antwerp',\n",
       "   '51.22139',\n",
       "   '4.39722',\n",
       "   'De Groene Waterman',\n",
       "   51.22164951794753,\n",
       "   4.402729143969631,\n",
       "   'Bookstore'),\n",
       "  ('Antwerp',\n",
       "   '51.22139',\n",
       "   '4.39722',\n",
       "   'Groenplaats',\n",
       "   51.2188059938768,\n",
       "   4.401491509160746,\n",
       "   'Plaza'),\n",
       "  ('Antwerp',\n",
       "   '51.22139',\n",
       "   '4.39722',\n",
       "   'Tartoer',\n",
       "   51.22148123364994,\n",
       "   4.4024344143928245,\n",
       "   'Coffee Shop'),\n",
       "  ('Antwerp',\n",
       "   '51.22139',\n",
       "   '4.39722',\n",
       "   \"Manhattn's Burgers\",\n",
       "   51.2187,\n",
       "   4.40092,\n",
       "   'Burger Joint'),\n",
       "  ('Antwerp',\n",
       "   '51.22139',\n",
       "   '4.39722',\n",
       "   'Marché-Couverts',\n",
       "   51.22323704770704,\n",
       "   4.402718251718127,\n",
       "   'French Restaurant'),\n",
       "  ('Antwerp',\n",
       "   '51.22139',\n",
       "   '4.39722',\n",
       "   'Escaping Antwerp',\n",
       "   51.21911821564856,\n",
       "   4.399165041471609,\n",
       "   'Escape Room'),\n",
       "  ('Antwerp',\n",
       "   '51.22139',\n",
       "   '4.39722',\n",
       "   'Sint-Pauluskerk',\n",
       "   51.22405420031056,\n",
       "   4.401290416717529,\n",
       "   'Church'),\n",
       "  ('Antwerp',\n",
       "   '51.22139',\n",
       "   '4.39722',\n",
       "   'Dille & Kamille',\n",
       "   51.21994745190665,\n",
       "   4.403460857335856,\n",
       "   'Herbs & Spices Store'),\n",
       "  ('Antwerp',\n",
       "   '51.22139',\n",
       "   '4.39722',\n",
       "   'Restaurant Nathan',\n",
       "   51.223127849853,\n",
       "   4.402728558710872,\n",
       "   'Belgian Restaurant'),\n",
       "  ('Antwerp',\n",
       "   '51.22139',\n",
       "   '4.39722',\n",
       "   'Camino',\n",
       "   51.217141819121,\n",
       "   4.396581606195229,\n",
       "   'Vietnamese Restaurant'),\n",
       "  ('Antwerp',\n",
       "   '51.22139',\n",
       "   '4.39722',\n",
       "   'Hendrik Consienceplein',\n",
       "   51.22103608246193,\n",
       "   4.40418010790557,\n",
       "   'Plaza'),\n",
       "  ('Antwerp',\n",
       "   '51.22139',\n",
       "   '4.39722',\n",
       "   'Hard Rock Cafe',\n",
       "   51.2188288,\n",
       "   4.4022244,\n",
       "   'Bar'),\n",
       "  ('Antwerp',\n",
       "   '51.22139',\n",
       "   '4.39722',\n",
       "   'Hotel Julien',\n",
       "   51.22028465382873,\n",
       "   4.403871907689068,\n",
       "   'Hotel'),\n",
       "  ('Antwerp',\n",
       "   '51.22139',\n",
       "   '4.39722',\n",
       "   'Native',\n",
       "   51.21707361968364,\n",
       "   4.396970422452216,\n",
       "   'Bistro'),\n",
       "  ('Antwerp',\n",
       "   '51.22139',\n",
       "   '4.39722',\n",
       "   'Museum Vleeshuis | Klank van de stad',\n",
       "   51.22262882465097,\n",
       "   4.399335698910586,\n",
       "   'History Museum'),\n",
       "  ('Antwerp',\n",
       "   '51.22139',\n",
       "   '4.39722',\n",
       "   'Copyright',\n",
       "   51.21732004463701,\n",
       "   4.399895803706711,\n",
       "   'Bookstore'),\n",
       "  ('Antwerp',\n",
       "   '51.22139',\n",
       "   '4.39722',\n",
       "   'Satay',\n",
       "   51.2212,\n",
       "   4.40427,\n",
       "   'Asian Restaurant'),\n",
       "  ('Antwerp',\n",
       "   '51.22139',\n",
       "   '4.39722',\n",
       "   'Croquettenbar Smaeck',\n",
       "   51.22283478730274,\n",
       "   4.402455126245976,\n",
       "   'Restaurant'),\n",
       "  ('Antwerp',\n",
       "   '51.22139',\n",
       "   '4.39722',\n",
       "   'Bar Basil',\n",
       "   51.21904863516944,\n",
       "   4.401353726643001,\n",
       "   'Bar'),\n",
       "  ('Antwerp',\n",
       "   '51.22139',\n",
       "   '4.39722',\n",
       "   'IMS Tijdschriften',\n",
       "   51.2204043107621,\n",
       "   4.402534896183931,\n",
       "   'Bookstore'),\n",
       "  ('Antwerp',\n",
       "   '51.22139',\n",
       "   '4.39722',\n",
       "   'Lids',\n",
       "   51.22386235165906,\n",
       "   4.399976990717009,\n",
       "   'Restaurant'),\n",
       "  ('Antwerp',\n",
       "   '51.22139',\n",
       "   '4.39722',\n",
       "   'Sint-Annatunnel',\n",
       "   51.219740102291944,\n",
       "   4.39182230271399,\n",
       "   'Tunnel'),\n",
       "  ('Antwerp',\n",
       "   '51.22139',\n",
       "   '4.39722',\n",
       "   'Le Pain Quotidien',\n",
       "   51.217697380548934,\n",
       "   4.399707913398743,\n",
       "   'Bakery'),\n",
       "  ('Antwerp',\n",
       "   '51.22139',\n",
       "   '4.39722',\n",
       "   'de Peerdestal',\n",
       "   51.221098571837985,\n",
       "   4.403198344658347,\n",
       "   'French Restaurant'),\n",
       "  ('Antwerp',\n",
       "   '51.22139',\n",
       "   '4.39722',\n",
       "   'NADA',\n",
       "   51.22339697896049,\n",
       "   4.402834967914227,\n",
       "   'Fishing Store'),\n",
       "  ('Antwerp',\n",
       "   '51.22139',\n",
       "   '4.39722',\n",
       "   \"'t Vervolg\",\n",
       "   51.22076424754061,\n",
       "   4.402773279094545,\n",
       "   'Bar'),\n",
       "  ('Antwerp',\n",
       "   '51.22139',\n",
       "   '4.39722',\n",
       "   'Amadeus I',\n",
       "   51.22464235913155,\n",
       "   4.400717905776969,\n",
       "   'BBQ Joint'),\n",
       "  ('Antwerp',\n",
       "   '51.22139',\n",
       "   '4.39722',\n",
       "   'Het Steen',\n",
       "   51.222646,\n",
       "   4.39742,\n",
       "   'Castle'),\n",
       "  ('Antwerp',\n",
       "   '51.22139',\n",
       "   '4.39722',\n",
       "   'Bar Buenos Aires',\n",
       "   51.22367960234628,\n",
       "   4.403353035449982,\n",
       "   'Empanada Restaurant'),\n",
       "  ('Antwerp',\n",
       "   '51.22139',\n",
       "   '4.39722',\n",
       "   'House of brows - Myriam Ayari',\n",
       "   51.22414195914272,\n",
       "   4.402627250540573,\n",
       "   'Health & Beauty Service'),\n",
       "  ('Antwerp',\n",
       "   '51.22139',\n",
       "   '4.39722',\n",
       "   'Refill',\n",
       "   51.222647080225116,\n",
       "   4.400797017392237,\n",
       "   'Belgian Restaurant'),\n",
       "  ('Antwerp',\n",
       "   '51.22139',\n",
       "   '4.39722',\n",
       "   'Sombat',\n",
       "   51.22283164684586,\n",
       "   4.398278147867946,\n",
       "   'Thai Restaurant'),\n",
       "  ('Antwerp',\n",
       "   '51.22139',\n",
       "   '4.39722',\n",
       "   'Veemarkt',\n",
       "   51.22379312908388,\n",
       "   4.400238353281925,\n",
       "   'Plaza'),\n",
       "  ('Antwerp',\n",
       "   '51.22139',\n",
       "   '4.39722',\n",
       "   'ToiToiToi',\n",
       "   51.222478,\n",
       "   4.402239,\n",
       "   'Coffee Shop'),\n",
       "  ('Antwerp',\n",
       "   '51.22139',\n",
       "   '4.39722',\n",
       "   'Sint-Paulusplaats',\n",
       "   51.22514316422769,\n",
       "   4.401067595660007,\n",
       "   'Plaza'),\n",
       "  ('Antwerp',\n",
       "   '51.22139',\n",
       "   '4.39722',\n",
       "   'Little Ethiopia',\n",
       "   51.223104825812754,\n",
       "   4.400324322589081,\n",
       "   'Ethiopian Restaurant'),\n",
       "  ('Antwerp', '51.22139', '4.39722', 'Cfou', 51.223582, 4.403465, 'Bar'),\n",
       "  ('Antwerp',\n",
       "   '51.22139',\n",
       "   '4.39722',\n",
       "   'Que Pasa',\n",
       "   51.22352967100452,\n",
       "   4.403146555228092,\n",
       "   'Gay Bar'),\n",
       "  ('Antwerp',\n",
       "   '51.22139',\n",
       "   '4.39722',\n",
       "   'Athene',\n",
       "   51.225097193823224,\n",
       "   4.401186756436637,\n",
       "   'Greek Restaurant'),\n",
       "  ('Antwerp',\n",
       "   '51.22139',\n",
       "   '4.39722',\n",
       "   'Mie Katoen',\n",
       "   51.22499969576793,\n",
       "   4.399875949055658,\n",
       "   'Restaurant'),\n",
       "  ('Antwerp',\n",
       "   '51.22139',\n",
       "   '4.39722',\n",
       "   'Zirkey',\n",
       "   51.22286010421566,\n",
       "   4.401694569092679,\n",
       "   'Café'),\n",
       "  ('Antwerp',\n",
       "   '51.22139',\n",
       "   '4.39722',\n",
       "   'Gusto Italiano',\n",
       "   51.223162859056565,\n",
       "   4.4026763031978104,\n",
       "   'Italian Restaurant'),\n",
       "  ('Antwerp',\n",
       "   '51.22139',\n",
       "   '4.39722',\n",
       "   'NoorderTerras',\n",
       "   51.2248811093943,\n",
       "   4.3984195705380476,\n",
       "   'Mediterranean Restaurant'),\n",
       "  ('Antwerp',\n",
       "   '51.22139',\n",
       "   '4.39722',\n",
       "   'MaritiemPark',\n",
       "   51.222886147700706,\n",
       "   4.398246777810232,\n",
       "   'Harbor / Marina'),\n",
       "  ('Antwerp',\n",
       "   '51.22139',\n",
       "   '4.39722',\n",
       "   'Overzetboot',\n",
       "   51.224265,\n",
       "   4.392543,\n",
       "   'Boat or Ferry')],\n",
       " [('Berchem',\n",
       "   '51.1955771',\n",
       "   '4.4188392',\n",
       "   'Cantaloop',\n",
       "   51.19466727320704,\n",
       "   4.417125455800262,\n",
       "   'Bar'),\n",
       "  ('Berchem',\n",
       "   '51.1955771',\n",
       "   '4.4188392',\n",
       "   'De Troubadour',\n",
       "   51.19604304485655,\n",
       "   4.420455494278981,\n",
       "   'Restaurant'),\n",
       "  ('Berchem',\n",
       "   '51.1955771',\n",
       "   '4.4188392',\n",
       "   'Danzateljee',\n",
       "   51.195746168093606,\n",
       "   4.419167707254461,\n",
       "   'Dance Studio'),\n",
       "  ('Berchem',\n",
       "   '51.1955771',\n",
       "   '4.4188392',\n",
       "   'Chicane',\n",
       "   51.19754971931504,\n",
       "   4.416255502575959,\n",
       "   'French Restaurant'),\n",
       "  ('Berchem',\n",
       "   '51.1955771',\n",
       "   '4.4188392',\n",
       "   'Pasta Rigoletto',\n",
       "   51.19575067142858,\n",
       "   4.420815,\n",
       "   'Italian Restaurant'),\n",
       "  ('Berchem',\n",
       "   '51.1955771',\n",
       "   '4.4188392',\n",
       "   'Anverness',\n",
       "   51.19768165437087,\n",
       "   4.416951119512097,\n",
       "   'Liquor Store'),\n",
       "  ('Berchem',\n",
       "   '51.1955771',\n",
       "   '4.4188392',\n",
       "   'De Nieuwe Vrede',\n",
       "   51.19472186622522,\n",
       "   4.42114661463948,\n",
       "   'Theater'),\n",
       "  ('Berchem',\n",
       "   '51.1955771',\n",
       "   '4.4188392',\n",
       "   'Pain Mercier Dellafaille',\n",
       "   51.19754169532703,\n",
       "   4.416195136605159,\n",
       "   'Bakery'),\n",
       "  ('Berchem',\n",
       "   '51.1955771',\n",
       "   '4.4188392',\n",
       "   \"Vin d' Où\",\n",
       "   51.19595901153022,\n",
       "   4.415884654357837,\n",
       "   'Restaurant'),\n",
       "  ('Berchem',\n",
       "   '51.1955771',\n",
       "   '4.4188392',\n",
       "   'Het Been',\n",
       "   51.19872725615274,\n",
       "   4.418608611687923,\n",
       "   'Bar'),\n",
       "  ('Berchem',\n",
       "   '51.1955771',\n",
       "   '4.4188392',\n",
       "   'Albert Heijn',\n",
       "   51.19651442670711,\n",
       "   4.420472369222101,\n",
       "   'Supermarket'),\n",
       "  ('Berchem',\n",
       "   '51.1955771',\n",
       "   '4.4188392',\n",
       "   'Sonseveria',\n",
       "   51.19650644927915,\n",
       "   4.423434399609996,\n",
       "   'Gastropub'),\n",
       "  ('Berchem',\n",
       "   '51.1955771',\n",
       "   '4.4188392',\n",
       "   'Greenhouse Café',\n",
       "   51.19288168006113,\n",
       "   4.41576282043835,\n",
       "   'Tapas Restaurant'),\n",
       "  ('Berchem',\n",
       "   '51.1955771',\n",
       "   '4.4188392',\n",
       "   'i-fitness',\n",
       "   51.19834692257642,\n",
       "   4.417308332357056,\n",
       "   'Gym / Fitness Center'),\n",
       "  ('Berchem',\n",
       "   '51.1955771',\n",
       "   '4.4188392',\n",
       "   'Kornél',\n",
       "   51.19973442890206,\n",
       "   4.4194982277640635,\n",
       "   'Coffee Shop'),\n",
       "  ('Berchem',\n",
       "   '51.1955771',\n",
       "   '4.4188392',\n",
       "   'Snack Bar Alaturka',\n",
       "   51.19675606982472,\n",
       "   4.422349000303218,\n",
       "   'Restaurant'),\n",
       "  ('Berchem',\n",
       "   '51.1955771',\n",
       "   '4.4188392',\n",
       "   'De Koninck - Antwerp City Brewery',\n",
       "   51.19928889998077,\n",
       "   4.415150731801987,\n",
       "   'Brewery'),\n",
       "  ('Berchem',\n",
       "   '51.1955771',\n",
       "   '4.4188392',\n",
       "   'Poyraz Pide',\n",
       "   51.196180844303136,\n",
       "   4.420962563463749,\n",
       "   'Pizza Place'),\n",
       "  ('Berchem',\n",
       "   '51.1955771',\n",
       "   '4.4188392',\n",
       "   'Tezol',\n",
       "   51.196579030568884,\n",
       "   4.421957946005893,\n",
       "   'Turkish Restaurant'),\n",
       "  ('Berchem',\n",
       "   '51.1955771',\n",
       "   '4.4188392',\n",
       "   'De Koninck bar',\n",
       "   51.19940662379577,\n",
       "   4.415309109690482,\n",
       "   'Bar'),\n",
       "  ('Berchem',\n",
       "   '51.1955771',\n",
       "   '4.4188392',\n",
       "   'Black Smoke',\n",
       "   51.19950292140078,\n",
       "   4.415681853386737,\n",
       "   'BBQ Joint'),\n",
       "  ('Berchem',\n",
       "   '51.1955771',\n",
       "   '4.4188392',\n",
       "   'Black Smoke Rooftop',\n",
       "   51.19953443028073,\n",
       "   4.415594952061186,\n",
       "   'Rooftop Bar'),\n",
       "  ('Berchem',\n",
       "   '51.1955771',\n",
       "   '4.4188392',\n",
       "   'YUST Hotel',\n",
       "   51.198677,\n",
       "   4.4167156,\n",
       "   'Hotel'),\n",
       "  ('Berchem',\n",
       "   '51.1955771',\n",
       "   '4.4188392',\n",
       "   'Snack Grill Berchem',\n",
       "   51.197582090118004,\n",
       "   4.424189187483135,\n",
       "   'Middle Eastern Restaurant'),\n",
       "  ('Berchem',\n",
       "   '51.1955771',\n",
       "   '4.4188392',\n",
       "   \"Kiwi's Snack\",\n",
       "   51.19371204677664,\n",
       "   4.414192057820154,\n",
       "   'Snack Place'),\n",
       "  ('Berchem',\n",
       "   '51.1955771',\n",
       "   '4.4188392',\n",
       "   \"The Butcher's Son\",\n",
       "   51.199492255490235,\n",
       "   4.41602326182752,\n",
       "   'Belgian Restaurant'),\n",
       "  ('Berchem',\n",
       "   '51.1955771',\n",
       "   '4.4188392',\n",
       "   'The bakery',\n",
       "   51.19942021705044,\n",
       "   4.415834094975763,\n",
       "   'Bakery'),\n",
       "  ('Berchem',\n",
       "   '51.1955771',\n",
       "   '4.4188392',\n",
       "   \"Frituur - Snack 't Pleintje\",\n",
       "   51.19534667276359,\n",
       "   4.418114944677895,\n",
       "   'Friterie'),\n",
       "  ('Berchem',\n",
       "   '51.1955771',\n",
       "   '4.4188392',\n",
       "   'De Pelgrim',\n",
       "   51.199169681163546,\n",
       "   4.415587340496372,\n",
       "   'Bar'),\n",
       "  ('Berchem',\n",
       "   '51.1955771',\n",
       "   '4.4188392',\n",
       "   'Only Cheese by Kaasaffineurs Van Tricht',\n",
       "   51.19943723307201,\n",
       "   4.415950889975983,\n",
       "   'Cheese Shop'),\n",
       "  ('Berchem',\n",
       "   '51.1955771',\n",
       "   '4.4188392',\n",
       "   'Jitsk',\n",
       "   51.19930720669811,\n",
       "   4.415626924390806,\n",
       "   'Dessert Shop'),\n",
       "  ('Berchem',\n",
       "   '51.1955771',\n",
       "   '4.4188392',\n",
       "   \"L'amuse Gueule\",\n",
       "   51.19275515899748,\n",
       "   4.4184973915146335,\n",
       "   'Snack Place'),\n",
       "  ('Berchem',\n",
       "   '51.1955771',\n",
       "   '4.4188392',\n",
       "   \"Sauna 't Herenhuis\",\n",
       "   51.1943,\n",
       "   4.41397,\n",
       "   'Sauna / Steam Room'),\n",
       "  ('Berchem',\n",
       "   '51.1955771',\n",
       "   '4.4188392',\n",
       "   'Kruidvat',\n",
       "   51.19614404411265,\n",
       "   4.420861927671281,\n",
       "   'Cosmetics Shop'),\n",
       "  ('Berchem',\n",
       "   '51.1955771',\n",
       "   '4.4188392',\n",
       "   'Black Smoke Bar',\n",
       "   51.19955251261107,\n",
       "   4.415662978333059,\n",
       "   'Bar'),\n",
       "  ('Berchem',\n",
       "   '51.1955771',\n",
       "   '4.4188392',\n",
       "   'Charif',\n",
       "   51.197295704666985,\n",
       "   4.423495647432126,\n",
       "   'Bakery'),\n",
       "  ('Berchem',\n",
       "   '51.1955771',\n",
       "   '4.4188392',\n",
       "   'paparocca',\n",
       "   51.197452101378474,\n",
       "   4.423980777685157,\n",
       "   'Italian Restaurant'),\n",
       "  ('Berchem',\n",
       "   '51.1955771',\n",
       "   '4.4188392',\n",
       "   'Marie',\n",
       "   51.199631387885795,\n",
       "   4.417504732442456,\n",
       "   'Mediterranean Restaurant')],\n",
       " [('Berendrecht',\n",
       "   '51.3455396',\n",
       "   '4.319401',\n",
       "   \"Frituur 't Solft\",\n",
       "   51.34412202262013,\n",
       "   4.31599530285114,\n",
       "   'Friterie'),\n",
       "  ('Berendrecht',\n",
       "   '51.3455396',\n",
       "   '4.319401',\n",
       "   'Bakkerij De Schutter',\n",
       "   51.34523420524322,\n",
       "   4.319179249432401,\n",
       "   'Bakery'),\n",
       "  ('Berendrecht',\n",
       "   '51.3455396',\n",
       "   '4.319401',\n",
       "   'Sporthal De Polder',\n",
       "   51.34924763795857,\n",
       "   4.315873368147082,\n",
       "   'Athletics & Sports'),\n",
       "  ('Berendrecht',\n",
       "   '51.3455396',\n",
       "   '4.319401',\n",
       "   \"Bakkerij 't Moleken\",\n",
       "   51.34586,\n",
       "   4.321635,\n",
       "   'Bakery'),\n",
       "  ('Berendrecht',\n",
       "   '51.3455396',\n",
       "   '4.319401',\n",
       "   'Brood en Banket Marina',\n",
       "   51.34548,\n",
       "   4.320267,\n",
       "   'Bakery'),\n",
       "  ('Berendrecht',\n",
       "   '51.3455396',\n",
       "   '4.319401',\n",
       "   'koffie-xpress',\n",
       "   51.3454,\n",
       "   4.319563,\n",
       "   'Tea Room'),\n",
       "  ('Berendrecht',\n",
       "   '51.3455396',\n",
       "   '4.319401',\n",
       "   'Halte Kleine Bredestraat',\n",
       "   51.34620832172328,\n",
       "   4.322715754753055,\n",
       "   'Bus Stop'),\n",
       "  ('Berendrecht',\n",
       "   '51.3455396',\n",
       "   '4.319401',\n",
       "   'Skatepark',\n",
       "   51.345227998161555,\n",
       "   4.324124995233946,\n",
       "   'Skate Park'),\n",
       "  ('Berendrecht',\n",
       "   '51.3455396',\n",
       "   '4.319401',\n",
       "   'Sportsduif',\n",
       "   51.34357407359094,\n",
       "   4.314973674368509,\n",
       "   'Café'),\n",
       "  ('Berendrecht',\n",
       "   '51.3455396',\n",
       "   '4.319401',\n",
       "   'De Koerel',\n",
       "   51.34324221832131,\n",
       "   4.314323627937138,\n",
       "   'Pub'),\n",
       "  ('Berendrecht',\n",
       "   '51.3455396',\n",
       "   '4.319401',\n",
       "   'Voetbal@bomenbank',\n",
       "   51.341663068686664,\n",
       "   4.321981540677751,\n",
       "   'Soccer Field')],\n",
       " [('Borgerhout',\n",
       "   '51.2128453',\n",
       "   '4.4462406',\n",
       "   'De Roma',\n",
       "   51.2132917719449,\n",
       "   4.440055572424557,\n",
       "   'Performing Arts Venue'),\n",
       "  ('Borgerhout',\n",
       "   '51.2128453',\n",
       "   '4.4462406',\n",
       "   'Zeno-x Borgerhout',\n",
       "   51.21247168813947,\n",
       "   4.440979754059189,\n",
       "   'Art Gallery'),\n",
       "  ('Borgerhout',\n",
       "   '51.2128453',\n",
       "   '4.4462406',\n",
       "   'Van Der Valk Hotel Antwerpen',\n",
       "   51.20913450259771,\n",
       "   4.445891640001974,\n",
       "   'Hotel'),\n",
       "  ('Borgerhout',\n",
       "   '51.2128453',\n",
       "   '4.4462406',\n",
       "   'Falafel King',\n",
       "   51.213672,\n",
       "   4.441014,\n",
       "   'Falafel Restaurant'),\n",
       "  ('Borgerhout',\n",
       "   '51.2128453',\n",
       "   '4.4462406',\n",
       "   'BORGO Gelato',\n",
       "   51.21575289520579,\n",
       "   4.442151647757411,\n",
       "   'Ice Cream Shop'),\n",
       "  ('Borgerhout',\n",
       "   '51.2128453',\n",
       "   '4.4462406',\n",
       "   'Bar Leon',\n",
       "   51.215965918418924,\n",
       "   4.441717679704308,\n",
       "   'Bar'),\n",
       "  ('Borgerhout',\n",
       "   '51.2128453',\n",
       "   '4.4462406',\n",
       "   'Restaurant Ristretto',\n",
       "   51.21002148277734,\n",
       "   4.451304412979931,\n",
       "   'Italian Restaurant'),\n",
       "  ('Borgerhout',\n",
       "   '51.2128453',\n",
       "   '4.4462406',\n",
       "   'New Jeruzalem',\n",
       "   51.21117717337633,\n",
       "   4.4514333600708875,\n",
       "   'Restaurant'),\n",
       "  ('Borgerhout',\n",
       "   '51.2128453',\n",
       "   '4.4462406',\n",
       "   'Basic-Fit',\n",
       "   51.214387571904076,\n",
       "   4.443230875571111,\n",
       "   'Gym / Fitness Center'),\n",
       "  ('Borgerhout',\n",
       "   '51.2128453',\n",
       "   '4.4462406',\n",
       "   'AFP Antwerpen',\n",
       "   51.21438157683059,\n",
       "   4.442441807377512,\n",
       "   'Stadium'),\n",
       "  ('Borgerhout',\n",
       "   '51.2128453',\n",
       "   '4.4462406',\n",
       "   'Carrefour Market',\n",
       "   51.211291141120284,\n",
       "   4.451033448864181,\n",
       "   'Supermarket'),\n",
       "  ('Borgerhout',\n",
       "   '51.2128453',\n",
       "   '4.4462406',\n",
       "   'Restaurant Van Der Valk Hotel  Antwerpen',\n",
       "   51.20923327243918,\n",
       "   4.445937810897976,\n",
       "   'Belgian Restaurant'),\n",
       "  ('Borgerhout',\n",
       "   '51.2128453',\n",
       "   '4.4462406',\n",
       "   'Bakkerij Roma',\n",
       "   51.21389807714673,\n",
       "   4.440538957449017,\n",
       "   'Bakery'),\n",
       "  ('Borgerhout',\n",
       "   '51.2128453',\n",
       "   '4.4462406',\n",
       "   'Bar Van Der Valk',\n",
       "   51.20901,\n",
       "   4.446502,\n",
       "   'Hotel Bar'),\n",
       "  ('Borgerhout',\n",
       "   '51.2128453',\n",
       "   '4.4462406',\n",
       "   'Backstage',\n",
       "   51.2133622495543,\n",
       "   4.439996239445342,\n",
       "   'Concert Hall'),\n",
       "  ('Borgerhout',\n",
       "   '51.2128453',\n",
       "   '4.4462406',\n",
       "   'Sandwich & Co',\n",
       "   51.21078446794384,\n",
       "   4.451891531121108,\n",
       "   'Sandwich Place'),\n",
       "  ('Borgerhout',\n",
       "   '51.2128453',\n",
       "   '4.4462406',\n",
       "   \"Mo's Steakhouse\",\n",
       "   51.213621,\n",
       "   4.439777,\n",
       "   'Restaurant'),\n",
       "  ('Borgerhout',\n",
       "   '51.2128453',\n",
       "   '4.4462406',\n",
       "   'Halte Sint-Erasmus',\n",
       "   51.20864738132005,\n",
       "   4.446310455453312,\n",
       "   'Bus Stop')],\n",
       " [('Deurne',\n",
       "   '51.20849',\n",
       "   '4.4719297',\n",
       "   'Tuincentrum Abies',\n",
       "   51.205195303148955,\n",
       "   4.475053614163369,\n",
       "   'Garden Center'),\n",
       "  ('Deurne',\n",
       "   '51.20849',\n",
       "   '4.4719297',\n",
       "   'Den Dorpel',\n",
       "   51.20647694477263,\n",
       "   4.467858013940892,\n",
       "   'Bar'),\n",
       "  ('Deurne',\n",
       "   '51.20849',\n",
       "   '4.4719297',\n",
       "   'Troc.com',\n",
       "   51.20765113007919,\n",
       "   4.46742088647449,\n",
       "   'Thrift / Vintage Store'),\n",
       "  ('Deurne',\n",
       "   '51.20849',\n",
       "   '4.4719297',\n",
       "   'ALDI',\n",
       "   51.20996879772593,\n",
       "   4.465388543494746,\n",
       "   'Supermarket'),\n",
       "  ('Deurne',\n",
       "   '51.20849',\n",
       "   '4.4719297',\n",
       "   'Kruidvat',\n",
       "   51.206558077397204,\n",
       "   4.467559894768722,\n",
       "   'Cosmetics Shop'),\n",
       "  ('Deurne',\n",
       "   '51.20849',\n",
       "   '4.4719297',\n",
       "   \"Pino's\",\n",
       "   51.20900041232276,\n",
       "   4.469752209398946,\n",
       "   'Sandwich Place'),\n",
       "  ('Deurne',\n",
       "   '51.20849',\n",
       "   '4.4719297',\n",
       "   'Panos',\n",
       "   51.20737187744572,\n",
       "   4.465612848659011,\n",
       "   'Sandwich Place'),\n",
       "  ('Deurne',\n",
       "   '51.20849',\n",
       "   '4.4719297',\n",
       "   'Halte Burgemeester De Boeylaan',\n",
       "   51.20982154618238,\n",
       "   4.473543918342049,\n",
       "   'Bus Stop'),\n",
       "  ('Deurne',\n",
       "   '51.20849',\n",
       "   '4.4719297',\n",
       "   'Hondenwei',\n",
       "   51.21058691639581,\n",
       "   4.470489499512951,\n",
       "   'Dog Run'),\n",
       "  ('Deurne',\n",
       "   '51.20849',\n",
       "   '4.4719297',\n",
       "   'Halte Deurne Van Riel',\n",
       "   51.21025285394422,\n",
       "   4.475173394894509,\n",
       "   'Tram Station'),\n",
       "  ('Deurne',\n",
       "   '51.20849',\n",
       "   '4.4719297',\n",
       "   'Halte Deurne Stevenslei',\n",
       "   51.20633050136761,\n",
       "   4.468265474119993,\n",
       "   'Tram Station'),\n",
       "  ('Deurne',\n",
       "   '51.20849',\n",
       "   '4.4719297',\n",
       "   'Schoenen Yvonne',\n",
       "   51.20735272972269,\n",
       "   4.46541549871543,\n",
       "   'Shoe Store'),\n",
       "  ('Deurne',\n",
       "   '51.20849',\n",
       "   '4.4719297',\n",
       "   'Trainingsvelden Rochus Deurne',\n",
       "   51.21050198331966,\n",
       "   4.478058780749084,\n",
       "   'Soccer Field'),\n",
       "  ('Deurne',\n",
       "   '51.20849',\n",
       "   '4.4719297',\n",
       "   'Catba Korfbal',\n",
       "   51.210414898996945,\n",
       "   4.478386860409886,\n",
       "   'Soccer Field')],\n",
       " [('Ekeren',\n",
       "   '51.2773404',\n",
       "   '4.4181413',\n",
       "   'Fritmieke',\n",
       "   51.27789059170253,\n",
       "   4.419533215616646,\n",
       "   'Fast Food Restaurant'),\n",
       "  ('Ekeren',\n",
       "   '51.2773404',\n",
       "   '4.4181413',\n",
       "   'Bistro Anders Dan Anders',\n",
       "   51.27841678238685,\n",
       "   4.418354195785076,\n",
       "   'Bistro'),\n",
       "  ('Ekeren',\n",
       "   '51.2773404',\n",
       "   '4.4181413',\n",
       "   \"Cafe 'De Notenboom'\",\n",
       "   51.277151147644396,\n",
       "   4.419210909486333,\n",
       "   'Bar'),\n",
       "  ('Ekeren',\n",
       "   '51.2773404',\n",
       "   '4.4181413',\n",
       "   'Zwembad De Schinde',\n",
       "   51.27981733993206,\n",
       "   4.413643315461601,\n",
       "   'Pool'),\n",
       "  ('Ekeren',\n",
       "   '51.2773404',\n",
       "   '4.4181413',\n",
       "   'Standaard Boekhandel Ekeren',\n",
       "   51.27919170768886,\n",
       "   4.418903663121356,\n",
       "   'Bookstore'),\n",
       "  ('Ekeren',\n",
       "   '51.2773404',\n",
       "   '4.4181413',\n",
       "   'Gino',\n",
       "   51.28144010938829,\n",
       "   4.417785867356917,\n",
       "   'Italian Restaurant'),\n",
       "  ('Ekeren',\n",
       "   '51.2773404',\n",
       "   '4.4181413',\n",
       "   'Het District',\n",
       "   51.27789350055658,\n",
       "   4.421897324922106,\n",
       "   'Restaurant'),\n",
       "  ('Ekeren',\n",
       "   '51.2773404',\n",
       "   '4.4181413',\n",
       "   'Veltwijckpark',\n",
       "   51.27687270178427,\n",
       "   4.4245776025083385,\n",
       "   'Park'),\n",
       "  ('Ekeren',\n",
       "   '51.2773404',\n",
       "   '4.4181413',\n",
       "   'Kristus Koningplein',\n",
       "   51.27829514233455,\n",
       "   4.4187072612196605,\n",
       "   'Plaza'),\n",
       "  ('Ekeren',\n",
       "   '51.2773404',\n",
       "   '4.4181413',\n",
       "   \"Ballantine's\",\n",
       "   51.2749777405684,\n",
       "   4.412502194819898,\n",
       "   'Gastropub'),\n",
       "  ('Ekeren',\n",
       "   '51.2773404',\n",
       "   '4.4181413',\n",
       "   'Ekers Hof',\n",
       "   51.2780227606805,\n",
       "   4.417000034242817,\n",
       "   'Bar'),\n",
       "  ('Ekeren',\n",
       "   '51.2773404',\n",
       "   '4.4181413',\n",
       "   'Delhaize Shop',\n",
       "   51.274445543488945,\n",
       "   4.415625563890783,\n",
       "   'Supermarket'),\n",
       "  ('Ekeren',\n",
       "   '51.2773404',\n",
       "   '4.4181413',\n",
       "   'Kruidvat',\n",
       "   51.278950930109175,\n",
       "   4.418746792001434,\n",
       "   'Cosmetics Shop'),\n",
       "  ('Ekeren',\n",
       "   '51.2773404',\n",
       "   '4.4181413',\n",
       "   'Volmar Ekeren',\n",
       "   51.275494888463506,\n",
       "   4.422569838330745,\n",
       "   'Volleyball Court'),\n",
       "  ('Ekeren',\n",
       "   '51.2773404',\n",
       "   '4.4181413',\n",
       "   'Panos',\n",
       "   51.273964073436595,\n",
       "   4.4177335049027695,\n",
       "   'Sandwich Place'),\n",
       "  ('Ekeren',\n",
       "   '51.2773404',\n",
       "   '4.4181413',\n",
       "   'Frituur De Markt',\n",
       "   51.279026111911186,\n",
       "   4.418828904199116,\n",
       "   'Friterie'),\n",
       "  ('Ekeren',\n",
       "   '51.2773404',\n",
       "   '4.4181413',\n",
       "   'Marktje 7',\n",
       "   51.277364,\n",
       "   4.418883,\n",
       "   'Ice Cream Shop'),\n",
       "  ('Ekeren',\n",
       "   '51.2773404',\n",
       "   '4.4181413',\n",
       "   'Perfect Present',\n",
       "   51.2780393984773,\n",
       "   4.4179998512249545,\n",
       "   'Restaurant'),\n",
       "  ('Ekeren',\n",
       "   '51.2773404',\n",
       "   '4.4181413',\n",
       "   'Snack Ekeren',\n",
       "   51.277381731780935,\n",
       "   4.420882757975928,\n",
       "   'Fast Food Restaurant'),\n",
       "  ('Ekeren',\n",
       "   '51.2773404',\n",
       "   '4.4181413',\n",
       "   'Zeeman',\n",
       "   51.2797261395889,\n",
       "   4.418836924654844,\n",
       "   'Clothing Store'),\n",
       "  ('Ekeren',\n",
       "   '51.2773404',\n",
       "   '4.4181413',\n",
       "   'Vaso Ekeren',\n",
       "   51.278739209245416,\n",
       "   4.413336860422691,\n",
       "   'Soccer Field'),\n",
       "  ('Ekeren',\n",
       "   '51.2773404',\n",
       "   '4.4181413',\n",
       "   'Sporthal Deugd en Moed',\n",
       "   51.278826,\n",
       "   4.413302,\n",
       "   'Sports Club'),\n",
       "  ('Ekeren',\n",
       "   '51.2773404',\n",
       "   '4.4181413',\n",
       "   'Halte Ekeren De Beuckelaerlaan',\n",
       "   51.27393078756848,\n",
       "   4.418059587478638,\n",
       "   'Bus Stop'),\n",
       "  ('Ekeren',\n",
       "   '51.2773404',\n",
       "   '4.4181413',\n",
       "   'Halte Ekeren F. Verbieststraat',\n",
       "   51.273579772004624,\n",
       "   4.417537088327171,\n",
       "   'Bus Stop')],\n",
       " [('Hoboken',\n",
       "   '51.1794946',\n",
       "   '4.3617847',\n",
       "   'Frabak',\n",
       "   51.180593174509866,\n",
       "   4.358150667182085,\n",
       "   'Bakery'),\n",
       "  ('Hoboken',\n",
       "   '51.1794946',\n",
       "   '4.3617847',\n",
       "   'Albert Heijn',\n",
       "   51.17952754315439,\n",
       "   4.363762058147701,\n",
       "   'Supermarket'),\n",
       "  ('Hoboken',\n",
       "   '51.1794946',\n",
       "   '4.3617847',\n",
       "   'Almina',\n",
       "   51.17860687732324,\n",
       "   4.358832145241687,\n",
       "   'Snack Place'),\n",
       "  ('Hoboken',\n",
       "   '51.1794946',\n",
       "   '4.3617847',\n",
       "   'Bagatelle',\n",
       "   51.17913069281284,\n",
       "   4.355478160390735,\n",
       "   'Sandwich Place'),\n",
       "  ('Hoboken',\n",
       "   '51.1794946',\n",
       "   '4.3617847',\n",
       "   'Halte Hoboken Draaiboom',\n",
       "   51.17856254392551,\n",
       "   4.360442786952202,\n",
       "   'Tram Station'),\n",
       "  ('Hoboken',\n",
       "   '51.1794946',\n",
       "   '4.3617847',\n",
       "   'Den Draaiboom Hoboken',\n",
       "   51.17767998190152,\n",
       "   4.360881119011343,\n",
       "   'Soccer Field'),\n",
       "  ('Hoboken',\n",
       "   '51.1794946',\n",
       "   '4.3617847',\n",
       "   'SPAR express',\n",
       "   51.18198543540378,\n",
       "   4.361642349630533,\n",
       "   'Supermarket'),\n",
       "  ('Hoboken',\n",
       "   '51.1794946',\n",
       "   '4.3617847',\n",
       "   'De Garaasj',\n",
       "   51.1818082532872,\n",
       "   4.3594750946479754,\n",
       "   'Auto Garage'),\n",
       "  ('Hoboken',\n",
       "   '51.1794946',\n",
       "   '4.3617847',\n",
       "   'Kinesitherapeut Sven Armirotto',\n",
       "   51.180394825716476,\n",
       "   4.3660318350229765,\n",
       "   'Gym'),\n",
       "  ('Hoboken',\n",
       "   '51.1794946',\n",
       "   '4.3617847',\n",
       "   'Bakkerij Helsen',\n",
       "   51.18040205027464,\n",
       "   4.357212191077286,\n",
       "   'Bakery'),\n",
       "  ('Hoboken',\n",
       "   '51.1794946',\n",
       "   '4.3617847',\n",
       "   'Horeca Plus',\n",
       "   51.178433,\n",
       "   4.356844,\n",
       "   'Electronics Store'),\n",
       "  ('Hoboken',\n",
       "   '51.1794946',\n",
       "   '4.3617847',\n",
       "   'portugesestraat',\n",
       "   51.183164590736155,\n",
       "   4.35899740387296,\n",
       "   'Bus Station'),\n",
       "  ('Hoboken',\n",
       "   '51.1794946',\n",
       "   '4.3617847',\n",
       "   'Schuttershof',\n",
       "   51.18169865223136,\n",
       "   4.356100551888282,\n",
       "   'Bar'),\n",
       "  ('Hoboken',\n",
       "   '51.1794946',\n",
       "   '4.3617847',\n",
       "   'Boraida',\n",
       "   51.17842826907349,\n",
       "   4.355199337005615,\n",
       "   'Bakery'),\n",
       "  ('Hoboken',\n",
       "   '51.1794946',\n",
       "   '4.3617847',\n",
       "   'Frituur Candide',\n",
       "   51.18273219140171,\n",
       "   4.357338772162095,\n",
       "   'Friterie')],\n",
       " [('Merksem',\n",
       "   '51.2512626',\n",
       "   '4.4485629',\n",
       "   'Deliciosa',\n",
       "   51.25143702802467,\n",
       "   4.447917370505256,\n",
       "   'Sandwich Place'),\n",
       "  ('Merksem',\n",
       "   '51.2512626',\n",
       "   '4.4485629',\n",
       "   'Pizzeria Pinocchio',\n",
       "   51.25092346209182,\n",
       "   4.448463052110999,\n",
       "   'Italian Restaurant'),\n",
       "  ('Merksem',\n",
       "   '51.2512626',\n",
       "   '4.4485629',\n",
       "   'De Mus',\n",
       "   51.25095410603284,\n",
       "   4.448902159724759,\n",
       "   'Bar'),\n",
       "  ('Merksem',\n",
       "   '51.2512626',\n",
       "   '4.4485629',\n",
       "   \"Frituur 't Puntzakske\",\n",
       "   51.253733854201954,\n",
       "   4.44517437440117,\n",
       "   'Friterie'),\n",
       "  ('Merksem',\n",
       "   '51.2512626',\n",
       "   '4.4485629',\n",
       "   \"Discutheek 't Diamantje\",\n",
       "   51.24685369622445,\n",
       "   4.448602752199278,\n",
       "   'Bar'),\n",
       "  ('Merksem',\n",
       "   '51.2512626',\n",
       "   '4.4485629',\n",
       "   'Gritje Kokx',\n",
       "   51.24796199604722,\n",
       "   4.444131860343996,\n",
       "   'Ice Cream Shop'),\n",
       "  ('Merksem',\n",
       "   '51.2512626',\n",
       "   '4.4485629',\n",
       "   \"Joy's Garden\",\n",
       "   51.251998530616,\n",
       "   4.447913218394248,\n",
       "   'Chinese Restaurant'),\n",
       "  ('Merksem',\n",
       "   '51.2512626',\n",
       "   '4.4485629',\n",
       "   'Broodjeszaak Pitoe',\n",
       "   51.24760925355156,\n",
       "   4.450196358874609,\n",
       "   'Sandwich Place'),\n",
       "  ('Merksem',\n",
       "   '51.2512626',\n",
       "   '4.4485629',\n",
       "   \"Bo'ke\",\n",
       "   51.24981664225004,\n",
       "   4.454932692187007,\n",
       "   'Sandwich Place'),\n",
       "  ('Merksem',\n",
       "   '51.2512626',\n",
       "   '4.4485629',\n",
       "   'Basic-Fit',\n",
       "   51.246926,\n",
       "   4.4476717,\n",
       "   'Gym / Fitness Center'),\n",
       "  ('Merksem',\n",
       "   '51.2512626',\n",
       "   '4.4485629',\n",
       "   'Zwembad Park van Merksem',\n",
       "   51.24737778657,\n",
       "   4.4488202368490235,\n",
       "   'Pool'),\n",
       "  ('Merksem',\n",
       "   '51.2512626',\n",
       "   '4.4485629',\n",
       "   'The Water Lounge',\n",
       "   51.247322185703545,\n",
       "   4.448626221420037,\n",
       "   'Gastropub'),\n",
       "  ('Merksem',\n",
       "   '51.2512626',\n",
       "   '4.4485629',\n",
       "   'Kroonplein',\n",
       "   51.25127637356191,\n",
       "   4.4488781166347655,\n",
       "   'Plaza'),\n",
       "  ('Merksem',\n",
       "   '51.2512626',\n",
       "   '4.4485629',\n",
       "   'Den Anne',\n",
       "   51.25081114196043,\n",
       "   4.443336333105874,\n",
       "   'Bar'),\n",
       "  ('Merksem',\n",
       "   '51.2512626',\n",
       "   '4.4485629',\n",
       "   'Den Breughel',\n",
       "   51.24780284394697,\n",
       "   4.452523936221112,\n",
       "   'Bar'),\n",
       "  ('Merksem',\n",
       "   '51.2512626',\n",
       "   '4.4485629',\n",
       "   'Donerix',\n",
       "   51.248419776009754,\n",
       "   4.4536543389467,\n",
       "   'Turkish Restaurant'),\n",
       "  ('Merksem',\n",
       "   '51.2512626',\n",
       "   '4.4485629',\n",
       "   'Game Mania',\n",
       "   51.250179925408986,\n",
       "   4.455283357636591,\n",
       "   'Video Game Store'),\n",
       "  ('Merksem',\n",
       "   '51.2512626',\n",
       "   '4.4485629',\n",
       "   'Sporthal Roosendael',\n",
       "   51.249154793182484,\n",
       "   4.445102119349739,\n",
       "   'Athletics & Sports'),\n",
       "  ('Merksem',\n",
       "   '51.2512626',\n",
       "   '4.4485629',\n",
       "   'Carrefour Express',\n",
       "   51.25539194322372,\n",
       "   4.447057825863401,\n",
       "   'Convenience Store'),\n",
       "  ('Merksem',\n",
       "   '51.2512626',\n",
       "   '4.4485629',\n",
       "   'Rozendaelpark',\n",
       "   51.24824039697327,\n",
       "   4.4461640921866055,\n",
       "   'Park'),\n",
       "  ('Merksem',\n",
       "   '51.2512626',\n",
       "   '4.4485629',\n",
       "   \"'t Knabbeltje\",\n",
       "   51.25294794059295,\n",
       "   4.447619661823401,\n",
       "   'Friterie'),\n",
       "  ('Merksem',\n",
       "   '51.2512626',\n",
       "   '4.4485629',\n",
       "   'Apotheek Kroonplein',\n",
       "   51.251079728218286,\n",
       "   4.449085142640179,\n",
       "   'Pharmacy'),\n",
       "  ('Merksem',\n",
       "   '51.2512626',\n",
       "   '4.4485629',\n",
       "   'Halte Kroonplein',\n",
       "   51.25148372202577,\n",
       "   4.4487258808579515,\n",
       "   'Bus Stop'),\n",
       "  ('Merksem',\n",
       "   '51.2512626',\n",
       "   '4.4485629',\n",
       "   'Mec Merksem',\n",
       "   51.252474,\n",
       "   4.447717,\n",
       "   'Electronics Store'),\n",
       "  ('Merksem',\n",
       "   '51.2512626',\n",
       "   '4.4485629',\n",
       "   'Jef Mermansstadion',\n",
       "   51.24914674655986,\n",
       "   4.444137848799482,\n",
       "   'Soccer Field'),\n",
       "  ('Merksem',\n",
       "   '51.2512626',\n",
       "   '4.4485629',\n",
       "   'Basket Roosendael',\n",
       "   51.24919904121708,\n",
       "   4.445131293740772,\n",
       "   'Basketball Court'),\n",
       "  ('Merksem',\n",
       "   '51.2512626',\n",
       "   '4.4485629',\n",
       "   \"'t Hofke van Roosendael\",\n",
       "   51.250709362945706,\n",
       "   4.444286689439286,\n",
       "   'History Museum'),\n",
       "  ('Merksem',\n",
       "   '51.2512626',\n",
       "   '4.4485629',\n",
       "   'Antwerp Giants Training court',\n",
       "   51.24919008845195,\n",
       "   4.4451263536771615,\n",
       "   'Basketball Court'),\n",
       "  ('Merksem',\n",
       "   '51.2512626',\n",
       "   '4.4485629',\n",
       "   'Apotheek Malfait',\n",
       "   51.254446,\n",
       "   4.447194,\n",
       "   'Pharmacy'),\n",
       "  ('Merksem',\n",
       "   '51.2512626',\n",
       "   '4.4485629',\n",
       "   'Halte De Biezen',\n",
       "   51.25235593489441,\n",
       "   4.453599075041077,\n",
       "   'Bus Stop'),\n",
       "  ('Merksem',\n",
       "   '51.2512626',\n",
       "   '4.4485629',\n",
       "   'Cone Lighting',\n",
       "   51.2542718,\n",
       "   4.4509291,\n",
       "   'Lighting Store'),\n",
       "  ('Merksem',\n",
       "   '51.2512626',\n",
       "   '4.4485629',\n",
       "   'Frituur njam njam',\n",
       "   51.2509036947826,\n",
       "   4.44306391807673,\n",
       "   'Friterie'),\n",
       "  ('Merksem',\n",
       "   '51.2512626',\n",
       "   '4.4485629',\n",
       "   'City Pirates Merksem',\n",
       "   51.2489714444516,\n",
       "   4.444077837700717,\n",
       "   'Soccer Field'),\n",
       "  ('Merksem',\n",
       "   '51.2512626',\n",
       "   '4.4485629',\n",
       "   'Sportzaal Merksem',\n",
       "   51.250483510397295,\n",
       "   4.442662304440886,\n",
       "   'Stadium'),\n",
       "  ('Merksem',\n",
       "   '51.2512626',\n",
       "   '4.4485629',\n",
       "   'Speeltuin',\n",
       "   51.24816657865763,\n",
       "   4.4448274259426785,\n",
       "   'Playground'),\n",
       "  ('Merksem',\n",
       "   '51.2512626',\n",
       "   '4.4485629',\n",
       "   'Broodjeszaak Boke',\n",
       "   51.24972950898652,\n",
       "   4.45502528257271,\n",
       "   'Sandwich Place'),\n",
       "  ('Merksem',\n",
       "   '51.2512626',\n",
       "   '4.4485629',\n",
       "   'De Markt',\n",
       "   51.24783079266647,\n",
       "   4.444118884761261,\n",
       "   'Flea Market'),\n",
       "  ('Merksem',\n",
       "   '51.2512626',\n",
       "   '4.4485629',\n",
       "   'Oogartsenpraktijk Merksem',\n",
       "   51.24712513317264,\n",
       "   4.45113552013544,\n",
       "   'Professional & Other Places')],\n",
       " [('Wilrijk',\n",
       "   '51.1683102',\n",
       "   '4.3942868',\n",
       "   'Bistro4',\n",
       "   51.17117389665412,\n",
       "   4.394599953394481,\n",
       "   'Bistro'),\n",
       "  ('Wilrijk',\n",
       "   '51.1683102',\n",
       "   '4.3942868',\n",
       "   'Bakkerij De Swaene',\n",
       "   51.16824190651687,\n",
       "   4.393911373833117,\n",
       "   'Bakery'),\n",
       "  ('Wilrijk',\n",
       "   '51.1683102',\n",
       "   '4.3942868',\n",
       "   'Levoni',\n",
       "   51.16987381128733,\n",
       "   4.391565533188637,\n",
       "   'Sandwich Place'),\n",
       "  ('Wilrijk',\n",
       "   '51.1683102',\n",
       "   '4.3942868',\n",
       "   'Mezze Bar Efes',\n",
       "   51.17096987640736,\n",
       "   4.393857224724247,\n",
       "   'Falafel Restaurant'),\n",
       "  ('Wilrijk',\n",
       "   '51.1683102',\n",
       "   '4.3942868',\n",
       "   'Pain Lux',\n",
       "   51.17135043617861,\n",
       "   4.393517501903332,\n",
       "   'Sandwich Place'),\n",
       "  ('Wilrijk',\n",
       "   '51.1683102',\n",
       "   '4.3942868',\n",
       "   'Dionteater',\n",
       "   51.171375303693445,\n",
       "   4.396145135920404,\n",
       "   'Theater'),\n",
       "  ('Wilrijk',\n",
       "   '51.1683102',\n",
       "   '4.3942868',\n",
       "   'China City',\n",
       "   51.16985735212812,\n",
       "   4.39136553145285,\n",
       "   'Chinese Restaurant'),\n",
       "  ('Wilrijk',\n",
       "   '51.1683102',\n",
       "   '4.3942868',\n",
       "   'Willy Vanilli',\n",
       "   51.172021074078835,\n",
       "   4.393263684800841,\n",
       "   'Ice Cream Shop'),\n",
       "  ('Wilrijk',\n",
       "   '51.1683102',\n",
       "   '4.3942868',\n",
       "   'Chez Said',\n",
       "   51.172713737612206,\n",
       "   4.393184538238005,\n",
       "   'Cocktail Bar'),\n",
       "  ('Wilrijk',\n",
       "   '51.1683102',\n",
       "   '4.3942868',\n",
       "   'De Lindekes',\n",
       "   51.16537622739365,\n",
       "   4.3973524575822305,\n",
       "   'Gastropub'),\n",
       "  ('Wilrijk',\n",
       "   '51.1683102',\n",
       "   '4.3942868',\n",
       "   'Den Esprit',\n",
       "   51.16956662274754,\n",
       "   4.393093942432603,\n",
       "   'Gastropub'),\n",
       "  ('Wilrijk',\n",
       "   '51.1683102',\n",
       "   '4.3942868',\n",
       "   'Bakkerij De Hert',\n",
       "   51.171373954690736,\n",
       "   4.394386818684108,\n",
       "   'Bakery'),\n",
       "  ('Wilrijk',\n",
       "   '51.1683102',\n",
       "   '4.3942868',\n",
       "   'Standaard Boekhandel',\n",
       "   51.17215635899181,\n",
       "   4.393924382351305,\n",
       "   'Bookstore'),\n",
       "  ('Wilrijk',\n",
       "   '51.1683102',\n",
       "   '4.3942868',\n",
       "   'Schoenen Torfs',\n",
       "   51.17086503858839,\n",
       "   4.394495909473528,\n",
       "   'Shoe Store'),\n",
       "  ('Wilrijk',\n",
       "   '51.1683102',\n",
       "   '4.3942868',\n",
       "   'Theadrome',\n",
       "   51.17268266829789,\n",
       "   4.39439676845258,\n",
       "   'Other Nightlife'),\n",
       "  ('Wilrijk',\n",
       "   '51.1683102',\n",
       "   '4.3942868',\n",
       "   'Bakkerij Robin',\n",
       "   51.17247358832068,\n",
       "   4.391789869744643,\n",
       "   'Bakery'),\n",
       "  ('Wilrijk',\n",
       "   '51.1683102',\n",
       "   '4.3942868',\n",
       "   \"Bentley's\",\n",
       "   51.171343,\n",
       "   4.39117,\n",
       "   'Friterie'),\n",
       "  ('Wilrijk',\n",
       "   '51.1683102',\n",
       "   '4.3942868',\n",
       "   \"Domino's Pizza\",\n",
       "   51.17064209999999,\n",
       "   4.3948893,\n",
       "   'Pizza Place'),\n",
       "  ('Wilrijk',\n",
       "   '51.1683102',\n",
       "   '4.3942868',\n",
       "   'ICI PARIS XL',\n",
       "   51.171704,\n",
       "   4.394228,\n",
       "   'Cosmetics Shop'),\n",
       "  ('Wilrijk',\n",
       "   '51.1683102',\n",
       "   '4.3942868',\n",
       "   'Zwembad Ieperman',\n",
       "   51.16840600326732,\n",
       "   4.395875046712375,\n",
       "   'Pool'),\n",
       "  ('Wilrijk',\n",
       "   '51.1683102',\n",
       "   '4.3942868',\n",
       "   'Cultureel Centrum De Kern',\n",
       "   51.17119947625234,\n",
       "   4.393755452275266,\n",
       "   'Cultural Center'),\n",
       "  ('Wilrijk',\n",
       "   '51.1683102',\n",
       "   '4.3942868',\n",
       "   'Sporthal De Bist',\n",
       "   51.17084906940328,\n",
       "   4.391430891281848,\n",
       "   'Recreation Center'),\n",
       "  ('Wilrijk',\n",
       "   '51.1683102',\n",
       "   '4.3942868',\n",
       "   'Proximus Center',\n",
       "   51.169996993680186,\n",
       "   4.393149247344712,\n",
       "   'Mobile Phone Shop'),\n",
       "  ('Wilrijk',\n",
       "   '51.1683102',\n",
       "   '4.3942868',\n",
       "   'HEMA',\n",
       "   51.17111796524584,\n",
       "   4.393689355097048,\n",
       "   'Miscellaneous Shop'),\n",
       "  ('Wilrijk',\n",
       "   '51.1683102',\n",
       "   '4.3942868',\n",
       "   'Mastplein',\n",
       "   51.171625680447654,\n",
       "   4.393367573414979,\n",
       "   'Plaza'),\n",
       "  ('Wilrijk',\n",
       "   '51.1683102',\n",
       "   '4.3942868',\n",
       "   'Kruidvat',\n",
       "   51.17140769851584,\n",
       "   4.394416487613861,\n",
       "   'Cosmetics Shop'),\n",
       "  ('Wilrijk',\n",
       "   '51.1683102',\n",
       "   '4.3942868',\n",
       "   'Carrefour Market',\n",
       "   51.17081495675869,\n",
       "   4.393849170962177,\n",
       "   'Supermarket'),\n",
       "  ('Wilrijk',\n",
       "   '51.1683102',\n",
       "   '4.3942868',\n",
       "   'Frituur Pik Nik',\n",
       "   51.17265696539666,\n",
       "   4.3955015548906085,\n",
       "   'Friterie'),\n",
       "  ('Wilrijk',\n",
       "   '51.1683102',\n",
       "   '4.3942868',\n",
       "   'Frituur de Bist',\n",
       "   51.166692147924195,\n",
       "   4.3910423263262786,\n",
       "   'Friterie'),\n",
       "  ('Wilrijk',\n",
       "   '51.1683102',\n",
       "   '4.3942868',\n",
       "   'Grand Cafe-Restaurant Georges',\n",
       "   51.17130657318774,\n",
       "   4.393667442051518,\n",
       "   'Brasserie'),\n",
       "  ('Wilrijk',\n",
       "   '51.1683102',\n",
       "   '4.3942868',\n",
       "   'Dé ! KUNSTHUMANIORA DANS - Hedendaagse Dans',\n",
       "   51.16895732231161,\n",
       "   4.397508026290219,\n",
       "   'Dance Studio'),\n",
       "  ('Wilrijk',\n",
       "   '51.1683102',\n",
       "   '4.3942868',\n",
       "   'Refter Dé ! KUNSTHUMANIORA DANS - Hedendaagse Dans',\n",
       "   51.168873975569454,\n",
       "   4.39770562436346,\n",
       "   'Restaurant'),\n",
       "  ('Wilrijk',\n",
       "   '51.1683102',\n",
       "   '4.3942868',\n",
       "   'IBO Waikiki',\n",
       "   51.168124307605865,\n",
       "   4.397871101385041,\n",
       "   'Child Care Service'),\n",
       "  ('Wilrijk',\n",
       "   '51.1683102',\n",
       "   '4.3942868',\n",
       "   'Déjà Vu',\n",
       "   51.16661279257404,\n",
       "   4.390759316480477,\n",
       "   'Bar'),\n",
       "  ('Wilrijk',\n",
       "   '51.1683102',\n",
       "   '4.3942868',\n",
       "   'Hans Anders',\n",
       "   51.17113167090118,\n",
       "   4.3945755972718645,\n",
       "   'Optical Shop'),\n",
       "  ('Wilrijk',\n",
       "   '51.1683102',\n",
       "   '4.3942868',\n",
       "   'Pearle Opticiens',\n",
       "   51.172031255262475,\n",
       "   4.394035816937896,\n",
       "   'Optical Shop'),\n",
       "  ('Wilrijk',\n",
       "   '51.1683102',\n",
       "   '4.3942868',\n",
       "   'gourmandise',\n",
       "   51.172547705000945,\n",
       "   4.39424933560282,\n",
       "   'Coffee Shop'),\n",
       "  ('Wilrijk',\n",
       "   '51.1683102',\n",
       "   '4.3942868',\n",
       "   'Het Smulhuisje',\n",
       "   51.164616176028936,\n",
       "   4.397831621150303,\n",
       "   'Sandwich Place')]]"
      ]
     },
     "execution_count": 7,
     "metadata": {},
     "output_type": "execute_result"
    }
   ],
   "source": [
    "antwerp_venues"
   ]
  },
  {
   "cell_type": "markdown",
   "metadata": {},
   "source": [
    "# Json data to pandas dataframe"
   ]
  },
  {
   "cell_type": "code",
   "execution_count": null,
   "metadata": {},
   "outputs": [],
   "source": [
    "nearby_venues = pd.DataFrame([item for venue_list in antwerp_venues for item in venue_list])\n"
   ]
  },
  {
   "cell_type": "code",
   "execution_count": null,
   "metadata": {},
   "outputs": [],
   "source": [
    "nearby_venues"
   ]
  },
  {
   "cell_type": "code",
   "execution_count": null,
   "metadata": {},
   "outputs": [],
   "source": [
    "nearby_venues.columns = ['Neighborhood', \n",
    "                  'Neighborhood Latitude', \n",
    "                  'Neighborhood Longitude', \n",
    "                  'Venue', \n",
    "                  'Venue Latitude', \n",
    "                  'Venue Longitude', \n",
    "                  'Venue Category']"
   ]
  },
  {
   "cell_type": "code",
   "execution_count": null,
   "metadata": {},
   "outputs": [],
   "source": [
    "nearby_venues"
   ]
  },
  {
   "cell_type": "code",
   "execution_count": null,
   "metadata": {},
   "outputs": [],
   "source": []
  },
  {
   "cell_type": "code",
   "execution_count": null,
   "metadata": {},
   "outputs": [],
   "source": []
  },
  {
   "cell_type": "code",
   "execution_count": null,
   "metadata": {},
   "outputs": [],
   "source": []
  },
  {
   "cell_type": "code",
   "execution_count": null,
   "metadata": {},
   "outputs": [],
   "source": []
  }
 ],
 "metadata": {
  "kernelspec": {
   "display_name": "Python 3 (ipykernel)",
   "language": "python",
   "name": "python3"
  },
  "language_info": {
   "codemirror_mode": {
    "name": "ipython",
    "version": 3
   },
   "file_extension": ".py",
   "mimetype": "text/x-python",
   "name": "python",
   "nbconvert_exporter": "python",
   "pygments_lexer": "ipython3",
   "version": "3.9.13"
  }
 },
 "nbformat": 4,
 "nbformat_minor": 4
}
