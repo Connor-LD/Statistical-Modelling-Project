{
 "cells": [
  {
   "cell_type": "markdown",
   "metadata": {},
   "source": [
    "# CityBikes"
   ]
  },
  {
   "cell_type": "markdown",
   "metadata": {},
   "source": [
    "Send a request to CityBikes for the city of your choice. "
   ]
  },
  {
   "cell_type": "code",
   "execution_count": 1,
   "metadata": {},
   "outputs": [],
   "source": [
    "import requests\n",
    "import pandas as pd\n",
    "from IPython.display import JSON #for nice JSON (or dict) display in JupyterLab (not currently supported in Jupyter Notebook)"
   ]
  },
  {
   "cell_type": "code",
   "execution_count": 2,
   "metadata": {},
   "outputs": [],
   "source": [
    "# get network data\n",
    "city_bike_networks = requests.get(\"http://api.citybik.es/v2/networks\").json()\n",
    "\n",
    "# view json in nice format\n",
    "# JSON(city_bike_networks)"
   ]
  },
  {
   "cell_type": "code",
   "execution_count": 3,
   "metadata": {},
   "outputs": [],
   "source": [
    "# Select city\n",
    "city='Vancouver'"
   ]
  },
  {
   "cell_type": "code",
   "execution_count": 4,
   "metadata": {},
   "outputs": [
    {
     "data": {
      "text/html": [
       "<div>\n",
       "<style scoped>\n",
       "    .dataframe tbody tr th:only-of-type {\n",
       "        vertical-align: middle;\n",
       "    }\n",
       "\n",
       "    .dataframe tbody tr th {\n",
       "        vertical-align: top;\n",
       "    }\n",
       "\n",
       "    .dataframe thead th {\n",
       "        text-align: right;\n",
       "    }\n",
       "</style>\n",
       "<table border=\"1\" class=\"dataframe\">\n",
       "  <thead>\n",
       "    <tr style=\"text-align: right;\">\n",
       "      <th></th>\n",
       "      <th>company</th>\n",
       "      <th>href</th>\n",
       "      <th>id</th>\n",
       "      <th>name</th>\n",
       "      <th>location.city</th>\n",
       "      <th>location.country</th>\n",
       "      <th>location.latitude</th>\n",
       "      <th>location.longitude</th>\n",
       "      <th>source</th>\n",
       "      <th>gbfs_href</th>\n",
       "      <th>license.name</th>\n",
       "      <th>license.url</th>\n",
       "      <th>ebikes</th>\n",
       "    </tr>\n",
       "  </thead>\n",
       "  <tbody>\n",
       "    <tr>\n",
       "      <th>0</th>\n",
       "      <td>[ЗАО «СитиБайк»]</td>\n",
       "      <td>/v2/networks/velobike-moscow</td>\n",
       "      <td>velobike-moscow</td>\n",
       "      <td>Velobike</td>\n",
       "      <td>Moscow</td>\n",
       "      <td>RU</td>\n",
       "      <td>55.75000</td>\n",
       "      <td>37.616667</td>\n",
       "      <td>NaN</td>\n",
       "      <td>NaN</td>\n",
       "      <td>NaN</td>\n",
       "      <td>NaN</td>\n",
       "      <td>NaN</td>\n",
       "    </tr>\n",
       "    <tr>\n",
       "      <th>1</th>\n",
       "      <td>[Urban Infrastructure Partner]</td>\n",
       "      <td>/v2/networks/baerum-bysykkel</td>\n",
       "      <td>baerum-bysykkel</td>\n",
       "      <td>Bysykkel</td>\n",
       "      <td>Bærum</td>\n",
       "      <td>NO</td>\n",
       "      <td>59.89455</td>\n",
       "      <td>10.546343</td>\n",
       "      <td>NaN</td>\n",
       "      <td>NaN</td>\n",
       "      <td>NaN</td>\n",
       "      <td>NaN</td>\n",
       "      <td>NaN</td>\n",
       "    </tr>\n",
       "  </tbody>\n",
       "</table>\n",
       "</div>"
      ],
      "text/plain": [
       "                          company                          href  \\\n",
       "0                [ЗАО «СитиБайк»]  /v2/networks/velobike-moscow   \n",
       "1  [Urban Infrastructure Partner]  /v2/networks/baerum-bysykkel   \n",
       "\n",
       "                id      name location.city location.country  \\\n",
       "0  velobike-moscow  Velobike        Moscow               RU   \n",
       "1  baerum-bysykkel  Bysykkel         Bærum               NO   \n",
       "\n",
       "   location.latitude  location.longitude source gbfs_href license.name  \\\n",
       "0           55.75000           37.616667    NaN       NaN          NaN   \n",
       "1           59.89455           10.546343    NaN       NaN          NaN   \n",
       "\n",
       "  license.url ebikes  \n",
       "0         NaN    NaN  \n",
       "1         NaN    NaN  "
      ]
     },
     "execution_count": 4,
     "metadata": {},
     "output_type": "execute_result"
    }
   ],
   "source": [
    "city_lookup = pd.json_normalize(city_bike_networks['networks'], max_level=1, errors='ignore')\n",
    "city_lookup.head(2)"
   ]
  },
  {
   "cell_type": "code",
   "execution_count": 5,
   "metadata": {},
   "outputs": [
    {
     "data": {
      "text/plain": [
       "241    mobibikes\n",
       "Name: id, dtype: object"
      ]
     },
     "execution_count": 5,
     "metadata": {},
     "output_type": "execute_result"
    }
   ],
   "source": [
    "city_lookup[city_lookup['location.city']==city]['id']"
   ]
  },
  {
   "cell_type": "code",
   "execution_count": 6,
   "metadata": {},
   "outputs": [
    {
     "data": {
      "application/json": {
       "network": {
        "company": [
         "Vanncouver Bike Share Inc.",
         "CycleHop LLC",
         "City of Vancouver",
         "Shaw Communications Inc.",
         "Fifteen"
        ],
        "gbfs_href": "https://vancouver-gbfs.smoove.pro/gbfs/2/gbfs.json",
        "href": "/v2/networks/mobibikes",
        "id": "mobibikes",
        "location": {
         "city": "Vancouver",
         "country": "CA",
         "latitude": 49.2827,
         "longitude": -123.1207
        },
        "name": "Mobi",
        "stations": [
         {
          "empty_slots": 14,
          "extra": {
           "ebikes": 4,
           "has_ebikes": true,
           "last_updated": 1676316003,
           "normal_bikes": 17,
           "renting": true,
           "returning": true,
           "slots": 35,
           "uid": "0001"
          },
          "free_bikes": 21,
          "id": "7a19c49f486d7c0c02b3685d7b240448",
          "latitude": 49.262487,
          "longitude": -123.114397,
          "name": "10th & Cambie",
          "timestamp": "2023-02-13T19:22:31.595000Z"
         },
         {
          "empty_slots": 7,
          "extra": {
           "ebikes": 1,
           "has_ebikes": true,
           "last_updated": 1676315894,
           "normal_bikes": 8,
           "renting": true,
           "returning": true,
           "slots": 16,
           "uid": "0004"
          },
          "free_bikes": 9,
          "id": "32603a87cfca71d0f7dfa3513bad69d5",
          "latitude": 49.274566,
          "longitude": -123.121817,
          "name": "Yaletown-Roundhouse Station",
          "timestamp": "2023-02-13T19:22:31.591000Z"
         },
         {
          "empty_slots": 13,
          "extra": {
           "ebikes": 0,
           "has_ebikes": true,
           "last_updated": 1676315968,
           "normal_bikes": 13,
           "renting": true,
           "returning": true,
           "slots": 26,
           "uid": "0005"
          },
          "free_bikes": 13,
          "id": "6d42fa40360f9a6b2bf641c7b8bb2862",
          "latitude": 49.279764,
          "longitude": -123.110154,
          "name": "Dunsmuir & Beatty",
          "timestamp": "2023-02-13T19:22:31.592000Z"
         },
         {
          "empty_slots": 14,
          "extra": {
           "ebikes": 0,
           "has_ebikes": true,
           "last_updated": 1676316133,
           "normal_bikes": 2,
           "renting": true,
           "returning": true,
           "slots": 16,
           "uid": "0007"
          },
          "free_bikes": 2,
          "id": "66f873d641d448bd1572ab086665a458",
          "latitude": 49.260599,
          "longitude": -123.113504,
          "name": "12th & Yukon (City Hall)",
          "timestamp": "2023-02-13T19:22:31.593000Z"
         },
         {
          "empty_slots": 7,
          "extra": {
           "ebikes": 2,
           "has_ebikes": true,
           "last_updated": 1676315653,
           "normal_bikes": 7,
           "renting": true,
           "returning": true,
           "slots": 16,
           "uid": "0008"
          },
          "free_bikes": 9,
          "id": "485d4d24c803cfde829ab89699fed833",
          "latitude": 49.264215,
          "longitude": -123.117772,
          "name": "8th & Ash",
          "timestamp": "2023-02-13T19:22:31.604000Z"
         },
         {
          "empty_slots": 3,
          "extra": {
           "ebikes": 1,
           "has_ebikes": true,
           "last_updated": 1676316111,
           "normal_bikes": 10,
           "renting": true,
           "returning": true,
           "slots": 14,
           "uid": "0009"
          },
          "free_bikes": 11,
          "id": "b07d513f87897cff7319a0e59d7e567c",
          "latitude": 49.270877,
          "longitude": -123.115103,
          "name": "Spyglass & Seawall",
          "timestamp": "2023-02-13T19:22:31.604000Z"
         },
         {
          "empty_slots": 12,
          "extra": {
           "ebikes": 0,
           "has_ebikes": true,
           "last_updated": 1676315587,
           "normal_bikes": 2,
           "renting": true,
           "returning": true,
           "slots": 14,
           "uid": "0010"
          },
          "free_bikes": 2,
          "id": "d1c9556d92f329703229fb3e33899a3b",
          "latitude": 49.26893,
          "longitude": -123.11813,
          "name": "Stamps Landing",
          "timestamp": "2023-02-13T19:22:31.624000Z"
         },
         {
          "empty_slots": 13,
          "extra": {
           "ebikes": 1,
           "has_ebikes": true,
           "last_updated": 1676315924,
           "normal_bikes": 6,
           "renting": true,
           "returning": true,
           "slots": 20,
           "uid": "0011"
          },
          "free_bikes": 7,
          "id": "95e624191c655f50e401d280cd39a9ad",
          "latitude": 49.271721,
          "longitude": -123.104207,
          "name": "Ontario & Seawall",
          "timestamp": "2023-02-13T19:22:31.624000Z"
         },
         {
          "empty_slots": 6,
          "extra": {
           "ebikes": 1,
           "has_ebikes": true,
           "last_updated": 1676315914,
           "normal_bikes": 19,
           "renting": true,
           "returning": true,
           "slots": 26,
           "uid": "0014"
          },
          "free_bikes": 20,
          "id": "3e112f9fe877e0003780386359060ae6",
          "latitude": 49.287214,
          "longitude": -123.11287,
          "name": "Canada Place",
          "timestamp": "2023-02-13T19:22:31.622000Z"
         },
         {
          "empty_slots": 9,
          "extra": {
           "ebikes": 0,
           "has_ebikes": true,
           "last_updated": 1676316058,
           "normal_bikes": 11,
           "renting": true,
           "returning": true,
           "slots": 20,
           "uid": "0015"
          },
          "free_bikes": 11,
          "id": "6993b3dbb0758927967592ea612a2b1e",
          "latitude": 49.282409,
          "longitude": -123.118541,
          "name": "Granville & Georgia",
          "timestamp": "2023-02-13T19:22:31.621000Z"
         },
         {
          "empty_slots": 13,
          "extra": {
           "ebikes": 1,
           "has_ebikes": true,
           "last_updated": 1676316036,
           "normal_bikes": 12,
           "renting": true,
           "returning": true,
           "slots": 26,
           "uid": "0016"
          },
          "free_bikes": 13,
          "id": "bf8408067b0e0c963f3ff526977bcef3",
          "latitude": 49.287097,
          "longitude": -123.118551,
          "name": "Pender & Burrard",
          "timestamp": "2023-02-13T19:22:31.620000Z"
         },
         {
          "empty_slots": 2,
          "extra": {
           "ebikes": 1,
           "has_ebikes": true,
           "last_updated": 1676316100,
           "normal_bikes": 19,
           "renting": true,
           "returning": true,
           "slots": 22,
           "uid": "0017"
          },
          "free_bikes": 20,
          "id": "d2244f1a81d317c76cabd65e81250835",
          "latitude": 49.273471,
          "longitude": -123.118016,
          "name": "Marinaside & Davie",
          "timestamp": "2023-02-13T19:22:31.619000Z"
         },
         {
          "empty_slots": 22,
          "extra": {
           "ebikes": 2,
           "has_ebikes": true,
           "last_updated": 1676316118,
           "normal_bikes": 5,
           "renting": true,
           "returning": true,
           "slots": 30,
           "uid": "0019"
          },
          "free_bikes": 7,
          "id": "0b543fc4e694fe07a54dac48bb1b3390",
          "latitude": 49.282758,
          "longitude": -123.122092,
          "name": "Robson & Hornby",
          "timestamp": "2023-02-13T19:22:31.653000Z"
         },
         {
          "empty_slots": 1,
          "extra": {
           "ebikes": 0,
           "has_ebikes": true,
           "last_updated": 1676316141,
           "normal_bikes": 21,
           "renting": true,
           "returning": true,
           "slots": 22,
           "uid": "0021"
          },
          "free_bikes": 21,
          "id": "1b4c6f63f4bfbbd983992dbdca776865",
          "latitude": 49.286042,
          "longitude": -123.113176,
          "name": "Cordova & Granville",
          "timestamp": "2023-02-13T19:22:31.678000Z"
         },
         {
          "empty_slots": 3,
          "extra": {
           "ebikes": 5,
           "has_ebikes": true,
           "last_updated": 1676316036,
           "normal_bikes": 14,
           "renting": true,
           "returning": true,
           "slots": 22,
           "uid": "0024"
          },
          "free_bikes": 19,
          "id": "fbb1d30d7f30b049873f5be5688563d4",
          "latitude": 49.28602,
          "longitude": -123.116624,
          "name": "Hornby & Pender",
          "timestamp": "2023-02-13T19:22:31.691000Z"
         },
         {
          "empty_slots": 13,
          "extra": {
           "ebikes": 0,
           "has_ebikes": true,
           "last_updated": 1676316134,
           "normal_bikes": 7,
           "renting": true,
           "returning": true,
           "slots": 20,
           "uid": "0025"
          },
          "free_bikes": 7,
          "id": "7181df50ee1d1a05559399211382b7c8",
          "latitude": 49.279739,
          "longitude": -123.116251,
          "name": "Homer & Robson (Vancouver Public Library)",
          "timestamp": "2023-02-13T19:22:31.692000Z"
         },
         {
          "empty_slots": 15,
          "extra": {
           "ebikes": 1,
           "has_ebikes": true,
           "last_updated": 1676316110,
           "normal_bikes": 2,
           "renting": true,
           "returning": true,
           "slots": 20,
           "uid": "0026"
          },
          "free_bikes": 3,
          "id": "2ef000bc9d4650d8cc6198c4d570b19f",
          "latitude": 49.277483,
          "longitude": -123.114279,
          "name": "Beatty & Robson",
          "timestamp": "2023-02-13T19:22:31.689000Z"
         },
         {
          "empty_slots": 8,
          "extra": {
           "ebikes": 1,
           "has_ebikes": true,
           "last_updated": 1676316098,
           "normal_bikes": 5,
           "renting": true,
           "returning": true,
           "slots": 14,
           "uid": "0027"
          },
          "free_bikes": 6,
          "id": "b7683a86874e6300fd89f4cc0b075f57",
          "latitude": 49.275679,
          "longitude": -123.116963,
          "name": "Beatty & Nelson",
          "timestamp": "2023-02-13T19:22:31.690000Z"
         },
         {
          "empty_slots": 13,
          "extra": {
           "ebikes": 0,
           "has_ebikes": true,
           "last_updated": 1676316033,
           "normal_bikes": 9,
           "renting": true,
           "returning": true,
           "slots": 22,
           "uid": "0030"
          },
          "free_bikes": 9,
          "id": "3367c1e1dbf73caf7c10e4c96a92f58d",
          "latitude": 49.282759,
          "longitude": -123.106955,
          "name": "Abbott & Cordova",
          "timestamp": "2023-02-13T19:22:31.388000Z"
         },
         {
          "empty_slots": 3,
          "extra": {
           "ebikes": 0,
           "has_ebikes": true,
           "last_updated": 1676315642,
           "normal_bikes": 15,
           "renting": true,
           "returning": true,
           "slots": 18,
           "uid": "0032"
          },
          "free_bikes": 15,
          "id": "1d7e73b3321ebb6713774d376247d9f9",
          "latitude": 49.288444,
          "longitude": -123.139203,
          "name": "Comox & Denman",
          "timestamp": "2023-02-13T19:22:31.397000Z"
         },
         {
          "empty_slots": 5,
          "extra": {
           "ebikes": 2,
           "has_ebikes": true,
           "last_updated": 1676316013,
           "normal_bikes": 10,
           "renting": true,
           "returning": true,
           "slots": 14,
           "uid": "0034"
          },
          "free_bikes": 12,
          "id": "664502c28e8147615f17b8ea355f40d0",
          "latitude": 49.289124,
          "longitude": -123.12196,
          "name": "Cordova & Bute",
          "timestamp": "2023-02-13T19:22:31.383000Z"
         },
         {
          "empty_slots": 15,
          "extra": {
           "ebikes": 2,
           "has_ebikes": true,
           "last_updated": 1676316043,
           "normal_bikes": 1,
           "renting": true,
           "returning": true,
           "slots": 18,
           "uid": "0037"
          },
          "free_bikes": 3,
          "id": "6c24a62b5ee0a2a8014eb0dfb6d40025",
          "latitude": 49.28062,
          "longitude": -123.12482,
          "name": "Hornby & Nelson",
          "timestamp": "2023-02-13T19:22:31.384000Z"
         },
         {
          "empty_slots": 3,
          "extra": {
           "ebikes": 2,
           "has_ebikes": true,
           "last_updated": 1676315712,
           "normal_bikes": 10,
           "renting": true,
           "returning": true,
           "slots": 15,
           "uid": "0039"
          },
          "free_bikes": 12,
          "id": "fad9ebcf614dd1a72593a34072ff76f8",
          "latitude": 49.279938,
          "longitude": -123.127478,
          "name": "Helmcken & Burrard",
          "timestamp": "2023-02-13T19:22:31.379000Z"
         },
         {
          "empty_slots": 13,
          "extra": {
           "ebikes": 0,
           "has_ebikes": true,
           "last_updated": 1676316013,
           "normal_bikes": 1,
           "renting": true,
           "returning": true,
           "slots": 14,
           "uid": "0044"
          },
          "free_bikes": 1,
          "id": "3a4131fa94946d93d3529136efd62413",
          "latitude": 49.273663,
          "longitude": -123.127075,
          "name": "Pacific & Richards",
          "timestamp": "2023-02-13T19:22:31.429000Z"
         },
         {
          "empty_slots": 12,
          "extra": {
           "ebikes": 0,
           "has_ebikes": true,
           "last_updated": 1676315670,
           "normal_bikes": 2,
           "renting": true,
           "returning": true,
           "slots": 14,
           "uid": "0047"
          },
          "free_bikes": 2,
          "id": "25318ec3e06fae1397a3a2f645104149",
          "latitude": 49.28972,
          "longitude": -123.144028,
          "name": "Chilco & Beach",
          "timestamp": "2023-02-13T19:22:31.431000Z"
         },
         {
          "empty_slots": 8,
          "extra": {
           "ebikes": 0,
           "has_ebikes": true,
           "last_updated": 1676315950,
           "normal_bikes": 4,
           "renting": true,
           "returning": true,
           "slots": 12,
           "uid": "0048"
          },
          "free_bikes": 4,
          "id": "444991edc9550be0908f032da5e3c95f",
          "latitude": 49.285253,
          "longitude": -123.134356,
          "name": "Comox & Broughton",
          "timestamp": "2023-02-13T19:22:31.413000Z"
         },
         {
          "empty_slots": 15,
          "extra": {
           "ebikes": 0,
           "has_ebikes": true,
           "last_updated": 1676315833,
           "normal_bikes": 7,
           "renting": true,
           "returning": true,
           "slots": 22,
           "uid": "0050"
          },
          "free_bikes": 7,
          "id": "434b6f4e7fc30198f901b60fc905f609",
          "latitude": 49.283343,
          "longitude": -123.131099,
          "name": "Bute & Comox",
          "timestamp": "2023-02-13T19:22:31.452000Z"
         },
         {
          "empty_slots": 8,
          "extra": {
           "ebikes": 3,
           "has_ebikes": true,
           "last_updated": 1676315973,
           "normal_bikes": 21,
           "renting": true,
           "returning": true,
           "slots": 32,
           "uid": "0052"
          },
          "free_bikes": 24,
          "id": "f97d5bf41f35aa181288429fb52e3488",
          "latitude": 49.284605,
          "longitude": -123.108662,
          "name": "Cambie & Water",
          "timestamp": "2023-02-13T19:22:31.451000Z"
         },
         {
          "empty_slots": 2,
          "extra": {
           "ebikes": 4,
           "has_ebikes": true,
           "last_updated": 1676316131,
           "normal_bikes": 22,
           "renting": true,
           "returning": true,
           "slots": 28,
           "uid": "0053"
          },
          "free_bikes": 26,
          "id": "fef69fb400210d861107a61db954d037",
          "latitude": 49.279821,
          "longitude": -123.10802,
          "name": "Keefer & Abbott",
          "timestamp": "2023-02-13T19:22:31.450000Z"
         },
         {
          "empty_slots": 9,
          "extra": {
           "ebikes": 1,
           "has_ebikes": true,
           "last_updated": 1676316049,
           "normal_bikes": 6,
           "renting": true,
           "returning": true,
           "slots": 16,
           "uid": "0054"
          },
          "free_bikes": 7,
          "id": "9d3123425823420514b8ad410074f02d",
          "latitude": 49.278004,
          "longitude": -123.105664,
          "name": "Expo & Carrall",
          "timestamp": "2023-02-13T19:22:31.457000Z"
         },
         {
          "empty_slots": 3,
          "extra": {
           "ebikes": 2,
           "has_ebikes": true,
           "last_updated": 1676316133,
           "normal_bikes": 9,
           "renting": true,
           "returning": true,
           "slots": 14,
           "uid": "0055"
          },
          "free_bikes": 11,
          "id": "f1ca711137cde59e824167a4274df888",
          "latitude": 49.279342,
          "longitude": -123.101822,
          "name": "Keefer & Columbia",
          "timestamp": "2023-02-13T19:22:31.456000Z"
         },
         {
          "empty_slots": 4,
          "extra": {
           "ebikes": 0,
           "has_ebikes": true,
           "last_updated": 1676315857,
           "normal_bikes": 22,
           "renting": true,
           "returning": true,
           "slots": 26,
           "uid": "0057"
          },
          "free_bikes": 22,
          "id": "4f6ebf2026d540ffe40e29a80138ad5e",
          "latitude": 49.273833,
          "longitude": -123.114373,
          "name": "Marinaside & Cooperage",
          "timestamp": "2023-02-13T19:22:31.453000Z"
         },
         {
          "empty_slots": 7,
          "extra": {
           "ebikes": 0,
           "has_ebikes": true,
           "last_updated": 1676316065,
           "normal_bikes": 19,
           "renting": true,
           "returning": true,
           "slots": 26,
           "uid": "0060"
          },
          "free_bikes": 19,
          "id": "be14efdc86dedd6a8cd338e78ab4e7c7",
          "latitude": 49.28526,
          "longitude": -123.141809,
          "name": "Bidwell & Burnaby",
          "timestamp": "2023-02-13T19:22:31.587000Z"
         },
         {
          "empty_slots": 17,
          "extra": {
           "ebikes": 3,
           "has_ebikes": true,
           "last_updated": 1676315880,
           "normal_bikes": 10,
           "renting": true,
           "returning": true,
           "slots": 30,
           "uid": "0063"
          },
          "free_bikes": 13,
          "id": "6ddeafa873279951630a00191333c45d",
          "latitude": 49.281506,
          "longitude": -123.120101,
          "name": "Robson & Granville",
          "timestamp": "2023-02-13T19:22:31.585000Z"
         },
         {
          "empty_slots": 8,
          "extra": {
           "ebikes": 1,
           "has_ebikes": true,
           "last_updated": 1676315880,
           "normal_bikes": 5,
           "renting": true,
           "returning": true,
           "slots": 14,
           "uid": "0064"
          },
          "free_bikes": 6,
          "id": "c7b5bec0b2f4ab9a2d3f9d837725620c",
          "latitude": 49.276115,
          "longitude": -123.114496,
          "name": "Expo & Smithe",
          "timestamp": "2023-02-13T19:22:31.574000Z"
         },
         {
          "empty_slots": 12,
          "extra": {
           "ebikes": 0,
           "has_ebikes": true,
           "last_updated": 1676315931,
           "normal_bikes": 10,
           "renting": true,
           "returning": true,
           "slots": 22,
           "uid": "0065"
          },
          "free_bikes": 10,
          "id": "b9fd847d53fe45658fee4c46e7f562b8",
          "latitude": 49.272827,
          "longitude": -123.147744,
          "name": "Cypress & Cornwall",
          "timestamp": "2023-02-13T19:22:31.575000Z"
         },
         {
          "empty_slots": 13,
          "extra": {
           "ebikes": 0,
           "has_ebikes": true,
           "last_updated": 1676316108,
           "normal_bikes": 15,
           "renting": true,
           "returning": true,
           "slots": 28,
           "uid": "0066"
          },
          "free_bikes": 15,
          "id": "c2be5403b1c101e8032cf6696457200e",
          "latitude": 49.269361,
          "longitude": -123.13782,
          "name": "Anderson & 2nd",
          "timestamp": "2023-02-13T19:22:31.574000Z"
         },
         {
          "empty_slots": 3,
          "extra": {
           "ebikes": 0,
           "has_ebikes": true,
           "last_updated": 1676316090,
           "normal_bikes": 12,
           "renting": true,
           "returning": true,
           "slots": 14,
           "uid": "0069"
          },
          "free_bikes": 12,
          "id": "71c064fa93cab5f0b7306e6c923b77c4",
          "latitude": 49.2653,
          "longitude": -123.13811,
          "name": "7th & Granville",
          "timestamp": "2023-02-13T19:22:31.591000Z"
         },
         {
          "empty_slots": 11,
          "extra": {
           "ebikes": 2,
           "has_ebikes": true,
           "last_updated": 1676315565,
           "normal_bikes": 1,
           "renting": true,
           "returning": true,
           "slots": 14,
           "uid": "0070"
          },
          "free_bikes": 3,
          "id": "96bf713e60bc35cc2feb5fd53a4f3471",
          "latitude": 49.262598,
          "longitude": -123.138921,
          "name": "10th & Granville",
          "timestamp": "2023-02-13T19:22:31.611000Z"
         },
         {
          "empty_slots": 5,
          "extra": {
           "ebikes": 4,
           "has_ebikes": true,
           "last_updated": 1676315727,
           "normal_bikes": 5,
           "renting": true,
           "returning": true,
           "slots": 14,
           "uid": "0071"
          },
          "free_bikes": 9,
          "id": "8dc684732a2a25bdf63ec0ecccee4e6e",
          "latitude": 49.25894,
          "longitude": -123.139272,
          "name": "14th & Granville",
          "timestamp": "2023-02-13T19:22:31.610000Z"
         },
         {
          "empty_slots": 9,
          "extra": {
           "ebikes": 2,
           "has_ebikes": true,
           "last_updated": 1676316029,
           "normal_bikes": 3,
           "renting": true,
           "returning": true,
           "slots": 14,
           "uid": "0072"
          },
          "free_bikes": 5,
          "id": "686c0fdb962e26e274d81fc286c010dd",
          "latitude": 49.258763,
          "longitude": -123.115392,
          "name": "14th & Cambie",
          "timestamp": "2023-02-13T19:22:31.613000Z"
         },
         {
          "empty_slots": 7,
          "extra": {
           "ebikes": 2,
           "has_ebikes": true,
           "last_updated": 1676315973,
           "normal_bikes": 12,
           "renting": true,
           "returning": true,
           "slots": 20,
           "uid": "0073"
          },
          "free_bikes": 14,
          "id": "0cf6cd1809fa7f510812f5b052f578c4",
          "latitude": 49.266724,
          "longitude": -123.104824,
          "name": "Ontario & 5th",
          "timestamp": "2023-02-13T19:22:31.612000Z"
         },
         {
          "empty_slots": 15,
          "extra": {
           "ebikes": 2,
           "has_ebikes": true,
           "last_updated": 1676315656,
           "normal_bikes": 1,
           "renting": true,
           "returning": true,
           "slots": 18,
           "uid": "0074"
          },
          "free_bikes": 3,
          "id": "93c88a18c673e2c72a6afa93d6b89f18",
          "latitude": 49.262141,
          "longitude": -123.101961,
          "name": "10th & Main",
          "timestamp": "2023-02-13T19:22:31.614000Z"
         },
         {
          "empty_slots": 8,
          "extra": {
           "ebikes": 0,
           "has_ebikes": true,
           "last_updated": 1676316094,
           "normal_bikes": 10,
           "renting": true,
           "returning": true,
           "slots": 18,
           "uid": "0076"
          },
          "free_bikes": 10,
          "id": "8fb5ce1e34ad31de940481953aea452c",
          "latitude": 49.268269,
          "longitude": -123.147885,
          "name": "Cypress & 4th",
          "timestamp": "2023-02-13T19:22:31.616000Z"
         },
         {
          "empty_slots": 3,
          "extra": {
           "ebikes": 0,
           "has_ebikes": true,
           "last_updated": 1676316145,
           "normal_bikes": 25,
           "renting": true,
           "returning": true,
           "slots": 28,
           "uid": "0077"
          },
          "free_bikes": 25,
          "id": "aa704bfba40286bd0661b64d1f75e778",
          "latitude": 49.275717,
          "longitude": -123.142564,
          "name": "Vanier Park",
          "timestamp": "2023-02-13T19:22:31.615000Z"
         },
         {
          "empty_slots": 9,
          "extra": {
           "ebikes": 1,
           "has_ebikes": true,
           "last_updated": 1676315968,
           "normal_bikes": 10,
           "renting": true,
           "returning": true,
           "slots": 20,
           "uid": "0078"
          },
          "free_bikes": 11,
          "id": "8c9ea7f2132376859ef34fab981d6932",
          "latitude": 49.276436,
          "longitude": -123.11877,
          "name": "Nelson & Mainland",
          "timestamp": "2023-02-13T19:22:31.618000Z"
         },
         {
          "empty_slots": 9,
          "extra": {
           "ebikes": 6,
           "has_ebikes": true,
           "last_updated": 1676316096,
           "normal_bikes": 3,
           "renting": true,
           "returning": true,
           "slots": 18,
           "uid": "0079"
          },
          "free_bikes": 9,
          "id": "1d4153659a0a0a2089078c739df6737d",
          "latitude": 49.277844,
          "longitude": -123.120942,
          "name": "Nelson & Richards",
          "timestamp": "2023-02-13T19:22:31.617000Z"
         },
         {
          "empty_slots": 4,
          "extra": {
           "ebikes": 2,
           "has_ebikes": true,
           "last_updated": 1676316104,
           "normal_bikes": 12,
           "renting": true,
           "returning": true,
           "slots": 18,
           "uid": "0081"
          },
          "free_bikes": 14,
          "id": "fbb4c06b719596c21f91fd51ef6d4710",
          "latitude": 49.265089,
          "longitude": -123.119425,
          "name": "7th & Heather",
          "timestamp": "2023-02-13T19:22:31.674000Z"
         },
         {
          "empty_slots": 20,
          "extra": {
           "ebikes": 0,
           "has_ebikes": true,
           "last_updated": 1676315727,
           "normal_bikes": 0,
           "renting": true,
           "returning": true,
           "slots": 20,
           "uid": "0088"
          },
          "free_bikes": 0,
          "id": "72c1049dfbbde7c24ec45c14f1a5ee85",
          "latitude": 49.28026,
          "longitude": -123.135244,
          "name": "Harwood & Bute",
          "timestamp": "2023-02-13T19:22:31.671000Z"
         },
         {
          "empty_slots": 18,
          "extra": {
           "ebikes": 0,
           "has_ebikes": true,
           "last_updated": 0,
           "normal_bikes": 0,
           "renting": false,
           "returning": false,
           "slots": 18,
           "uid": "0092"
          },
          "free_bikes": 0,
          "id": "00fa94ad698dc4a9e4d708d6fd32f294",
          "latitude": 49.291909,
          "longitude": -123.140713,
          "name": "Chilco & Barclay",
          "timestamp": "2023-02-13T19:22:31.719000Z"
         },
         {
          "empty_slots": 9,
          "extra": {
           "ebikes": 0,
           "has_ebikes": true,
           "last_updated": 1676316029,
           "normal_bikes": 7,
           "renting": true,
           "returning": true,
           "slots": 16,
           "uid": "0093"
          },
          "free_bikes": 7,
          "id": "efa947b901a2cf85b58320b3ad26a2fe",
          "latitude": 49.293257,
          "longitude": -123.138563,
          "name": "Chilco & Robson",
          "timestamp": "2023-02-13T19:22:31.718000Z"
         },
         {
          "empty_slots": 11,
          "extra": {
           "ebikes": 0,
           "has_ebikes": true,
           "last_updated": 1676316083,
           "normal_bikes": 7,
           "renting": true,
           "returning": true,
           "slots": 18,
           "uid": "0096"
          },
          "free_bikes": 7,
          "id": "66a53e9c32e4f5c724f9478240020142",
          "latitude": 49.288011,
          "longitude": -123.132006,
          "name": "Nicola & Robson",
          "timestamp": "2023-02-13T19:22:31.716000Z"
         },
         {
          "empty_slots": 0,
          "extra": {
           "ebikes": 3,
           "has_ebikes": true,
           "last_updated": 1676316081,
           "normal_bikes": 15,
           "renting": true,
           "returning": true,
           "slots": 18,
           "uid": "0098"
          },
          "free_bikes": 18,
          "id": "97b25faf822b93fdbf72da1d594c0288",
          "latitude": 49.28117,
          "longitude": -123.104419,
          "name": "Carrall & Hastings",
          "timestamp": "2023-02-13T19:22:31.715000Z"
         },
         {
          "empty_slots": 21,
          "extra": {
           "ebikes": 2,
           "has_ebikes": true,
           "last_updated": 1676315804,
           "normal_bikes": 4,
           "renting": true,
           "returning": true,
           "slots": 28,
           "uid": "0099"
          },
          "free_bikes": 6,
          "id": "6c7fb9043e6df5a4cc50404581a947b9",
          "latitude": 49.283227,
          "longitude": -123.120523,
          "name": "šxʷƛ̓ənəq Xwtl'e7énḵ Square - Vancouver Art Gallery",
          "timestamp": "2023-02-13T19:22:31.714000Z"
         },
         {
          "empty_slots": 6,
          "extra": {
           "ebikes": 0,
           "has_ebikes": true,
           "last_updated": 1676315862,
           "normal_bikes": 10,
           "renting": true,
           "returning": true,
           "slots": 16,
           "uid": "0101"
          },
          "free_bikes": 10,
          "id": "30bf49544b1c864688b78172d42cca5e",
          "latitude": 49.299292,
          "longitude": -123.130281,
          "name": "Stanley Park - Vancouver Aquarium",
          "timestamp": "2023-02-13T19:22:31.502000Z"
         },
         {
          "empty_slots": 4,
          "extra": {
           "ebikes": 2,
           "has_ebikes": true,
           "last_updated": 1676316006,
           "normal_bikes": 10,
           "renting": true,
           "returning": true,
           "slots": 16,
           "uid": "0102"
          },
          "free_bikes": 12,
          "id": "9f63cebac9073eac3e90be2b9a91b02b",
          "latitude": 49.29534,
          "longitude": -123.150433,
          "name": "Stanley Park - Second Beach North",
          "timestamp": "2023-02-13T19:22:31.507000Z"
         },
         {
          "empty_slots": 10,
          "extra": {
           "ebikes": 1,
           "has_ebikes": true,
           "last_updated": 1676316058,
           "normal_bikes": 7,
           "renting": true,
           "returning": true,
           "slots": 18,
           "uid": "0104"
          },
          "free_bikes": 8,
          "id": "9aa325529164ec68b4d96c4f1c4fc7c1",
          "latitude": 49.294318,
          "longitude": -123.148808,
          "name": "Stanley Park - Second Beach South",
          "timestamp": "2023-02-13T19:22:31.498000Z"
         },
         {
          "empty_slots": 10,
          "extra": {
           "ebikes": 0,
           "has_ebikes": true,
           "last_updated": 1676315847,
           "normal_bikes": 10,
           "renting": true,
           "returning": true,
           "slots": 20,
           "uid": "0105"
          },
          "free_bikes": 10,
          "id": "e3d32ad772a5898c3b96c4d23d2cd542",
          "latitude": 49.298657,
          "longitude": -123.121176,
          "name": "Stanley Park - Totem Poles",
          "timestamp": "2023-02-13T19:22:31.496000Z"
         },
         {
          "empty_slots": 10,
          "extra": {
           "ebikes": 0,
           "has_ebikes": true,
           "last_updated": 1676315978,
           "normal_bikes": 8,
           "renting": true,
           "returning": true,
           "slots": 18,
           "uid": "0106"
          },
          "free_bikes": 8,
          "id": "625a2ad202275c8e2be3ce868e85b105",
          "latitude": 49.259183,
          "longitude": -123.120126,
          "name": "Heather & 14th",
          "timestamp": "2023-02-13T19:22:31.501000Z"
         },
         {
          "empty_slots": 13,
          "extra": {
           "ebikes": 0,
           "has_ebikes": true,
           "last_updated": 1676316093,
           "normal_bikes": 3,
           "renting": true,
           "returning": true,
           "slots": 16,
           "uid": "0107"
          },
          "free_bikes": 3,
          "id": "6c0de983fb47a3439a9e3c36a3d15804",
          "latitude": 49.263837,
          "longitude": -123.105173,
          "name": "8th & Ontario",
          "timestamp": "2023-02-13T19:22:31.499000Z"
         },
         {
          "empty_slots": 17,
          "extra": {
           "ebikes": 1,
           "has_ebikes": true,
           "last_updated": 1676315723,
           "normal_bikes": 8,
           "renting": true,
           "returning": true,
           "slots": 26,
           "uid": "0108"
          },
          "free_bikes": 9,
          "id": "92c9e62c0b42adf4759c430009d3987a",
          "latitude": 49.270721,
          "longitude": -123.146175,
          "name": "1st & Chestnut",
          "timestamp": "2023-02-13T19:22:31.493000Z"
         },
         {
          "empty_slots": 7,
          "extra": {
           "ebikes": 0,
           "has_ebikes": true,
           "last_updated": 1676315559,
           "normal_bikes": 9,
           "renting": true,
           "returning": true,
           "slots": 16,
           "uid": "0109"
          },
          "free_bikes": 9,
          "id": "51e4d3731aebbf9c3186f310a08de6c8",
          "latitude": 49.265605,
          "longitude": -123.152566,
          "name": "7th & Arbutus",
          "timestamp": "2023-02-13T19:22:31.492000Z"
         },
         {
          "empty_slots": 11,
          "extra": {
           "ebikes": 0,
           "has_ebikes": true,
           "last_updated": 1676315995,
           "normal_bikes": 5,
           "renting": true,
           "returning": true,
           "slots": 16,
           "uid": "0110"
          },
          "free_bikes": 5,
          "id": "826af7eee4ce28b6fa4b4f0211305792",
          "latitude": 49.267222,
          "longitude": -123.153157,
          "name": "5th & Arbutus",
          "timestamp": "2023-02-13T19:22:31.447000Z"
         },
         {
          "empty_slots": 13,
          "extra": {
           "ebikes": 10,
           "has_ebikes": true,
           "last_updated": 1676316079,
           "normal_bikes": 3,
           "renting": true,
           "returning": true,
           "slots": 30,
           "uid": "0112"
          },
          "free_bikes": 13,
          "id": "4cb84c9a3743287019ae00ceef9a1cd3",
          "latitude": 49.262255,
          "longitude": -123.126217,
          "name": "10th & Oak",
          "timestamp": "2023-02-13T19:22:31.446000Z"
         },
         {
          "empty_slots": 25,
          "extra": {
           "ebikes": 10,
           "has_ebikes": true,
           "last_updated": 1676315957,
           "normal_bikes": 5,
           "renting": true,
           "returning": true,
           "slots": 40,
           "uid": "0113"
          },
          "free_bikes": 15,
          "id": "56fef9ba0af67a4ff3e661a8e02c0b08",
          "latitude": 49.257654,
          "longitude": -123.153212,
          "name": "Arbutus & 16th",
          "timestamp": "2023-02-13T19:22:31.447000Z"
         },
         {
          "empty_slots": 9,
          "extra": {
           "ebikes": 0,
           "has_ebikes": true,
           "last_updated": 1676316119,
           "normal_bikes": 3,
           "renting": true,
           "returning": true,
           "slots": 12,
           "uid": "0114"
          },
          "free_bikes": 3,
          "id": "c81f75a80312c51ceaef1304beac1990",
          "latitude": 49.25919,
          "longitude": -123.148268,
          "name": "Cypress & 14th",
          "timestamp": "2023-02-13T19:22:31.449000Z"
         },
         {
          "empty_slots": 5,
          "extra": {
           "ebikes": 2,
           "has_ebikes": true,
           "last_updated": 1676315667,
           "normal_bikes": 5,
           "renting": true,
           "returning": true,
           "slots": 12,
           "uid": "0115"
          },
          "free_bikes": 7,
          "id": "afacb2133f2462aba7748cc21b71c788",
          "latitude": 49.25741,
          "longitude": -123.148531,
          "name": "Cypress & 16th",
          "timestamp": "2023-02-13T19:22:31.450000Z"
         },
         {
          "empty_slots": 4,
          "extra": {
           "ebikes": 0,
           "has_ebikes": true,
           "last_updated": 1676315636,
           "normal_bikes": 8,
           "renting": true,
           "returning": true,
           "slots": 12,
           "uid": "0123"
          },
          "free_bikes": 8,
          "id": "a9f0b06d07f89b75e92c0cf686223aea",
          "latitude": 49.285953,
          "longitude": -123.124066,
          "name": "Georgia & Thurlow",
          "timestamp": "2023-02-13T19:22:31.419000Z"
         },
         {
          "empty_slots": 14,
          "extra": {
           "ebikes": 0,
           "has_ebikes": true,
           "last_updated": 1676316142,
           "normal_bikes": 1,
           "renting": true,
           "returning": true,
           "slots": 16,
           "uid": "0126"
          },
          "free_bikes": 1,
          "id": "686b314a6c3348efd2297d6b3dfed1a7",
          "latitude": 49.280881,
          "longitude": -123.130672,
          "name": "Thurlow & Pendrell",
          "timestamp": "2023-02-13T19:22:31.416000Z"
         },
         {
          "empty_slots": 6,
          "extra": {
           "ebikes": 0,
           "has_ebikes": true,
           "last_updated": 1676315604,
           "normal_bikes": 5,
           "renting": true,
           "returning": true,
           "slots": 12,
           "uid": "0130"
          },
          "free_bikes": 5,
          "id": "0d1b5c62f8d22e3650811df55596e25b",
          "latitude": 49.256845,
          "longitude": -123.120071,
          "name": "Heather & 16th",
          "timestamp": "2023-02-13T19:22:31.398000Z"
         },
         {
          "empty_slots": 9,
          "extra": {
           "ebikes": 2,
           "has_ebikes": true,
           "last_updated": 1676315941,
           "normal_bikes": 5,
           "renting": true,
           "returning": true,
           "slots": 16,
           "uid": "0132"
          },
          "free_bikes": 7,
          "id": "521c2122c791ed038168c3b8ff24061b",
          "latitude": 49.25849,
          "longitude": -123.104799,
          "name": "14th & Ontario",
          "timestamp": "2023-02-13T19:22:31.381000Z"
         },
         {
          "empty_slots": 9,
          "extra": {
           "ebikes": 0,
           "has_ebikes": true,
           "last_updated": 1676315610,
           "normal_bikes": 5,
           "renting": true,
           "returning": true,
           "slots": 14,
           "uid": "0134"
          },
          "free_bikes": 5,
          "id": "838d5bb59963474ad08a6d5b156943ed",
          "latitude": 49.258425,
          "longitude": -123.100792,
          "name": "14th & Main",
          "timestamp": "2023-02-13T19:22:31.369000Z"
         },
         {
          "empty_slots": 5,
          "extra": {
           "ebikes": 0,
           "has_ebikes": true,
           "last_updated": 1676316147,
           "normal_bikes": 13,
           "renting": true,
           "returning": true,
           "slots": 18,
           "uid": "0136"
          },
          "free_bikes": 13,
          "id": "b9ab6ce009eda6006ade1d7568d9db9c",
          "latitude": 49.270905,
          "longitude": -123.126006,
          "name": "David Lam Park - West",
          "timestamp": "2023-02-13T19:22:31.378000Z"
         },
         {
          "empty_slots": 9,
          "extra": {
           "ebikes": 0,
           "has_ebikes": true,
           "last_updated": 1676316080,
           "normal_bikes": 9,
           "renting": true,
           "returning": true,
           "slots": 18,
           "uid": "0137"
          },
          "free_bikes": 9,
          "id": "9ec4163496363b31ab475cb851b57b21",
          "latitude": 49.273568,
          "longitude": -123.129935,
          "name": "Beach & Seymour",
          "timestamp": "2023-02-13T19:22:31.379000Z"
         },
         {
          "empty_slots": 14,
          "extra": {
           "ebikes": 1,
           "has_ebikes": true,
           "last_updated": 1676315949,
           "normal_bikes": 1,
           "renting": true,
           "returning": true,
           "slots": 18,
           "uid": "0138"
          },
          "free_bikes": 2,
          "id": "fedff7a263c182df94bda7307059cc52",
          "latitude": 49.277141,
          "longitude": -123.122589,
          "name": "Richards & Helmcken",
          "timestamp": "2023-02-13T19:22:31.701000Z"
         },
         {
          "empty_slots": 6,
          "extra": {
           "ebikes": 0,
           "has_ebikes": true,
           "last_updated": 1676316026,
           "normal_bikes": 10,
           "renting": true,
           "returning": true,
           "slots": 16,
           "uid": "0139"
          },
          "free_bikes": 10,
          "id": "b9baf685b7053de899bf3467f61c2781",
          "latitude": 49.267859,
          "longitude": -123.145782,
          "name": "Burrard & 4th",
          "timestamp": "2023-02-13T19:22:31.709000Z"
         },
         {
          "empty_slots": 9,
          "extra": {
           "ebikes": 0,
           "has_ebikes": true,
           "last_updated": 1676316117,
           "normal_bikes": 7,
           "renting": true,
           "returning": true,
           "slots": 16,
           "uid": "0140"
          },
          "free_bikes": 7,
          "id": "8d6f0cbf7d44d2908c8ce73ed00dbf66",
          "latitude": 49.265336,
          "longitude": -123.145823,
          "name": "Burrard & 7th",
          "timestamp": "2023-02-13T19:22:31.399000Z"
         },
         {
          "empty_slots": 4,
          "extra": {
           "ebikes": 3,
           "has_ebikes": true,
           "last_updated": 1676315996,
           "normal_bikes": 7,
           "renting": true,
           "returning": true,
           "slots": 14,
           "uid": "0143"
          },
          "free_bikes": 10,
          "id": "988f8f74c4a12d1a30ddf2f7cd6318f8",
          "latitude": 49.267628,
          "longitude": -123.127698,
          "name": "South False Creek Seawall",
          "timestamp": "2023-02-13T19:22:31.400000Z"
         },
         {
          "empty_slots": 14,
          "extra": {
           "ebikes": 0,
           "has_ebikes": true,
           "last_updated": 1676315902,
           "normal_bikes": 2,
           "renting": true,
           "returning": true,
           "slots": 16,
           "uid": "0147"
          },
          "free_bikes": 2,
          "id": "2f09a64507cf6257c67ca20af27339eb",
          "latitude": 49.275938,
          "longitude": -123.145939,
          "name": "Chestnut & McNicoll",
          "timestamp": "2023-02-13T19:22:31.402000Z"
         },
         {
          "empty_slots": 8,
          "extra": {
           "ebikes": 1,
           "has_ebikes": true,
           "last_updated": 1676316071,
           "normal_bikes": 7,
           "renting": true,
           "returning": true,
           "slots": 18,
           "uid": "0148"
          },
          "free_bikes": 8,
          "id": "73f388336d879bedc962cd412eb0296e",
          "latitude": 49.2756,
          "longitude": -123.102661,
          "name": "Creekside Park North",
          "timestamp": "2023-02-13T19:22:31.404000Z"
         },
         {
          "empty_slots": 7,
          "extra": {
           "ebikes": 7,
           "has_ebikes": true,
           "last_updated": 1676316036,
           "normal_bikes": 6,
           "renting": true,
           "returning": true,
           "slots": 20,
           "uid": "0150"
          },
          "free_bikes": 13,
          "id": "cb6fddfdac7d350d25be475c7ab9e05a",
          "latitude": 49.284157,
          "longitude": -123.099917,
          "name": "Alexander & Main",
          "timestamp": "2023-02-13T19:22:31.667000Z"
         },
         {
          "empty_slots": 13,
          "extra": {
           "ebikes": 1,
           "has_ebikes": true,
           "last_updated": 1676315630,
           "normal_bikes": 6,
           "renting": true,
           "returning": true,
           "slots": 20,
           "uid": "0152"
          },
          "free_bikes": 7,
          "id": "cadc004f0903ef45e898032143c0832f",
          "latitude": 49.258924,
          "longitude": -123.152591,
          "name": "Arbutus Greenway & 14th",
          "timestamp": "2023-02-13T19:22:31.712000Z"
         },
         {
          "empty_slots": 4,
          "extra": {
           "ebikes": 4,
           "has_ebikes": true,
           "last_updated": 1676316057,
           "normal_bikes": 8,
           "renting": true,
           "returning": true,
           "slots": 16,
           "uid": "0153"
          },
          "free_bikes": 12,
          "id": "57e928d8c30fab0ebffb3ede850f89d6",
          "latitude": 49.266774,
          "longitude": -123.141135,
          "name": "Arbutus Greenway & Fir",
          "timestamp": "2023-02-13T19:22:31.713000Z"
         },
         {
          "empty_slots": 14,
          "extra": {
           "ebikes": 2,
           "has_ebikes": true,
           "last_updated": 1676315771,
           "normal_bikes": 22,
           "renting": true,
           "returning": true,
           "slots": 39,
           "uid": "0154"
          },
          "free_bikes": 24,
          "id": "6526a2eb3832f9ba0224d237e901ea5b",
          "latitude": 49.273355,
          "longitude": -123.154493,
          "name": "Kitsilano Beach Park",
          "timestamp": "2023-02-13T19:22:31.711000Z"
         },
         {
          "empty_slots": 11,
          "extra": {
           "ebikes": 5,
           "has_ebikes": true,
           "last_updated": 1676316016,
           "normal_bikes": 14,
           "renting": true,
           "returning": true,
           "slots": 30,
           "uid": "0155"
          },
          "free_bikes": 19,
          "id": "e44c2235dd603dbee54fe08f7543e85a",
          "latitude": 49.276144,
          "longitude": -123.151272,
          "name": "Arbutus & McNicoll",
          "timestamp": "2023-02-13T19:22:31.711000Z"
         },
         {
          "empty_slots": 11,
          "extra": {
           "ebikes": 0,
           "has_ebikes": true,
           "last_updated": 1676315968,
           "normal_bikes": 7,
           "renting": true,
           "returning": true,
           "slots": 18,
           "uid": "0159"
          },
          "free_bikes": 7,
          "id": "3596b4831ee2ea7812de753b32306835",
          "latitude": 49.268339,
          "longitude": -123.157443,
          "name": "Vine & 4th",
          "timestamp": "2023-02-13T19:22:31.720000Z"
         },
         {
          "empty_slots": 10,
          "extra": {
           "ebikes": 1,
           "has_ebikes": true,
           "last_updated": 1676316142,
           "normal_bikes": 3,
           "renting": true,
           "returning": true,
           "slots": 14,
           "uid": "0161"
          },
          "free_bikes": 4,
          "id": "c448b73d92f7f8e1daafb3b9c5fbe6a6",
          "latitude": 49.284062,
          "longitude": -123.095097,
          "name": "Alexander & Dunlevy",
          "timestamp": "2023-02-13T19:22:31.602000Z"
         },
         {
          "empty_slots": 7,
          "extra": {
           "ebikes": 4,
           "has_ebikes": true,
           "last_updated": 1676316137,
           "normal_bikes": 3,
           "renting": true,
           "returning": true,
           "slots": 14,
           "uid": "0166"
          },
          "free_bikes": 7,
          "id": "5fc29e0ac42c11abb45bf12aaeb925bd",
          "latitude": 49.261742,
          "longitude": -123.13148,
          "name": "Alder & 11th",
          "timestamp": "2023-02-13T19:22:31.702000Z"
         },
         {
          "empty_slots": 9,
          "extra": {
           "ebikes": 1,
           "has_ebikes": true,
           "last_updated": 1676315870,
           "normal_bikes": 4,
           "renting": true,
           "returning": true,
           "slots": 14,
           "uid": "0172"
          },
          "free_bikes": 5,
          "id": "61901a235d4cfceb7f8f2c3888b98617",
          "latitude": 49.262206,
          "longitude": -123.109091,
          "name": "10th & Columbia",
          "timestamp": "2023-02-13T19:22:31.565000Z"
         },
         {
          "empty_slots": 27,
          "extra": {
           "ebikes": 0,
           "has_ebikes": true,
           "last_updated": 1676315955,
           "normal_bikes": 4,
           "renting": true,
           "returning": true,
           "slots": 32,
           "uid": "0174"
          },
          "free_bikes": 4,
          "id": "175a074bf65455d1633639511dc129c8",
          "latitude": 49.27023,
          "longitude": -123.10651,
          "name": "1st & Manitoba",
          "timestamp": "2023-02-13T19:22:31.566000Z"
         },
         {
          "empty_slots": 6,
          "extra": {
           "ebikes": 7,
           "has_ebikes": true,
           "last_updated": 1676315885,
           "normal_bikes": 7,
           "renting": true,
           "returning": true,
           "slots": 20,
           "uid": "0176"
          },
          "free_bikes": 14,
          "id": "35eb539fb9298bb7e4f6759ca0256505",
          "latitude": 49.262062,
          "longitude": -123.104656,
          "name": "10th & Ontario",
          "timestamp": "2023-02-13T19:22:31.568000Z"
         },
         {
          "empty_slots": 6,
          "extra": {
           "ebikes": 1,
           "has_ebikes": true,
           "last_updated": 1676316082,
           "normal_bikes": 13,
           "renting": true,
           "returning": true,
           "slots": 20,
           "uid": "0177"
          },
          "free_bikes": 14,
          "id": "7b8dfa12900bcb02b47a14e4e5010ba3",
          "latitude": 49.27033,
          "longitude": -123.10275,
          "name": "Quebec & 1st",
          "timestamp": "2023-02-13T19:22:31.569000Z"
         },
         {
          "empty_slots": 10,
          "extra": {
           "ebikes": 0,
           "has_ebikes": true,
           "last_updated": 1676316078,
           "normal_bikes": 4,
           "renting": true,
           "returning": true,
           "slots": 14,
           "uid": "0180"
          },
          "free_bikes": 4,
          "id": "b30ed0719dd281867a4d39779c78b58a",
          "latitude": 49.258902,
          "longitude": -123.109596,
          "name": "Columbia & 14th",
          "timestamp": "2023-02-13T19:22:31.572000Z"
         },
         {
          "empty_slots": 16,
          "extra": {
           "ebikes": 0,
           "has_ebikes": true,
           "last_updated": 1676316130,
           "normal_bikes": 2,
           "renting": true,
           "returning": true,
           "slots": 20,
           "uid": "0187"
          },
          "free_bikes": 2,
          "id": "e1a4d91fdae7e18483373f648141e53e",
          "latitude": 49.282224,
          "longitude": -123.132778,
          "name": "Bute & Davie",
          "timestamp": "2023-02-13T19:22:31.570000Z"
         },
         {
          "empty_slots": 4,
          "extra": {
           "ebikes": 2,
           "has_ebikes": true,
           "last_updated": 1676316107,
           "normal_bikes": 8,
           "renting": true,
           "returning": true,
           "slots": 14,
           "uid": "0191"
          },
          "free_bikes": 10,
          "id": "ace20c241ee38643c9060f290b215b9d",
          "latitude": 49.265071,
          "longitude": -123.123864,
          "name": "7th & Laurel",
          "timestamp": "2023-02-13T19:22:31.538000Z"
         },
         {
          "empty_slots": 12,
          "extra": {
           "ebikes": 0,
           "has_ebikes": true,
           "last_updated": 1676315613,
           "normal_bikes": 4,
           "renting": true,
           "returning": true,
           "slots": 16,
           "uid": "0192"
          },
          "free_bikes": 4,
          "id": "3aed670ccdcd94b966c0f505f8b028c7",
          "latitude": 49.265198,
          "longitude": -123.131043,
          "name": "7th &  Alder",
          "timestamp": "2023-02-13T19:22:31.535000Z"
         },
         {
          "empty_slots": 3,
          "extra": {
           "ebikes": 1,
           "has_ebikes": true,
           "last_updated": 1676315870,
           "normal_bikes": 12,
           "renting": true,
           "returning": true,
           "slots": 16,
           "uid": "0193"
          },
          "free_bikes": 13,
          "id": "ae69aeab748d02e5a7d89da28a1a8511",
          "latitude": 49.273691,
          "longitude": -123.102232,
          "name": "Science World",
          "timestamp": "2023-02-13T19:22:31.536000Z"
         },
         {
          "empty_slots": 4,
          "extra": {
           "ebikes": 3,
           "has_ebikes": true,
           "last_updated": 1676316116,
           "normal_bikes": 13,
           "renting": true,
           "returning": true,
           "slots": 20,
           "uid": "0197"
          },
          "free_bikes": 16,
          "id": "0c9ad3e3703e5869b82619ecdf54f43e",
          "latitude": 49.2685027,
          "longitude": -123.0975014,
          "name": "1st & Scotia",
          "timestamp": "2023-02-13T19:22:31.541000Z"
         },
         {
          "empty_slots": 8,
          "extra": {
           "ebikes": 0,
           "has_ebikes": true,
           "last_updated": 1676315940,
           "normal_bikes": 12,
           "renting": true,
           "returning": true,
           "slots": 20,
           "uid": "0199"
          },
          "free_bikes": 12,
          "id": "852212d6d52b5f00544fad01d21c7db2",
          "latitude": 49.278529,
          "longitude": -123.100017,
          "name": "Georgia & Main",
          "timestamp": "2023-02-13T19:22:31.530000Z"
         },
         {
          "empty_slots": 6,
          "extra": {
           "ebikes": 0,
           "has_ebikes": true,
           "last_updated": 1676316008,
           "normal_bikes": 9,
           "renting": true,
           "returning": true,
           "slots": 18,
           "uid": "0201"
          },
          "free_bikes": 9,
          "id": "f3708906ec71348f5a42579fede36a0d",
          "latitude": 49.288682,
          "longitude": -123.11818,
          "name": "Shaw Tower",
          "timestamp": "2023-02-13T19:22:31.478000Z"
         },
         {
          "empty_slots": 12,
          "extra": {
           "ebikes": 0,
           "has_ebikes": true,
           "last_updated": 0,
           "normal_bikes": 0,
           "renting": false,
           "returning": false,
           "slots": 12,
           "uid": "0203"
          },
          "free_bikes": 0,
          "id": "d145b7498709289702095a4a2fcb2e03",
          "latitude": 49.258864,
          "longitude": -123.14353,
          "name": "Pine & 14th",
          "timestamp": "2023-02-13T19:22:31.477000Z"
         },
         {
          "empty_slots": 15,
          "extra": {
           "ebikes": 0,
           "has_ebikes": true,
           "last_updated": 1676315882,
           "normal_bikes": 5,
           "renting": true,
           "returning": true,
           "slots": 20,
           "uid": "0204"
          },
          "free_bikes": 5,
          "id": "9449a6a83fbf88452e384350e5ac95b7",
          "latitude": 49.271741,
          "longitude": -123.155421,
          "name": "York & Yew",
          "timestamp": "2023-02-13T19:22:31.472000Z"
         },
         {
          "empty_slots": 16,
          "extra": {
           "ebikes": 0,
           "has_ebikes": true,
           "last_updated": 1676315933,
           "normal_bikes": 4,
           "renting": true,
           "returning": true,
           "slots": 20,
           "uid": "0205"
          },
          "free_bikes": 4,
          "id": "365da33e9ce06ea53db1173a0f8eae71",
          "latitude": 49.262822,
          "longitude": -123.14338,
          "name": "Pine & 10th",
          "timestamp": "2023-02-13T19:22:31.474000Z"
         },
         {
          "empty_slots": 5,
          "extra": {
           "ebikes": 0,
           "has_ebikes": true,
           "last_updated": 1676315741,
           "normal_bikes": 6,
           "renting": true,
           "returning": true,
           "slots": 12,
           "uid": "0206"
          },
          "free_bikes": 6,
          "id": "707c1c54e0278fbae5d0ae3c42a25b71",
          "latitude": 49.263635,
          "longitude": -123.099236,
          "name": "8th & Scotia",
          "timestamp": "2023-02-13T19:22:31.470000Z"
         },
         {
          "empty_slots": 13,
          "extra": {
           "ebikes": 1,
           "has_ebikes": true,
           "last_updated": 1676316107,
           "normal_bikes": 6,
           "renting": true,
           "returning": true,
           "slots": 20,
           "uid": "0207"
          },
          "free_bikes": 7,
          "id": "5105df3dd0daf4c26980f4134f61e5cc",
          "latitude": 49.28763,
          "longitude": -123.127245,
          "name": "Alberni & Jervis",
          "timestamp": "2023-02-13T19:22:31.471000Z"
         },
         {
          "empty_slots": 9,
          "extra": {
           "ebikes": 0,
           "has_ebikes": true,
           "last_updated": 1676315947,
           "normal_bikes": 11,
           "renting": true,
           "returning": true,
           "slots": 20,
           "uid": "0209"
          },
          "free_bikes": 11,
          "id": "82c794442f54fabf9db6e392ca1fac0f",
          "latitude": 49.297933,
          "longitude": -123.130758,
          "name": "Stanley Park - Information Booth",
          "timestamp": "2023-02-13T19:22:31.485000Z"
         },
         {
          "empty_slots": 6,
          "extra": {
           "ebikes": 0,
           "has_ebikes": true,
           "last_updated": 1676315736,
           "normal_bikes": 8,
           "renting": true,
           "returning": true,
           "slots": 14,
           "uid": "0211"
          },
          "free_bikes": 8,
          "id": "2ca388bba54706770900ca2a9d7aa5be",
          "latitude": 49.258819,
          "longitude": -123.131317,
          "name": "14th & Alder",
          "timestamp": "2023-02-13T19:22:31.525000Z"
         },
         {
          "empty_slots": 5,
          "extra": {
           "ebikes": 0,
           "has_ebikes": true,
           "last_updated": 1676315881,
           "normal_bikes": 9,
           "renting": true,
           "returning": true,
           "slots": 14,
           "uid": "0213"
          },
          "free_bikes": 9,
          "id": "e7bf01431a6982f032996ad50a9e5bd7",
          "latitude": 49.280284,
          "longitude": -123.097052,
          "name": "Pender & Gore",
          "timestamp": "2023-02-13T19:22:31.668000Z"
         },
         {
          "empty_slots": 4,
          "extra": {
           "ebikes": 1,
           "has_ebikes": true,
           "last_updated": 1676315885,
           "normal_bikes": 13,
           "renting": true,
           "returning": true,
           "slots": 18,
           "uid": "0218"
          },
          "free_bikes": 14,
          "id": "1648ead5ea617d2cea115869d9516f5e",
          "latitude": 49.276294,
          "longitude": -123.106534,
          "name": "Carrall & Seawall",
          "timestamp": "2023-02-13T19:22:31.704000Z"
         },
         {
          "empty_slots": 5,
          "extra": {
           "ebikes": 1,
           "has_ebikes": true,
           "last_updated": 1676315714,
           "normal_bikes": 7,
           "renting": true,
           "returning": true,
           "slots": 14,
           "uid": "0221"
          },
          "free_bikes": 8,
          "id": "91035fe1d70b65c9cb8ec4a007af7c7f",
          "latitude": 49.277469,
          "longitude": -123.081315,
          "name": "Glen & Union",
          "timestamp": "2023-02-13T19:22:31.692000Z"
         },
         {
          "empty_slots": 1,
          "extra": {
           "ebikes": 2,
           "has_ebikes": true,
           "last_updated": 1676315873,
           "normal_bikes": 19,
           "renting": true,
           "returning": true,
           "slots": 22,
           "uid": "0222"
          },
          "free_bikes": 21,
          "id": "d3aaff4414a8c3fd5480c470f77ff68a",
          "latitude": 49.277665,
          "longitude": -123.073653,
          "name": "Adanac & McLean",
          "timestamp": "2023-02-13T19:22:31.484000Z"
         },
         {
          "empty_slots": 13,
          "extra": {
           "ebikes": 1,
           "has_ebikes": true,
           "last_updated": 1676315828,
           "normal_bikes": 2,
           "renting": true,
           "returning": true,
           "slots": 16,
           "uid": "0223"
          },
          "free_bikes": 3,
          "id": "b307709b305dd04328fbbf2c6db86419",
          "latitude": 49.277436,
          "longitude": -123.070427,
          "name": "Commercial & Adanac",
          "timestamp": "2023-02-13T19:22:31.694000Z"
         },
         {
          "empty_slots": 8,
          "extra": {
           "ebikes": 1,
           "has_ebikes": true,
           "last_updated": 1676315861,
           "normal_bikes": 7,
           "renting": true,
           "returning": true,
           "slots": 16,
           "uid": "0224"
          },
          "free_bikes": 8,
          "id": "e9c4bd1fffbb1e5b058b8ea15f7307f6",
          "latitude": 49.280332,
          "longitude": -123.070068,
          "name": "Pender & Commercial",
          "timestamp": "2023-02-13T19:22:31.699000Z"
         },
         {
          "empty_slots": 8,
          "extra": {
           "ebikes": 1,
           "has_ebikes": true,
           "last_updated": 1676316123,
           "normal_bikes": 5,
           "renting": true,
           "returning": true,
           "slots": 14,
           "uid": "0229"
          },
          "free_bikes": 6,
          "id": "bb0847559ce71c93d8215c0997ea2811",
          "latitude": 49.279369,
          "longitude": -123.091241,
          "name": "Keefer & Princess",
          "timestamp": "2023-02-13T19:22:31.677000Z"
         },
         {
          "empty_slots": 11,
          "extra": {
           "ebikes": 1,
           "has_ebikes": true,
           "last_updated": 1676315987,
           "normal_bikes": 8,
           "renting": true,
           "returning": true,
           "slots": 20,
           "uid": "0230"
          },
          "free_bikes": 9,
          "id": "1ef5c4ff3f0b09422bb1597fd9d7568b",
          "latitude": 49.283992,
          "longitude": -123.091206,
          "name": "Alexander & Railway",
          "timestamp": "2023-02-13T19:22:31.487000Z"
         },
         {
          "empty_slots": 7,
          "extra": {
           "ebikes": 5,
           "has_ebikes": true,
           "last_updated": 1676316120,
           "normal_bikes": 2,
           "renting": true,
           "returning": true,
           "slots": 14,
           "uid": "0231"
          },
          "free_bikes": 7,
          "id": "ac3b8198f03754a0afb8b6ed6d220cdd",
          "latitude": 49.274881,
          "longitude": -123.069323,
          "name": "Napier & Commercial",
          "timestamp": "2023-02-13T19:22:31.407000Z"
         },
         {
          "empty_slots": 3,
          "extra": {
           "ebikes": 0,
           "has_ebikes": true,
           "last_updated": 1676315865,
           "normal_bikes": 11,
           "renting": true,
           "returning": true,
           "slots": 14,
           "uid": "0232"
          },
          "free_bikes": 11,
          "id": "029a505bd4422a1afd127987757f71a6",
          "latitude": 49.275882,
          "longitude": -123.071865,
          "name": "Britannia Parking Lot",
          "timestamp": "2023-02-13T19:22:31.403000Z"
         },
         {
          "empty_slots": 8,
          "extra": {
           "ebikes": 1,
           "has_ebikes": true,
           "last_updated": 1676315587,
           "normal_bikes": 5,
           "renting": true,
           "returning": true,
           "slots": 14,
           "uid": "0233"
          },
          "free_bikes": 6,
          "id": "0459b7e93703980b853cd65a9dc60596",
          "latitude": 49.273777,
          "longitude": -123.092723,
          "name": "Thornton & National",
          "timestamp": "2023-02-13T19:22:31.435000Z"
         },
         {
          "empty_slots": 18,
          "extra": {
           "ebikes": 3,
           "has_ebikes": true,
           "last_updated": 1676316003,
           "normal_bikes": 7,
           "renting": true,
           "returning": true,
           "slots": 28,
           "uid": "0236"
          },
          "free_bikes": 10,
          "id": "a21f40838346e300063bdda3c5c04105",
          "latitude": 49.265005,
          "longitude": -123.079481,
          "name": "Keith & 6th",
          "timestamp": "2023-02-13T19:22:31.608000Z"
         },
         {
          "empty_slots": 12,
          "extra": {
           "ebikes": 0,
           "has_ebikes": true,
           "last_updated": 1676315654,
           "normal_bikes": 8,
           "renting": true,
           "returning": true,
           "slots": 20,
           "uid": "0237"
          },
          "free_bikes": 8,
          "id": "209fb233aff275020a640c8c40a18d90",
          "latitude": 49.265024,
          "longitude": -123.08127,
          "name": "Glen & 6th",
          "timestamp": "2023-02-13T19:22:31.513000Z"
         },
         {
          "empty_slots": 11,
          "extra": {
           "ebikes": 2,
           "has_ebikes": true,
           "last_updated": 1676315689,
           "normal_bikes": 1,
           "renting": true,
           "returning": true,
           "slots": 14,
           "uid": "0239"
          },
          "free_bikes": 3,
          "id": "6b1622540fe5c85d365754dd8c20bf0c",
          "latitude": 49.271377,
          "longitude": -123.069416,
          "name": "Grant & Commercial",
          "timestamp": "2023-02-13T19:22:31.669000Z"
         },
         {
          "empty_slots": 16,
          "extra": {
           "ebikes": 1,
           "has_ebikes": true,
           "last_updated": 1676316055,
           "normal_bikes": 5,
           "renting": true,
           "returning": true,
           "slots": 22,
           "uid": "0240"
          },
          "free_bikes": 6,
          "id": "ebc551adb0fc1a684f4080e4954a9ba4",
          "latitude": 49.268616,
          "longitude": -123.069908,
          "name": "2nd & Commercial",
          "timestamp": "2023-02-13T19:22:31.643000Z"
         },
         {
          "empty_slots": 7,
          "extra": {
           "ebikes": 2,
           "has_ebikes": true,
           "last_updated": 1676315628,
           "normal_bikes": 5,
           "renting": true,
           "returning": true,
           "slots": 14,
           "uid": "0241"
          },
          "free_bikes": 7,
          "id": "6eaa02e5bcf78db5386683d38fa2dabd",
          "latitude": 49.266969,
          "longitude": -123.069936,
          "name": "4th & Commercial",
          "timestamp": "2023-02-13T19:22:31.657000Z"
         },
         {
          "empty_slots": 21,
          "extra": {
           "ebikes": 3,
           "has_ebikes": true,
           "last_updated": 1676315800,
           "normal_bikes": 14,
           "renting": true,
           "returning": true,
           "slots": 38,
           "uid": "0242"
          },
          "free_bikes": 17,
          "id": "983e58671adcc67af94457d7887dbb15",
          "latitude": 49.263242,
          "longitude": -123.070521,
          "name": "8th & Commercial",
          "timestamp": "2023-02-13T19:22:31.481000Z"
         },
         {
          "empty_slots": 22,
          "extra": {
           "ebikes": 1,
           "has_ebikes": true,
           "last_updated": 1676315630,
           "normal_bikes": 3,
           "renting": true,
           "returning": true,
           "slots": 26,
           "uid": "0244"
          },
          "free_bikes": 4,
          "id": "797ff1725f8d2b18337de51e240ff60d",
          "latitude": 49.261403,
          "longitude": -123.070102,
          "name": "10th & Commercial",
          "timestamp": "2023-02-13T19:22:31.666000Z"
         },
         {
          "empty_slots": 10,
          "extra": {
           "ebikes": 0,
           "has_ebikes": true,
           "last_updated": 1676316146,
           "normal_bikes": 4,
           "renting": true,
           "returning": true,
           "slots": 14,
           "uid": "0245"
          },
          "free_bikes": 4,
          "id": "277b4b4881bdb7dac73012672179def8",
          "latitude": 49.261263,
          "longitude": -123.073707,
          "name": "Woodland & 10th",
          "timestamp": "2023-02-13T19:22:31.599000Z"
         },
         {
          "empty_slots": 12,
          "extra": {
           "ebikes": 1,
           "has_ebikes": true,
           "last_updated": 1676316120,
           "normal_bikes": 5,
           "renting": true,
           "returning": true,
           "slots": 18,
           "uid": "0246"
          },
          "free_bikes": 6,
          "id": "e1ff428dadc7c32141b9d89a7b56728a",
          "latitude": 49.262242,
          "longitude": -123.081459,
          "name": "Glen & Broadway",
          "timestamp": "2023-02-13T19:22:31.594000Z"
         },
         {
          "empty_slots": 8,
          "extra": {
           "ebikes": 1,
           "has_ebikes": true,
           "last_updated": 1676315845,
           "normal_bikes": 5,
           "renting": true,
           "returning": true,
           "slots": 14,
           "uid": "0248"
          },
          "free_bikes": 6,
          "id": "012d3e06901cc222b1c2cf0a2ace3a29",
          "latitude": 49.262321,
          "longitude": -123.09306,
          "name": "St George & Broadway",
          "timestamp": "2023-02-13T19:22:31.458000Z"
         },
         {
          "empty_slots": 10,
          "extra": {
           "ebikes": 0,
           "has_ebikes": true,
           "last_updated": 1676315604,
           "normal_bikes": 2,
           "renting": true,
           "returning": true,
           "slots": 12,
           "uid": "0249"
          },
          "free_bikes": 2,
          "id": "a6455af6b689bcbad07ae2c8a3419b50",
          "latitude": 49.264251,
          "longitude": -123.073853,
          "name": "7th & Woodland",
          "timestamp": "2023-02-13T19:22:31.603000Z"
         },
         {
          "empty_slots": 11,
          "extra": {
           "ebikes": 1,
           "has_ebikes": true,
           "last_updated": 1676316147,
           "normal_bikes": 3,
           "renting": true,
           "returning": true,
           "slots": 14,
           "uid": "0250"
          },
          "free_bikes": 4,
          "id": "475627e149c1a6ba73caac8d8d2fa617",
          "latitude": 49.266751,
          "longitude": -123.073501,
          "name": "Woodland & 4th",
          "timestamp": "2023-02-13T19:22:31.606000Z"
         },
         {
          "empty_slots": 7,
          "extra": {
           "ebikes": 5,
           "has_ebikes": true,
           "last_updated": 1676316036,
           "normal_bikes": 0,
           "renting": true,
           "returning": true,
           "slots": 12,
           "uid": "0252"
          },
          "free_bikes": 5,
          "id": "f387ec226c432c5c054e3d3616d90501",
          "latitude": 49.270684,
          "longitude": -123.073562,
          "name": "Woodland & Graveley",
          "timestamp": "2023-02-13T19:22:31.655000Z"
         },
         {
          "empty_slots": 5,
          "extra": {
           "ebikes": 3,
           "has_ebikes": true,
           "last_updated": 1676316021,
           "normal_bikes": 6,
           "renting": true,
           "returning": true,
           "slots": 14,
           "uid": "0253"
          },
          "free_bikes": 9,
          "id": "1675a77b9af656faf527b4e6de53e63b",
          "latitude": 49.2731,
          "longitude": -123.0732,
          "name": "Charles & Woodland",
          "timestamp": "2023-02-13T19:22:31.607000Z"
         },
         {
          "empty_slots": 10,
          "extra": {
           "ebikes": 1,
           "has_ebikes": true,
           "last_updated": 1676315767,
           "normal_bikes": 5,
           "renting": true,
           "returning": true,
           "slots": 16,
           "uid": "0255"
          },
          "free_bikes": 6,
          "id": "1bca0e944a4faf170db82793414b03ab",
          "latitude": 49.254667,
          "longitude": -123.101389,
          "name": "18th & Main",
          "timestamp": "2023-02-13T19:22:31.625000Z"
         },
         {
          "empty_slots": 9,
          "extra": {
           "ebikes": 4,
           "has_ebikes": true,
           "last_updated": 1676316074,
           "normal_bikes": 1,
           "renting": true,
           "returning": true,
           "slots": 14,
           "uid": "0256"
          },
          "free_bikes": 5,
          "id": "d0782213f003ce9eb276fbceff44f1f4",
          "latitude": 49.256694,
          "longitude": -123.096579,
          "name": "Prince Edward & 16th",
          "timestamp": "2023-02-13T19:22:31.642000Z"
         },
         {
          "empty_slots": 9,
          "extra": {
           "ebikes": 0,
           "has_ebikes": true,
           "last_updated": 1676315727,
           "normal_bikes": 5,
           "renting": true,
           "returning": true,
           "slots": 14,
           "uid": "0257"
          },
          "free_bikes": 5,
          "id": "1ef01f2f89621d51afbabaa6296e55be",
          "latitude": 49.258352,
          "longitude": -123.096337,
          "name": "Prince Edward & 14th",
          "timestamp": "2023-02-13T19:22:31.640000Z"
         },
         {
          "empty_slots": 5,
          "extra": {
           "ebikes": 3,
           "has_ebikes": true,
           "last_updated": 1676315683,
           "normal_bikes": 8,
           "renting": true,
           "returning": true,
           "slots": 16,
           "uid": "0258"
          },
          "free_bikes": 11,
          "id": "c47a1f62ea461ce1c9f3e2478c657df6",
          "latitude": 49.258817,
          "longitude": -123.092797,
          "name": "13th & St George",
          "timestamp": "2023-02-13T19:22:31.570000Z"
         },
         {
          "empty_slots": 10,
          "extra": {
           "ebikes": 4,
           "has_ebikes": true,
           "last_updated": 1676315903,
           "normal_bikes": 0,
           "renting": true,
           "returning": true,
           "slots": 14,
           "uid": "0260"
          },
          "free_bikes": 4,
          "id": "0cee06d7d10f7d3162cea03d22b7beed",
          "latitude": 49.26151,
          "longitude": -123.089413,
          "name": "10th & Fraser",
          "timestamp": "2023-02-13T19:22:31.459000Z"
         },
         {
          "empty_slots": 10,
          "extra": {
           "ebikes": 0,
           "has_ebikes": true,
           "last_updated": 1676316015,
           "normal_bikes": 6,
           "renting": true,
           "returning": true,
           "slots": 16,
           "uid": "0261"
          },
          "free_bikes": 6,
          "id": "f62bc2bfe9a0a563d5b6745ce6d962ba",
          "latitude": 49.263382,
          "longitude": -123.088837,
          "name": "8th & Fraser",
          "timestamp": "2023-02-13T19:22:31.460000Z"
         },
         {
          "empty_slots": 9,
          "extra": {
           "ebikes": 0,
           "has_ebikes": true,
           "last_updated": 1676316069,
           "normal_bikes": 3,
           "renting": true,
           "returning": true,
           "slots": 12,
           "uid": "0265"
          },
          "free_bikes": 3,
          "id": "1c8f7fd6535db12cc45cfc59aa9da058",
          "latitude": 49.261353,
          "longitude": -123.085333,
          "name": "St Catherines & 10th",
          "timestamp": "2023-02-13T19:22:31.489000Z"
         },
         {
          "empty_slots": 15,
          "extra": {
           "ebikes": 1,
           "has_ebikes": true,
           "last_updated": 1676315690,
           "normal_bikes": 4,
           "renting": true,
           "returning": true,
           "slots": 20,
           "uid": "0266"
          },
          "free_bikes": 5,
          "id": "17a3320a52bcc62161908967f8a06613",
          "latitude": 49.264466,
          "longitude": -123.085183,
          "name": "St Catherines & 7th",
          "timestamp": "2023-02-13T19:22:31.490000Z"
         },
         {
          "empty_slots": 12,
          "extra": {
           "ebikes": 2,
           "has_ebikes": true,
           "last_updated": 1676315640,
           "normal_bikes": 2,
           "renting": true,
           "returning": true,
           "slots": 16,
           "uid": "0272"
          },
          "free_bikes": 4,
          "id": "aed214941445e0345aa3254805a9e8b8",
          "latitude": 49.280197,
          "longitude": -123.065859,
          "name": "Pender & Victoria",
          "timestamp": "2023-02-13T19:22:31.561000Z"
         },
         {
          "empty_slots": 11,
          "extra": {
           "ebikes": 5,
           "has_ebikes": true,
           "last_updated": 1676315955,
           "normal_bikes": 0,
           "renting": true,
           "returning": true,
           "slots": 16,
           "uid": "0273"
          },
          "free_bikes": 5,
          "id": "d67640af1b3b3b3ce47169dbc9182470",
          "latitude": 49.266725,
          "longitude": -123.065925,
          "name": "Victoria & 4th",
          "timestamp": "2023-02-13T19:22:31.560000Z"
         },
         {
          "empty_slots": 8,
          "extra": {
           "ebikes": 3,
           "has_ebikes": true,
           "last_updated": 1676316065,
           "normal_bikes": 1,
           "renting": true,
           "returning": true,
           "slots": 12,
           "uid": "0274"
          },
          "free_bikes": 4,
          "id": "b2c6aaf2b4fa8937bfe3941c038683aa",
          "latitude": 49.261188,
          "longitude": -123.066009,
          "name": "Victoria & 10th",
          "timestamp": "2023-02-13T19:22:31.559000Z"
         },
         {
          "empty_slots": 12,
          "extra": {
           "ebikes": 1,
           "has_ebikes": true,
           "last_updated": 1676315730,
           "normal_bikes": 4,
           "renting": true,
           "returning": true,
           "slots": 18,
           "uid": "0278"
          },
          "free_bikes": 5,
          "id": "0a43242bee10cd33f539af2c1bf5ecbf",
          "latitude": 49.256857,
          "longitude": -123.065646,
          "name": "15th & Victoria (Trout Lake)",
          "timestamp": "2023-02-13T19:22:31.432000Z"
         },
         {
          "empty_slots": 10,
          "extra": {
           "ebikes": 0,
           "has_ebikes": true,
           "last_updated": 1676316112,
           "normal_bikes": 6,
           "renting": true,
           "returning": true,
           "slots": 16,
           "uid": "0280"
          },
          "free_bikes": 6,
          "id": "198810b9b0af5d229d1b6fa12c620e06",
          "latitude": 49.283986,
          "longitude": -123.065264,
          "name": "Triumph & Victoria",
          "timestamp": "2023-02-13T19:22:31.467000Z"
         },
         {
          "empty_slots": 8,
          "extra": {
           "ebikes": 2,
           "has_ebikes": true,
           "last_updated": 1676315989,
           "normal_bikes": 4,
           "renting": true,
           "returning": true,
           "slots": 14,
           "uid": "0281"
          },
          "free_bikes": 6,
          "id": "d02e2eaafda91425eddd24d8acd328ab",
          "latitude": 49.257985,
          "longitude": -123.083366,
          "name": "Windsor & 14th",
          "timestamp": "2023-02-13T19:22:31.468000Z"
         },
         {
          "empty_slots": 14,
          "extra": {
           "ebikes": 2,
           "has_ebikes": true,
           "last_updated": 1676315570,
           "normal_bikes": 0,
           "renting": true,
           "returning": true,
           "slots": 16,
           "uid": "0282"
          },
          "free_bikes": 2,
          "id": "08c7a90bf297fde8c1f1156db13987d4",
          "latitude": 49.257939,
          "longitude": -123.089531,
          "name": "14th & Fraser",
          "timestamp": "2023-02-13T19:22:31.464000Z"
         },
         {
          "empty_slots": 7,
          "extra": {
           "ebikes": 1,
           "has_ebikes": true,
           "last_updated": 1676315930,
           "normal_bikes": 6,
           "renting": true,
           "returning": true,
           "slots": 14,
           "uid": "0283"
          },
          "free_bikes": 7,
          "id": "97005696a3dff3366a8410b817388990",
          "latitude": 49.256496,
          "longitude": -123.075426,
          "name": "15th & Knight",
          "timestamp": "2023-02-13T19:22:31.465000Z"
         },
         {
          "empty_slots": 4,
          "extra": {
           "ebikes": 1,
           "has_ebikes": true,
           "last_updated": 1676315995,
           "normal_bikes": 11,
           "renting": true,
           "returning": true,
           "slots": 16,
           "uid": "0285"
          },
          "free_bikes": 12,
          "id": "c52e51e3288a00993bdf892fdc2c2c2c",
          "latitude": 49.283236,
          "longitude": -123.070443,
          "name": "Commercial & Pandora",
          "timestamp": "2023-02-13T19:22:31.462000Z"
         },
         {
          "empty_slots": 6,
          "extra": {
           "ebikes": 0,
           "has_ebikes": true,
           "last_updated": 1676316107,
           "normal_bikes": 10,
           "renting": true,
           "returning": true,
           "slots": 16,
           "uid": "0287"
          },
          "free_bikes": 10,
          "id": "7d231a181d21056e4ba80c4d9939fe92",
          "latitude": 49.267266,
          "longitude": -123.090786,
          "name": "Carolina & Great Northern Way",
          "timestamp": "2023-02-13T19:22:31.462000Z"
         },
         {
          "empty_slots": 11,
          "extra": {
           "ebikes": 0,
           "has_ebikes": true,
           "last_updated": 1676315986,
           "normal_bikes": 5,
           "renting": true,
           "returning": true,
           "slots": 16,
           "uid": "0297"
          },
          "free_bikes": 5,
          "id": "dcf3d5c9f1b3a46f0ef2eb2247931f89",
          "latitude": 49.265242,
          "longitude": -123.095577,
          "name": "6th & Prince Edward",
          "timestamp": "2023-02-13T19:22:31.522000Z"
         },
         {
          "empty_slots": 10,
          "extra": {
           "ebikes": 1,
           "has_ebikes": true,
           "last_updated": 1676316058,
           "normal_bikes": 5,
           "renting": true,
           "returning": true,
           "slots": 16,
           "uid": "0298"
          },
          "free_bikes": 6,
          "id": "9bee3167f10c884044cea0d36afcd1ef",
          "latitude": 49.265213,
          "longitude": -123.090785,
          "name": "6th & Carolina",
          "timestamp": "2023-02-13T19:22:31.514000Z"
         },
         {
          "empty_slots": 23,
          "extra": {
           "ebikes": 1,
           "has_ebikes": true,
           "last_updated": 1676315944,
           "normal_bikes": 14,
           "renting": true,
           "returning": true,
           "slots": 38,
           "uid": "0103"
          },
          "free_bikes": 15,
          "id": "45a4c865db23e1cad0209afa5a799de0",
          "latitude": 49.302577,
          "longitude": -123.155616,
          "name": "Stanley Park - Third Beach Parking Lot",
          "timestamp": "2023-02-13T19:22:31.505000Z"
         },
         {
          "empty_slots": 10,
          "extra": {
           "ebikes": 0,
           "has_ebikes": true,
           "last_updated": 1676316145,
           "normal_bikes": 6,
           "renting": true,
           "returning": true,
           "slots": 16,
           "uid": "0212"
          },
          "free_bikes": 6,
          "id": "fe0c57d04d6e682d284d501446095fc9",
          "latitude": 49.277595,
          "longitude": -123.09583,
          "name": "Union & Dunlevy",
          "timestamp": "2023-02-13T19:22:31.670000Z"
         },
         {
          "empty_slots": 3,
          "extra": {
           "ebikes": 0,
           "has_ebikes": true,
           "last_updated": 1676315567,
           "normal_bikes": 13,
           "renting": true,
           "returning": true,
           "slots": 16,
           "uid": "0228"
          },
          "free_bikes": 13,
          "id": "b10d422b045805f1c350c47c983381e8",
          "latitude": 49.279235,
          "longitude": -123.087528,
          "name": "Keefer & Hawks",
          "timestamp": "2023-02-13T19:22:31.676000Z"
         },
         {
          "empty_slots": 9,
          "extra": {
           "ebikes": 0,
           "has_ebikes": true,
           "last_updated": 1676315740,
           "normal_bikes": 7,
           "renting": true,
           "returning": true,
           "slots": 16,
           "uid": "0219"
          },
          "free_bikes": 7,
          "id": "4e8fdc99e77ba1b70d90e124a704d0c1",
          "latitude": 49.277333,
          "longitude": -123.087359,
          "name": "Hawks & Union",
          "timestamp": "2023-02-13T19:22:31.703000Z"
         },
         {
          "empty_slots": 17,
          "extra": {
           "ebikes": 4,
           "has_ebikes": true,
           "last_updated": 1676315798,
           "normal_bikes": 1,
           "renting": true,
           "returning": true,
           "slots": 22,
           "uid": "0235"
          },
          "free_bikes": 5,
          "id": "b562f08327af465e4531e20226789489",
          "latitude": 49.273103,
          "longitude": -123.069892,
          "name": "Charles & Commercial",
          "timestamp": "2023-02-13T19:22:31.389000Z"
         },
         {
          "empty_slots": 13,
          "extra": {
           "ebikes": 3,
           "has_ebikes": true,
           "last_updated": 1676316113,
           "normal_bikes": 3,
           "renting": true,
           "returning": true,
           "slots": 20,
           "uid": "0186"
          },
          "free_bikes": 6,
          "id": "4ac99b928a91d8ccb785c9d0b805adb6",
          "latitude": 49.261973,
          "longitude": -123.09725,
          "name": "10th & Kingsway",
          "timestamp": "2023-02-13T19:22:31.571000Z"
         },
         {
          "empty_slots": 12,
          "extra": {
           "ebikes": 1,
           "has_ebikes": true,
           "last_updated": 1676315879,
           "normal_bikes": 5,
           "renting": true,
           "returning": true,
           "slots": 18,
           "uid": "0045"
          },
          "free_bikes": 6,
          "id": "99c81f71db35911c79a86a1c5edc5604",
          "latitude": 49.275295,
          "longitude": -123.132585,
          "name": "Beach & Hornby",
          "timestamp": "2023-02-13T19:22:31.430000Z"
         },
         {
          "empty_slots": 13,
          "extra": {
           "ebikes": 0,
           "has_ebikes": true,
           "last_updated": 1676315965,
           "normal_bikes": 15,
           "renting": true,
           "returning": true,
           "slots": 28,
           "uid": "0002"
          },
          "free_bikes": 15,
          "id": "e12234b6f1299d178f34bffaca92f043",
          "latitude": 49.285871,
          "longitude": -123.12105,
          "name": "Burrard Station (Melville & Dunsmuir)",
          "timestamp": "2023-02-13T19:22:31.598000Z"
         },
         {
          "empty_slots": 10,
          "extra": {
           "ebikes": 0,
           "has_ebikes": true,
           "last_updated": 1676315629,
           "normal_bikes": 4,
           "renting": true,
           "returning": true,
           "slots": 14,
           "uid": "0300"
          },
          "free_bikes": 4,
          "id": "5a34495280727a5b50b9aa41e14e9a16",
          "latitude": 49.284893,
          "longitude": -123.128685,
          "name": "Bute & Barclay",
          "timestamp": "2023-02-13T19:22:31.408000Z"
         },
         {
          "empty_slots": 9,
          "extra": {
           "ebikes": 0,
           "has_ebikes": true,
           "last_updated": 1676316011,
           "normal_bikes": 13,
           "renting": true,
           "returning": true,
           "slots": 22,
           "uid": "0170"
          },
          "free_bikes": 13,
          "id": "9130f9aa3bb037a04c17e6f2630327e5",
          "latitude": 49.263962,
          "longitude": -123.112621,
          "name": "8th & Yukon",
          "timestamp": "2023-02-13T19:22:31.562000Z"
         },
         {
          "empty_slots": 6,
          "extra": {
           "ebikes": 0,
           "has_ebikes": true,
           "last_updated": 1676315887,
           "normal_bikes": 6,
           "renting": true,
           "returning": true,
           "slots": 12,
           "uid": "0215"
          },
          "free_bikes": 6,
          "id": "9a48ca226f82f52d02707b054ebc7e9e",
          "latitude": 49.277615,
          "longitude": -123.091654,
          "name": "Princess & Union",
          "timestamp": "2023-02-13T19:22:31.532000Z"
         },
         {
          "empty_slots": 9,
          "extra": {
           "ebikes": 2,
           "has_ebikes": true,
           "last_updated": 1676315570,
           "normal_bikes": 11,
           "renting": true,
           "returning": true,
           "slots": 22,
           "uid": "0012"
          },
          "free_bikes": 13,
          "id": "b3bb9f58d3530d33a1a09b6be9e973e0",
          "latitude": 49.282214,
          "longitude": -123.114101,
          "name": "Dunsmuir & Richards",
          "timestamp": "2023-02-13T19:22:31.623000Z"
         },
         {
          "empty_slots": 7,
          "extra": {
           "ebikes": 1,
           "has_ebikes": true,
           "last_updated": 1676315991,
           "normal_bikes": 12,
           "renting": true,
           "returning": true,
           "slots": 20,
           "uid": "0198"
          },
          "free_bikes": 13,
          "id": "c2f4e05c01ea0d27934ac7dbc50cbd0c",
          "latitude": 49.266456,
          "longitude": -123.100324,
          "name": "5th & Main",
          "timestamp": "2023-02-13T19:22:31.528000Z"
         },
         {
          "empty_slots": 2,
          "extra": {
           "ebikes": 0,
           "has_ebikes": true,
           "last_updated": 1676315987,
           "normal_bikes": 17,
           "renting": true,
           "returning": true,
           "slots": 20,
           "uid": "0119"
          },
          "free_bikes": 17,
          "id": "9a5478470b56379c31cf4e671584d5cc",
          "latitude": 49.268216,
          "longitude": -123.103168,
          "name": "3rd & Quebec",
          "timestamp": "2023-02-13T19:22:31.510000Z"
         },
         {
          "empty_slots": 8,
          "extra": {
           "ebikes": 2,
           "has_ebikes": true,
           "last_updated": 1676315836,
           "normal_bikes": 14,
           "renting": true,
           "returning": true,
           "slots": 24,
           "uid": "0124"
          },
          "free_bikes": 16,
          "id": "257715b845828e027ff35dd0f11c971e",
          "latitude": 49.284554,
          "longitude": -123.111031,
          "name": "Richards & Cordova",
          "timestamp": "2023-02-13T19:22:31.418000Z"
         },
         {
          "empty_slots": 11,
          "extra": {
           "ebikes": 2,
           "has_ebikes": true,
           "last_updated": 1676315822,
           "normal_bikes": 9,
           "renting": true,
           "returning": true,
           "slots": 22,
           "uid": "0129"
          },
          "free_bikes": 11,
          "id": "910027847876403b57f1013c16504688",
          "latitude": 49.280216,
          "longitude": -123.117639,
          "name": "Richards & Robson",
          "timestamp": "2023-02-13T19:22:31.430000Z"
         },
         {
          "empty_slots": 10,
          "extra": {
           "ebikes": 1,
           "has_ebikes": true,
           "last_updated": 1676316119,
           "normal_bikes": 15,
           "renting": true,
           "returning": true,
           "slots": 26,
           "uid": "0006"
          },
          "free_bikes": 16,
          "id": "06487275cd19694152824c7c3088e8ff",
          "latitude": 49.266314,
          "longitude": -123.116011,
          "name": "Olympic Village Station",
          "timestamp": "2023-02-13T19:22:31.593000Z"
         },
         {
          "empty_slots": 6,
          "extra": {
           "ebikes": 1,
           "has_ebikes": true,
           "last_updated": 1676315658,
           "normal_bikes": 7,
           "renting": true,
           "returning": true,
           "slots": 14,
           "uid": "0227"
          },
          "free_bikes": 8,
          "id": "b428c0e64d9b9fdb3bf8e85c95ffdf6b",
          "latitude": 49.280852,
          "longitude": -123.084746,
          "name": "Campbell & Hastings",
          "timestamp": "2023-02-13T19:22:31.511000Z"
         },
         {
          "empty_slots": 15,
          "extra": {
           "ebikes": 0,
           "has_ebikes": true,
           "last_updated": 1676316075,
           "normal_bikes": 3,
           "renting": true,
           "returning": true,
           "slots": 18,
           "uid": "0040"
          },
          "free_bikes": 3,
          "id": "d085c6749a32517e1fb0d070e4128402",
          "latitude": 49.285512,
          "longitude": -123.1384,
          "name": "Cardero & Davie",
          "timestamp": "2023-02-13T19:22:31.427000Z"
         },
         {
          "empty_slots": 12,
          "extra": {
           "ebikes": 0,
           "has_ebikes": true,
           "last_updated": 1676315759,
           "normal_bikes": 22,
           "renting": true,
           "returning": true,
           "slots": 35,
           "uid": "0083"
          },
          "free_bikes": 22,
          "id": "a6aec7b8c25da4c02829cd7839b8933d",
          "latitude": 49.27821,
          "longitude": -123.136972,
          "name": "Aquatic Centre",
          "timestamp": "2023-02-13T19:22:31.676000Z"
         },
         {
          "empty_slots": 6,
          "extra": {
           "ebikes": 1,
           "has_ebikes": true,
           "last_updated": 1676316018,
           "normal_bikes": 15,
           "renting": true,
           "returning": true,
           "slots": 22,
           "uid": "0084"
          },
          "free_bikes": 16,
          "id": "c924f6a41b130fad49cfae47271314bc",
          "latitude": 49.281301,
          "longitude": -123.139108,
          "name": "Beach & Broughton",
          "timestamp": "2023-02-13T19:22:31.672000Z"
         },
         {
          "empty_slots": 1,
          "extra": {
           "ebikes": 2,
           "has_ebikes": true,
           "last_updated": 1676316145,
           "normal_bikes": 18,
           "renting": true,
           "returning": true,
           "slots": 22,
           "uid": "0142"
          },
          "free_bikes": 20,
          "id": "8e93d0da1ee6caadf21ed9575b5fa9da",
          "latitude": 49.283298,
          "longitude": -123.142288,
          "name": "Beach & Cardero",
          "timestamp": "2023-02-13T19:22:31.401000Z"
         },
         {
          "empty_slots": 16,
          "extra": {
           "ebikes": 1,
           "has_ebikes": true,
           "last_updated": 1676315871,
           "normal_bikes": 1,
           "renting": true,
           "returning": true,
           "slots": 18,
           "uid": "0305"
          },
          "free_bikes": 2,
          "id": "9413725a5d3bb5ce2ad0682b07a3ffab",
          "latitude": 49.280787,
          "longitude": -123.115271,
          "name": "Georgia & Homer",
          "timestamp": "2023-02-13T19:22:31.405000Z"
         },
         {
          "empty_slots": 4,
          "extra": {
           "ebikes": 0,
           "has_ebikes": true,
           "last_updated": 1676315994,
           "normal_bikes": 14,
           "renting": true,
           "returning": true,
           "slots": 18,
           "uid": "0165"
          },
          "free_bikes": 14,
          "id": "7ed043a19e6a4ece742fe747b663bdbf",
          "latitude": 49.266476,
          "longitude": -123.109389,
          "name": "Columbia & 5th",
          "timestamp": "2023-02-13T19:22:31.605000Z"
         },
         {
          "empty_slots": 4,
          "extra": {
           "ebikes": 0,
           "has_ebikes": true,
           "last_updated": 1676316139,
           "normal_bikes": 14,
           "renting": true,
           "returning": true,
           "slots": 20,
           "uid": "0122"
          },
          "free_bikes": 14,
          "id": "ce5dccf5a0f190bb4567a2fd93e7971e",
          "latitude": 49.290587,
          "longitude": -123.13625,
          "name": "Haro & Denman",
          "timestamp": "2023-02-13T19:22:31.421000Z"
         },
         {
          "empty_slots": 16,
          "extra": {
           "ebikes": 1,
           "has_ebikes": true,
           "last_updated": 1676316026,
           "normal_bikes": 5,
           "renting": true,
           "returning": true,
           "slots": 22,
           "uid": "0100"
          },
          "free_bikes": 6,
          "id": "844aa75af0d3235a86ff827c81395afd",
          "latitude": 49.312568,
          "longitude": -123.144177,
          "name": "Stanley Park - Prospect Point",
          "timestamp": "2023-02-13T19:22:31.504000Z"
         },
         {
          "empty_slots": 13,
          "extra": {
           "ebikes": 0,
           "has_ebikes": true,
           "last_updated": 1676315824,
           "normal_bikes": 5,
           "renting": true,
           "returning": true,
           "slots": 18,
           "uid": "0075"
          },
          "free_bikes": 5,
          "id": "1d442ad1a71774c82688a45954e47bfd",
          "latitude": 49.262835,
          "longitude": -123.152626,
          "name": "Arbutus & 10th",
          "timestamp": "2023-02-13T19:22:31.613000Z"
         },
         {
          "empty_slots": 10,
          "extra": {
           "ebikes": 4,
           "has_ebikes": true,
           "last_updated": 1676315939,
           "normal_bikes": 0,
           "renting": true,
           "returning": true,
           "slots": 14,
           "uid": "0133"
          },
          "free_bikes": 4,
          "id": "2781435bde344e1b64f1bebac6bc9008",
          "latitude": 49.256825,
          "longitude": -123.105234,
          "name": "Ontario & 16th",
          "timestamp": "2023-02-13T19:22:31.382000Z"
         },
         {
          "empty_slots": 8,
          "extra": {
           "ebikes": 2,
           "has_ebikes": true,
           "last_updated": 1676316120,
           "normal_bikes": 4,
           "renting": true,
           "returning": true,
           "slots": 14,
           "uid": "0082"
          },
          "free_bikes": 6,
          "id": "e9b37f2d9b7b2e2e3ade73f13acb69b2",
          "latitude": 49.275683,
          "longitude": -123.124388,
          "name": "Richards & Davie",
          "timestamp": "2023-02-13T19:22:31.675000Z"
         },
         {
          "empty_slots": 11,
          "extra": {
           "ebikes": 1,
           "has_ebikes": true,
           "last_updated": 1676316083,
           "normal_bikes": 5,
           "renting": true,
           "returning": true,
           "slots": 18,
           "uid": "0262"
          },
          "free_bikes": 6,
          "id": "fffd87607aaae16fbb1f71615cbe7d17",
          "latitude": 49.263518,
          "longitude": -123.09568,
          "name": "8th & Prince Edward",
          "timestamp": "2023-02-13T19:22:31.495000Z"
         },
         {
          "empty_slots": 18,
          "extra": {
           "ebikes": 0,
           "has_ebikes": true,
           "last_updated": 1676315729,
           "normal_bikes": 1,
           "renting": true,
           "returning": true,
           "slots": 20,
           "uid": "0310"
          },
          "free_bikes": 1,
          "id": "da8b6e94f90ad41a3f8de10596992372",
          "latitude": 49.28691,
          "longitude": -123.128818,
          "name": "Jervis & Robson",
          "timestamp": "2023-02-13T19:22:31.708000Z"
         },
         {
          "empty_slots": 12,
          "extra": {
           "ebikes": 1,
           "has_ebikes": true,
           "last_updated": 1676315948,
           "normal_bikes": 7,
           "renting": true,
           "returning": true,
           "slots": 20,
           "uid": "0217"
          },
          "free_bikes": 8,
          "id": "32f70f7ae14ba87523c6286a6c4d5c37",
          "latitude": 49.282503,
          "longitude": -123.124697,
          "name": "Smithe & Burrard",
          "timestamp": "2023-02-13T19:22:31.533000Z"
         },
         {
          "empty_slots": 18,
          "extra": {
           "ebikes": 1,
           "has_ebikes": true,
           "last_updated": 1676315983,
           "normal_bikes": 0,
           "renting": true,
           "returning": true,
           "slots": 22,
           "uid": "0087"
          },
          "free_bikes": 1,
          "id": "df5ab349a7a85d4b10da4cc3ec65c607",
          "latitude": 49.283749,
          "longitude": -123.136133,
          "name": "Broughton & Davie",
          "timestamp": "2023-02-13T19:22:31.673000Z"
         },
         {
          "empty_slots": 9,
          "extra": {
           "ebikes": 0,
           "has_ebikes": true,
           "last_updated": 1676315948,
           "normal_bikes": 5,
           "renting": true,
           "returning": true,
           "slots": 14,
           "uid": "0068"
          },
          "free_bikes": 5,
          "id": "e0318460138ffbf4692005d5b5a9f900",
          "latitude": 49.262944,
          "longitude": -123.148109,
          "name": "Cypress & 10th",
          "timestamp": "2023-02-13T19:22:31.590000Z"
         },
         {
          "empty_slots": 7,
          "extra": {
           "ebikes": 4,
           "has_ebikes": true,
           "last_updated": 1676315728,
           "normal_bikes": 9,
           "renting": true,
           "returning": true,
           "slots": 20,
           "uid": "0189"
          },
          "free_bikes": 13,
          "id": "db51c556fe50ec1deefbc9697c70cb51",
          "latitude": 49.27029,
          "longitude": -123.135025,
          "name": "Granville Island",
          "timestamp": "2023-02-13T19:22:31.573000Z"
         },
         {
          "empty_slots": 7,
          "extra": {
           "ebikes": 4,
           "has_ebikes": true,
           "last_updated": 1676315997,
           "normal_bikes": 5,
           "renting": true,
           "returning": true,
           "slots": 16,
           "uid": "0225"
          },
          "free_bikes": 9,
          "id": "58a026f0c506caec20697a4f90538450",
          "latitude": 49.280427,
          "longitude": -123.074082,
          "name": "McLean & Pender",
          "timestamp": "2023-02-13T19:22:31.700000Z"
         },
         {
          "empty_slots": 16,
          "extra": {
           "ebikes": 2,
           "has_ebikes": true,
           "last_updated": 1676315867,
           "normal_bikes": 0,
           "renting": true,
           "returning": true,
           "slots": 18,
           "uid": "0058"
          },
          "free_bikes": 2,
          "id": "0e0aef6fabaa808b3a3cef24657257a4",
          "latitude": 49.279259,
          "longitude": -123.119145,
          "name": "Richards & Smithe",
          "timestamp": "2023-02-13T19:22:31.448000Z"
         },
         {
          "empty_slots": 11,
          "extra": {
           "ebikes": 2,
           "has_ebikes": true,
           "last_updated": 1676316128,
           "normal_bikes": 13,
           "renting": true,
           "returning": true,
           "slots": 26,
           "uid": "0036"
          },
          "free_bikes": 15,
          "id": "90c746df94ce1a12f1f617acfe4a8ce3",
          "latitude": 49.285836,
          "longitude": -123.127265,
          "name": "Bute & Robson",
          "timestamp": "2023-02-13T19:22:31.387000Z"
         },
         {
          "empty_slots": 14,
          "extra": {
           "ebikes": 0,
           "has_ebikes": true,
           "last_updated": 1676316065,
           "normal_bikes": 6,
           "renting": true,
           "returning": true,
           "slots": 20,
           "uid": "0460"
          },
          "free_bikes": 6,
          "id": "80b5c12ef21fd47275d37b2c9935249c",
          "latitude": 49.272969,
          "longitude": -123.164325,
          "name": "Trafalgar & Cornwall",
          "timestamp": "2023-02-13T19:22:31.588000Z"
         },
         {
          "empty_slots": 20,
          "extra": {
           "ebikes": 2,
           "has_ebikes": true,
           "last_updated": 1676315587,
           "normal_bikes": 2,
           "renting": true,
           "returning": true,
           "slots": 24,
           "uid": "0410"
          },
          "free_bikes": 4,
          "id": "899f59a9994302e8e1e4be01117ef707",
          "latitude": 49.27247,
          "longitude": -123.185643,
          "name": "Alma & Point Grey",
          "timestamp": "2023-02-13T19:22:31.706000Z"
         },
         {
          "empty_slots": 8,
          "extra": {
           "ebikes": 0,
           "has_ebikes": true,
           "last_updated": 1676315989,
           "normal_bikes": 6,
           "renting": true,
           "returning": true,
           "slots": 14,
           "uid": "0440"
          },
          "free_bikes": 6,
          "id": "8d2d5bb3b9142f781f2a7f441e6bad7a",
          "latitude": 49.271471,
          "longitude": -123.17731,
          "name": "Point Grey & Blenheim",
          "timestamp": "2023-02-13T19:22:31.482000Z"
         },
         {
          "empty_slots": 11,
          "extra": {
           "ebikes": 0,
           "has_ebikes": true,
           "last_updated": 1676315966,
           "normal_bikes": 12,
           "renting": true,
           "returning": true,
           "slots": 24,
           "uid": "0035"
          },
          "free_bikes": 12,
          "id": "5de0fe55497681d4cc9dd25509cf51ab",
          "latitude": 49.290112,
          "longitude": -123.127062,
          "name": "Hastings & Broughton",
          "timestamp": "2023-02-13T19:22:31.383000Z"
         },
         {
          "empty_slots": 12,
          "extra": {
           "ebikes": 2,
           "has_ebikes": true,
           "last_updated": 1676316138,
           "normal_bikes": 4,
           "renting": true,
           "returning": true,
           "slots": 18,
           "uid": "0484"
          },
          "free_bikes": 6,
          "id": "2681455ba2d97283998a806b14d3e95c",
          "latitude": 49.263523,
          "longitude": -123.155267,
          "name": "Yew & Broadway",
          "timestamp": "2023-02-13T19:22:31.705000Z"
         },
         {
          "empty_slots": 15,
          "extra": {
           "ebikes": 0,
           "has_ebikes": true,
           "last_updated": 1676316064,
           "normal_bikes": 7,
           "renting": true,
           "returning": true,
           "slots": 22,
           "uid": "0452"
          },
          "free_bikes": 7,
          "id": "064a7b39b1dbc4bfc4cf8f454e360c57",
          "latitude": 49.264928,
          "longitude": -123.168068,
          "name": "8th & Macdonald",
          "timestamp": "2023-02-13T19:22:31.508000Z"
         },
         {
          "empty_slots": 2,
          "extra": {
           "ebikes": 2,
           "has_ebikes": true,
           "last_updated": 1676315887,
           "normal_bikes": 14,
           "renting": true,
           "returning": true,
           "slots": 18,
           "uid": "0444"
          },
          "free_bikes": 16,
          "id": "9c1397c06e07bf74fc049f1a0872eea0",
          "latitude": 49.264483,
          "longitude": -123.173926,
          "name": "Balaclava & Broadway",
          "timestamp": "2023-02-13T19:22:31.479000Z"
         },
         {
          "empty_slots": 24,
          "extra": {
           "ebikes": 1,
           "has_ebikes": true,
           "last_updated": 1676316128,
           "normal_bikes": 1,
           "renting": true,
           "returning": true,
           "slots": 26,
           "uid": "0415"
          },
          "free_bikes": 2,
          "id": "9763838317308a4766b83696986a157b",
          "latitude": 49.264579,
          "longitude": -123.18373,
          "name": "Dunbar & Broadway",
          "timestamp": "2023-02-13T19:22:31.707000Z"
         },
         {
          "empty_slots": 10,
          "extra": {
           "ebikes": 2,
           "has_ebikes": true,
           "last_updated": 1676316146,
           "normal_bikes": 4,
           "renting": true,
           "returning": true,
           "slots": 16,
           "uid": "0254"
          },
          "free_bikes": 6,
          "id": "c64ee19c62a363019ddbaedf71df2882",
          "latitude": 49.263746,
          "longitude": -123.069892,
          "name": "Grandview & Commercial",
          "timestamp": "2023-02-13T19:22:31.626000Z"
         },
         {
          "empty_slots": 10,
          "extra": {
           "ebikes": 0,
           "has_ebikes": true,
           "last_updated": 1676316050,
           "normal_bikes": 3,
           "renting": true,
           "returning": true,
           "slots": 14,
           "uid": "0202"
          },
          "free_bikes": 3,
          "id": "421516af381a11f54d07fc79be68d3d3",
          "latitude": 49.258761,
          "longitude": -123.127071,
          "name": "14th & Oak",
          "timestamp": "2023-02-13T19:22:31.475000Z"
         },
         {
          "empty_slots": 9,
          "extra": {
           "ebikes": 1,
           "has_ebikes": true,
           "last_updated": 1676315953,
           "normal_bikes": 8,
           "renting": true,
           "returning": true,
           "slots": 18,
           "uid": "0401"
          },
          "free_bikes": 9,
          "id": "38f045e3f43f86eae42ca4c60257ade0",
          "latitude": 49.268974,
          "longitude": -123.190701,
          "name": "Wallace & 4th",
          "timestamp": "2023-02-13T19:22:31.662000Z"
         },
         {
          "empty_slots": 13,
          "extra": {
           "ebikes": 0,
           "has_ebikes": true,
           "last_updated": 1676316145,
           "normal_bikes": 7,
           "renting": true,
           "returning": true,
           "slots": 20,
           "uid": "0470"
          },
          "free_bikes": 7,
          "id": "5ba6e9725b1b0ee8cd25df976e47726b",
          "latitude": 49.273011,
          "longitude": -123.159663,
          "name": "Balsam & Cornwall",
          "timestamp": "2023-02-13T19:22:31.610000Z"
         },
         {
          "empty_slots": 8,
          "extra": {
           "ebikes": 1,
           "has_ebikes": true,
           "last_updated": 1676315595,
           "normal_bikes": 7,
           "renting": true,
           "returning": true,
           "slots": 16,
           "uid": "0443"
          },
          "free_bikes": 8,
          "id": "f90ed7ad754ec04b7852941a480a4c77",
          "latitude": 49.266924,
          "longitude": -123.173849,
          "name": "Balaclava & 6th",
          "timestamp": "2023-02-13T19:22:31.445000Z"
         },
         {
          "empty_slots": 8,
          "extra": {
           "ebikes": 0,
           "has_ebikes": true,
           "last_updated": 1676316011,
           "normal_bikes": 8,
           "renting": true,
           "returning": true,
           "slots": 16,
           "uid": "0464"
          },
          "free_bikes": 8,
          "id": "abfaf72456a4828a22f5bf60d3a80777",
          "latitude": 49.264326,
          "longitude": -123.164725,
          "name": "Trafalgar & Broadway",
          "timestamp": "2023-02-13T19:22:31.380000Z"
         },
         {
          "empty_slots": 10,
          "extra": {
           "ebikes": 2,
           "has_ebikes": true,
           "last_updated": 1676315901,
           "normal_bikes": 4,
           "renting": true,
           "returning": true,
           "slots": 16,
           "uid": "0414"
          },
          "free_bikes": 6,
          "id": "2ff7eb4230654603592ab1b0780ec5e1",
          "latitude": 49.266636,
          "longitude": -123.183661,
          "name": "Dunbar & 6th",
          "timestamp": "2023-02-13T19:22:31.707000Z"
         },
         {
          "empty_slots": 20,
          "extra": {
           "ebikes": 4,
           "has_ebikes": true,
           "last_updated": 1676315985,
           "normal_bikes": 0,
           "renting": true,
           "returning": true,
           "slots": 24,
           "uid": "0531"
          },
          "free_bikes": 4,
          "id": "ea9485fcdce0611243474d000e4ad248",
          "latitude": 49.254818,
          "longitude": -123.114785,
          "name": "18th & Cambie",
          "timestamp": "2023-02-13T19:22:31.433000Z"
         },
         {
          "empty_slots": 18,
          "extra": {
           "ebikes": 0,
           "has_ebikes": true,
           "last_updated": 1676315756,
           "normal_bikes": 6,
           "renting": true,
           "returning": true,
           "slots": 23,
           "uid": "0431"
          },
          "free_bikes": 6,
          "id": "671ce9e4a92063620f772d2c57f0f3ab",
          "latitude": 49.268837,
          "longitude": -123.177633,
          "name": "Blenheim & 4th",
          "timestamp": "2023-02-13T19:22:31.436000Z"
         },
         {
          "empty_slots": 9,
          "extra": {
           "ebikes": 0,
           "has_ebikes": true,
           "last_updated": 1676316146,
           "normal_bikes": 7,
           "renting": true,
           "returning": true,
           "slots": 16,
           "uid": "0511"
          },
          "free_bikes": 7,
          "id": "41a55a7e2908fbbd65175b794d26bc8d",
          "latitude": 49.255034,
          "longitude": -123.120226,
          "name": "18th & Heather",
          "timestamp": "2023-02-13T19:22:31.524000Z"
         },
         {
          "empty_slots": 8,
          "extra": {
           "ebikes": 4,
           "has_ebikes": true,
           "last_updated": 1676315958,
           "normal_bikes": 4,
           "renting": true,
           "returning": true,
           "slots": 16,
           "uid": "0450"
          },
          "free_bikes": 8,
          "id": "a59924f0ff3fb481a7bd8a5e9c36858f",
          "latitude": 49.271044,
          "longitude": -123.170661,
          "name": "Point Grey & Bayswater",
          "timestamp": "2023-02-13T19:22:31.557000Z"
         },
         {
          "empty_slots": 10,
          "extra": {
           "ebikes": 1,
           "has_ebikes": true,
           "last_updated": 1676315689,
           "normal_bikes": 5,
           "renting": true,
           "returning": true,
           "slots": 16,
           "uid": "0561"
          },
          "free_bikes": 6,
          "id": "89a0b49a66e54a7639ad960962148a3e",
          "latitude": 49.252691,
          "longitude": -123.101289,
          "name": "20th & Main",
          "timestamp": "2023-02-13T19:22:31.438000Z"
         },
         {
          "empty_slots": 10,
          "extra": {
           "ebikes": 0,
           "has_ebikes": true,
           "last_updated": 1676315619,
           "normal_bikes": 8,
           "renting": true,
           "returning": true,
           "slots": 18,
           "uid": "0354"
          },
          "free_bikes": 8,
          "id": "44fc3d58831a9f2b919c7a3a1838b74a",
          "latitude": 49.272172,
          "longitude": -123.097978,
          "name": "Station & Terminal",
          "timestamp": "2023-02-13T19:22:31.517000Z"
         },
         {
          "empty_slots": 14,
          "extra": {
           "ebikes": 1,
           "has_ebikes": true,
           "last_updated": 1676316134,
           "normal_bikes": 19,
           "renting": true,
           "returning": true,
           "slots": 34,
           "uid": "0400"
          },
          "free_bikes": 20,
          "id": "d40db8c27c5bd409d57cfa846f73c378",
          "latitude": 49.271082,
          "longitude": -123.191458,
          "name": "Jericho Beach",
          "timestamp": "2023-02-13T19:22:31.659000Z"
         },
         {
          "empty_slots": 19,
          "extra": {
           "ebikes": 0,
           "has_ebikes": true,
           "last_updated": 1676315982,
           "normal_bikes": 5,
           "renting": true,
           "returning": true,
           "slots": 24,
           "uid": "0089"
          },
          "free_bikes": 5,
          "id": "4990fe5772f3b73eebeec125b41e478e",
          "latitude": 49.27808,
          "longitude": -123.130557,
          "name": "Burrard & Drake",
          "timestamp": "2023-02-13T19:22:31.671000Z"
         },
         {
          "empty_slots": 9,
          "extra": {
           "ebikes": 0,
           "has_ebikes": true,
           "last_updated": 1676315885,
           "normal_bikes": 13,
           "renting": true,
           "returning": true,
           "slots": 24,
           "uid": "0173"
          },
          "free_bikes": 13,
          "id": "bf96df77771ef0ed710d8e0e67917f45",
          "latitude": 49.269969,
          "longitude": -123.109623,
          "name": "Columbia & 1st",
          "timestamp": "2023-02-13T19:22:31.565000Z"
         },
         {
          "empty_slots": 3,
          "extra": {
           "ebikes": 3,
           "has_ebikes": true,
           "last_updated": 1676316103,
           "normal_bikes": 24,
           "renting": true,
           "returning": true,
           "slots": 30,
           "uid": "0028"
          },
          "free_bikes": 27,
          "id": "e75e83499d3fa2e174dc2a8ffd238119",
          "latitude": 49.287528,
          "longitude": -123.142139,
          "name": "Davie & Beach",
          "timestamp": "2023-02-13T19:22:31.693000Z"
         },
         {
          "empty_slots": 20,
          "extra": {
           "ebikes": 0,
           "has_ebikes": true,
           "last_updated": 1676315865,
           "normal_bikes": 6,
           "renting": true,
           "returning": true,
           "slots": 26,
           "uid": "0031"
          },
          "free_bikes": 6,
          "id": "0438114d2e6b96118de69bc9775bb21e",
          "latitude": 49.28803,
          "longitude": -123.142135,
          "name": "Morton & Denman",
          "timestamp": "2023-02-13T19:22:31.388000Z"
         },
         {
          "empty_slots": 11,
          "extra": {
           "ebikes": 2,
           "has_ebikes": true,
           "last_updated": 1676315711,
           "normal_bikes": 1,
           "renting": true,
           "returning": true,
           "slots": 14,
           "uid": "0311"
          },
          "free_bikes": 3,
          "id": "07b13214cb69f2ec007d888450f3d6bc",
          "latitude": 49.259579,
          "longitude": -123.114769,
          "name": "13th & Cambie",
          "timestamp": "2023-02-13T19:22:31.710000Z"
         },
         {
          "empty_slots": 2,
          "extra": {
           "ebikes": 0,
           "has_ebikes": true,
           "last_updated": 1676315944,
           "normal_bikes": 15,
           "renting": true,
           "returning": true,
           "slots": 18,
           "uid": "0313"
          },
          "free_bikes": 15,
          "id": "f5e8fa1fc4252bda2f93dd27ed2d603f",
          "latitude": 49.2890705989865,
          "longitude": -123.138407369468,
          "name": "Nelson & Denman",
          "timestamp": "2023-02-13T19:22:31.717000Z"
         },
         {
          "empty_slots": 5,
          "extra": {
           "ebikes": 0,
           "has_ebikes": true,
           "last_updated": 1676316045,
           "normal_bikes": 9,
           "renting": true,
           "returning": true,
           "slots": 14,
           "uid": "0190"
          },
          "free_bikes": 9,
          "id": "c2a9c5d0e4578b928554c86f3d2c1162",
          "latitude": 49.287782,
          "longitude": -123.12395,
          "name": "Melville & Bute",
          "timestamp": "2023-02-13T19:22:31.537000Z"
         },
         {
          "empty_slots": 0,
          "extra": {
           "ebikes": 3,
           "has_ebikes": true,
           "last_updated": 1676315240,
           "normal_bikes": 16,
           "renting": true,
           "returning": true,
           "slots": 19,
           "uid": "0308"
          },
          "free_bikes": 19,
          "id": "5f45325fdd6334a4c0d3b62853b19fa6",
          "latitude": 49.28512,
          "longitude": -123.11242,
          "name": "Seymour & Cordova",
          "timestamp": "2023-02-13T19:22:31.521000Z"
         },
         {
          "empty_slots": 13,
          "extra": {
           "ebikes": 3,
           "has_ebikes": true,
           "last_updated": 1676316136,
           "normal_bikes": 2,
           "renting": true,
           "returning": true,
           "slots": 18,
           "uid": "0480"
          },
          "free_bikes": 5,
          "id": "085a0e120a08a80a58c0ae0ff9da565a",
          "latitude": 49.247854,
          "longitude": -123.153422,
          "name": "Arbutus & Nanton",
          "timestamp": "2023-02-13T19:22:31.601000Z"
         },
         {
          "empty_slots": 7,
          "extra": {
           "ebikes": 6,
           "has_ebikes": true,
           "last_updated": 1676315759,
           "normal_bikes": 3,
           "renting": true,
           "returning": true,
           "slots": 18,
           "uid": "0171"
          },
          "free_bikes": 9,
          "id": "8d5f47f01d7ad668419dfe9b7fe69c9a",
          "latitude": 49.265939,
          "longitude": -123.1129,
          "name": "Yukon & 6th",
          "timestamp": "2023-02-13T19:22:31.563000Z"
         },
         {
          "empty_slots": 7,
          "extra": {
           "ebikes": 2,
           "has_ebikes": true,
           "last_updated": 1676316109,
           "normal_bikes": 2,
           "renting": true,
           "returning": true,
           "slots": 16,
           "uid": "0179"
          },
          "free_bikes": 4,
          "id": "bede4b24dae115d4cd43d2e6cc9812cb",
          "latitude": 49.261122,
          "longitude": -123.097571,
          "name": "11th & Kingsway",
          "timestamp": "2023-02-13T19:22:31.557000Z"
         },
         {
          "empty_slots": 11,
          "extra": {
           "ebikes": 0,
           "has_ebikes": true,
           "last_updated": 1676315943,
           "normal_bikes": 6,
           "renting": true,
           "returning": true,
           "slots": 18,
           "uid": "0144"
          },
          "free_bikes": 6,
          "id": "680b1ddfd50c4397b365c9c00f09b0d1",
          "latitude": 49.267725,
          "longitude": -123.11311,
          "name": "Wylie & 2nd",
          "timestamp": "2023-02-13T19:22:31.401000Z"
         },
         {
          "empty_slots": 11,
          "extra": {
           "ebikes": 0,
           "has_ebikes": true,
           "last_updated": 1676316082,
           "normal_bikes": 9,
           "renting": true,
           "returning": true,
           "slots": 20,
           "uid": "0526"
          },
          "free_bikes": 9,
          "id": "b26f83e904f3a778466ebcd763b7316a",
          "latitude": 49.245135,
          "longitude": -123.116098,
          "name": "29th & Cambie",
          "timestamp": "2023-02-13T19:22:31.460000Z"
         },
         {
          "empty_slots": 9,
          "extra": {
           "ebikes": 0,
           "has_ebikes": true,
           "last_updated": 1676315752,
           "normal_bikes": 7,
           "renting": true,
           "returning": true,
           "slots": 16,
           "uid": "0314"
          },
          "free_bikes": 7,
          "id": "6620c54bd6b3a79800b2b67e999b24d0",
          "latitude": 49.274232,
          "longitude": -123.129998,
          "name": "Rolston & Granville",
          "timestamp": "2023-02-13T19:22:31.715000Z"
         },
         {
          "empty_slots": 11,
          "extra": {
           "ebikes": 2,
           "has_ebikes": true,
           "last_updated": 1676315891,
           "normal_bikes": 7,
           "renting": true,
           "returning": true,
           "slots": 20,
           "uid": "0482"
          },
          "free_bikes": 9,
          "id": "7f091b50fbbd892bf9fb869a64c47120",
          "latitude": 49.238105,
          "longitude": -123.154966,
          "name": "East Blvd & 37th",
          "timestamp": "2023-02-13T19:22:31.618000Z"
         },
         {
          "empty_slots": 10,
          "extra": {
           "ebikes": 6,
           "has_ebikes": true,
           "last_updated": 1676315782,
           "normal_bikes": 4,
           "renting": true,
           "returning": true,
           "slots": 20,
           "uid": "0505"
          },
          "free_bikes": 10,
          "id": "57d39a680c9407cda0fb4de6d9c55138",
          "latitude": 49.246243,
          "longitude": -123.124373,
          "name": "28th & Willow",
          "timestamp": "2023-02-13T19:22:31.406000Z"
         },
         {
          "empty_slots": 5,
          "extra": {
           "ebikes": 2,
           "has_ebikes": true,
           "last_updated": 1676315764,
           "normal_bikes": 5,
           "renting": true,
           "returning": true,
           "slots": 12,
           "uid": "0554"
          },
          "free_bikes": 7,
          "id": "97388f4e4ea102a30345524bda465f4e",
          "latitude": 49.249722,
          "longitude": -123.104991,
          "name": "Ontario & 23rd",
          "timestamp": "2023-02-13T19:22:31.719000Z"
         },
         {
          "empty_slots": 13,
          "extra": {
           "ebikes": 0,
           "has_ebikes": true,
           "last_updated": 1676315864,
           "normal_bikes": 9,
           "renting": true,
           "returning": true,
           "slots": 22,
           "uid": "0557"
          },
          "free_bikes": 9,
          "id": "066ecc3584913fa035ec1417323beb80",
          "latitude": 49.243375,
          "longitude": -123.104978,
          "name": "30th & Ontario",
          "timestamp": "2023-02-13T19:22:31.658000Z"
         },
         {
          "empty_slots": 13,
          "extra": {
           "ebikes": 5,
           "has_ebikes": true,
           "last_updated": 1676316055,
           "normal_bikes": 2,
           "renting": true,
           "returning": true,
           "slots": 20,
           "uid": "0642"
          },
          "free_bikes": 7,
          "id": "b530d04d393d71cffb8b8b07f4a82380",
          "latitude": 49.282087,
          "longitude": -123.056909,
          "name": "Franklin & Nanaimo",
          "timestamp": "2023-02-13T19:22:31.609000Z"
         },
         {
          "empty_slots": 8,
          "extra": {
           "ebikes": 0,
           "has_ebikes": true,
           "last_updated": 1676315909,
           "normal_bikes": 9,
           "renting": true,
           "returning": true,
           "slots": 16,
           "uid": "0631"
          },
          "free_bikes": 9,
          "id": "06bdc4d55f34b2a491305534fd5defda",
          "latitude": 49.283968,
          "longitude": -123.061615,
          "name": "Lakewood & Triumph",
          "timestamp": "2023-02-13T19:22:31.589000Z"
         },
         {
          "empty_slots": 8,
          "extra": {
           "ebikes": 1,
           "has_ebikes": true,
           "last_updated": 1676316068,
           "normal_bikes": 9,
           "renting": true,
           "returning": true,
           "slots": 18,
           "uid": "0611"
          },
          "free_bikes": 10,
          "id": "8e44a17d2fa446ca220b90c7063b42ca",
          "latitude": 49.287464,
          "longitude": -123.060771,
          "name": "Wall & Eton",
          "timestamp": "2023-02-13T19:22:31.437000Z"
         },
         {
          "empty_slots": 9,
          "extra": {
           "ebikes": 3,
           "has_ebikes": true,
           "last_updated": 1676316108,
           "normal_bikes": 6,
           "renting": true,
           "returning": true,
           "slots": 18,
           "uid": "0621"
          },
          "free_bikes": 9,
          "id": "7c17f51469f1a7145455f65ef6afbd87",
          "latitude": 49.285575,
          "longitude": -123.061575,
          "name": "Lakewood & Oxford",
          "timestamp": "2023-02-13T19:22:31.562000Z"
         },
         {
          "empty_slots": 8,
          "extra": {
           "ebikes": 3,
           "has_ebikes": true,
           "last_updated": 1676316079,
           "normal_bikes": 3,
           "renting": true,
           "returning": true,
           "slots": 14,
           "uid": "0532"
          },
          "free_bikes": 6,
          "id": "e1432b72df561a1df34290679ec9c773",
          "latitude": 49.251358,
          "longitude": -123.115637,
          "name": "22nd & Cambie",
          "timestamp": "2023-02-13T19:22:31.434000Z"
         },
         {
          "empty_slots": 9,
          "extra": {
           "ebikes": 5,
           "has_ebikes": true,
           "last_updated": 1676315738,
           "normal_bikes": 3,
           "renting": true,
           "returning": true,
           "slots": 18,
           "uid": "0524"
          },
          "free_bikes": 8,
          "id": "549f00f6039e8bb702a00dcca08a8ed0",
          "latitude": 49.249184,
          "longitude": -123.116141,
          "name": "King Edward & Cambie",
          "timestamp": "2023-02-13T19:22:31.461000Z"
         },
         {
          "empty_slots": 11,
          "extra": {
           "ebikes": 2,
           "has_ebikes": true,
           "last_updated": 1676315757,
           "normal_bikes": 9,
           "renting": true,
           "returning": true,
           "slots": 22,
           "uid": "0516"
          },
          "free_bikes": 11,
          "id": "d8c4fe5e09b6f010fbaa85cc7302d66b",
          "latitude": 49.245535,
          "longitude": -123.120496,
          "name": "Heather & 29th",
          "timestamp": "2023-02-13T19:22:31.519000Z"
         },
         {
          "empty_slots": 10,
          "extra": {
           "ebikes": 0,
           "has_ebikes": true,
           "last_updated": 1676316054,
           "normal_bikes": 16,
           "renting": true,
           "returning": true,
           "slots": 26,
           "uid": "0041"
          },
          "free_bikes": 16,
          "id": "0c42f45e4a14957ad4a6d521d0ba8bc3",
          "latitude": 49.289255,
          "longitude": -123.132677,
          "name": "Cardero & Robson",
          "timestamp": "2023-02-13T19:22:31.428000Z"
         },
         {
          "empty_slots": 17,
          "extra": {
           "ebikes": 0,
           "has_ebikes": true,
           "last_updated": 1676315899,
           "normal_bikes": 0,
           "renting": true,
           "returning": true,
           "slots": 20,
           "uid": "0352"
          },
          "free_bikes": 0,
          "id": "62a202eb98c0a4b09ba6746f5ee94ab3",
          "latitude": 49.252656,
          "longitude": -123.067965,
          "name": "Commercial & 20th",
          "timestamp": "2023-02-13T19:22:31.516000Z"
         },
         {
          "empty_slots": 21,
          "extra": {
           "ebikes": 0,
           "has_ebikes": true,
           "last_updated": 1676316133,
           "normal_bikes": 2,
           "renting": true,
           "returning": true,
           "slots": 24,
           "uid": "0196"
          },
          "free_bikes": 2,
          "id": "a6c6df138cbc97b9f81e7ffbbebdde6f",
          "latitude": 49.277527,
          "longitude": -123.129464,
          "name": "Hornby & Drake",
          "timestamp": "2023-02-13T19:22:31.540000Z"
         },
         {
          "empty_slots": 11,
          "extra": {
           "ebikes": 2,
           "has_ebikes": true,
           "last_updated": 1676316035,
           "normal_bikes": 5,
           "renting": true,
           "returning": true,
           "slots": 18,
           "uid": "0210"
          },
          "free_bikes": 7,
          "id": "04f64fde5ba1ebde8ad78c74914adb34",
          "latitude": 49.259469,
          "longitude": -123.145718,
          "name": "Burrard & 14th",
          "timestamp": "2023-02-13T19:22:31.527000Z"
         }
        ]
       }
      },
      "text/plain": [
       "<IPython.core.display.JSON object>"
      ]
     },
     "execution_count": 6,
     "metadata": {
      "application/json": {
       "expanded": false,
       "root": "root"
      }
     },
     "output_type": "execute_result"
    }
   ],
   "source": [
    "network_id = 'mobibikes'\n",
    "network_json = requests.get(\"http://api.citybik.es/v2/networks/\"+network_id).json()\n",
    "JSON(network_json)"
   ]
  },
  {
   "cell_type": "markdown",
   "metadata": {},
   "source": [
    "Parse through the response to get the details you want for the bike stations in that city (latitude, longitude, number of bikes). "
   ]
  },
  {
   "cell_type": "code",
   "execution_count": 7,
   "metadata": {},
   "outputs": [
    {
     "data": {
      "text/html": [
       "<div>\n",
       "<style scoped>\n",
       "    .dataframe tbody tr th:only-of-type {\n",
       "        vertical-align: middle;\n",
       "    }\n",
       "\n",
       "    .dataframe tbody tr th {\n",
       "        vertical-align: top;\n",
       "    }\n",
       "\n",
       "    .dataframe thead th {\n",
       "        text-align: right;\n",
       "    }\n",
       "</style>\n",
       "<table border=\"1\" class=\"dataframe\">\n",
       "  <thead>\n",
       "    <tr style=\"text-align: right;\">\n",
       "      <th></th>\n",
       "      <th>empty_slots</th>\n",
       "      <th>free_bikes</th>\n",
       "      <th>id</th>\n",
       "      <th>latitude</th>\n",
       "      <th>longitude</th>\n",
       "      <th>name</th>\n",
       "      <th>timestamp</th>\n",
       "      <th>extra.ebikes</th>\n",
       "      <th>extra.has_ebikes</th>\n",
       "      <th>extra.last_updated</th>\n",
       "      <th>extra.normal_bikes</th>\n",
       "      <th>extra.renting</th>\n",
       "      <th>extra.returning</th>\n",
       "      <th>extra.slots</th>\n",
       "      <th>extra.uid</th>\n",
       "    </tr>\n",
       "  </thead>\n",
       "  <tbody>\n",
       "    <tr>\n",
       "      <th>0</th>\n",
       "      <td>14</td>\n",
       "      <td>21</td>\n",
       "      <td>7a19c49f486d7c0c02b3685d7b240448</td>\n",
       "      <td>49.262487</td>\n",
       "      <td>-123.114397</td>\n",
       "      <td>10th &amp; Cambie</td>\n",
       "      <td>2023-02-13T19:22:31.595000Z</td>\n",
       "      <td>4</td>\n",
       "      <td>True</td>\n",
       "      <td>1676316003</td>\n",
       "      <td>17</td>\n",
       "      <td>True</td>\n",
       "      <td>True</td>\n",
       "      <td>35</td>\n",
       "      <td>0001</td>\n",
       "    </tr>\n",
       "    <tr>\n",
       "      <th>1</th>\n",
       "      <td>7</td>\n",
       "      <td>9</td>\n",
       "      <td>32603a87cfca71d0f7dfa3513bad69d5</td>\n",
       "      <td>49.274566</td>\n",
       "      <td>-123.121817</td>\n",
       "      <td>Yaletown-Roundhouse Station</td>\n",
       "      <td>2023-02-13T19:22:31.591000Z</td>\n",
       "      <td>1</td>\n",
       "      <td>True</td>\n",
       "      <td>1676315894</td>\n",
       "      <td>8</td>\n",
       "      <td>True</td>\n",
       "      <td>True</td>\n",
       "      <td>16</td>\n",
       "      <td>0004</td>\n",
       "    </tr>\n",
       "    <tr>\n",
       "      <th>2</th>\n",
       "      <td>13</td>\n",
       "      <td>13</td>\n",
       "      <td>6d42fa40360f9a6b2bf641c7b8bb2862</td>\n",
       "      <td>49.279764</td>\n",
       "      <td>-123.110154</td>\n",
       "      <td>Dunsmuir &amp; Beatty</td>\n",
       "      <td>2023-02-13T19:22:31.592000Z</td>\n",
       "      <td>0</td>\n",
       "      <td>True</td>\n",
       "      <td>1676315968</td>\n",
       "      <td>13</td>\n",
       "      <td>True</td>\n",
       "      <td>True</td>\n",
       "      <td>26</td>\n",
       "      <td>0005</td>\n",
       "    </tr>\n",
       "    <tr>\n",
       "      <th>3</th>\n",
       "      <td>14</td>\n",
       "      <td>2</td>\n",
       "      <td>66f873d641d448bd1572ab086665a458</td>\n",
       "      <td>49.260599</td>\n",
       "      <td>-123.113504</td>\n",
       "      <td>12th &amp; Yukon (City Hall)</td>\n",
       "      <td>2023-02-13T19:22:31.593000Z</td>\n",
       "      <td>0</td>\n",
       "      <td>True</td>\n",
       "      <td>1676316133</td>\n",
       "      <td>2</td>\n",
       "      <td>True</td>\n",
       "      <td>True</td>\n",
       "      <td>16</td>\n",
       "      <td>0007</td>\n",
       "    </tr>\n",
       "    <tr>\n",
       "      <th>4</th>\n",
       "      <td>7</td>\n",
       "      <td>9</td>\n",
       "      <td>485d4d24c803cfde829ab89699fed833</td>\n",
       "      <td>49.264215</td>\n",
       "      <td>-123.117772</td>\n",
       "      <td>8th &amp; Ash</td>\n",
       "      <td>2023-02-13T19:22:31.604000Z</td>\n",
       "      <td>2</td>\n",
       "      <td>True</td>\n",
       "      <td>1676315653</td>\n",
       "      <td>7</td>\n",
       "      <td>True</td>\n",
       "      <td>True</td>\n",
       "      <td>16</td>\n",
       "      <td>0008</td>\n",
       "    </tr>\n",
       "  </tbody>\n",
       "</table>\n",
       "</div>"
      ],
      "text/plain": [
       "   empty_slots  free_bikes                                id   latitude  \\\n",
       "0           14          21  7a19c49f486d7c0c02b3685d7b240448  49.262487   \n",
       "1            7           9  32603a87cfca71d0f7dfa3513bad69d5  49.274566   \n",
       "2           13          13  6d42fa40360f9a6b2bf641c7b8bb2862  49.279764   \n",
       "3           14           2  66f873d641d448bd1572ab086665a458  49.260599   \n",
       "4            7           9  485d4d24c803cfde829ab89699fed833  49.264215   \n",
       "\n",
       "    longitude                         name                    timestamp  \\\n",
       "0 -123.114397                10th & Cambie  2023-02-13T19:22:31.595000Z   \n",
       "1 -123.121817  Yaletown-Roundhouse Station  2023-02-13T19:22:31.591000Z   \n",
       "2 -123.110154            Dunsmuir & Beatty  2023-02-13T19:22:31.592000Z   \n",
       "3 -123.113504     12th & Yukon (City Hall)  2023-02-13T19:22:31.593000Z   \n",
       "4 -123.117772                    8th & Ash  2023-02-13T19:22:31.604000Z   \n",
       "\n",
       "   extra.ebikes  extra.has_ebikes  extra.last_updated  extra.normal_bikes  \\\n",
       "0             4              True          1676316003                  17   \n",
       "1             1              True          1676315894                   8   \n",
       "2             0              True          1676315968                  13   \n",
       "3             0              True          1676316133                   2   \n",
       "4             2              True          1676315653                   7   \n",
       "\n",
       "   extra.renting  extra.returning  extra.slots extra.uid  \n",
       "0           True             True           35      0001  \n",
       "1           True             True           16      0004  \n",
       "2           True             True           26      0005  \n",
       "3           True             True           16      0007  \n",
       "4           True             True           16      0008  "
      ]
     },
     "execution_count": 7,
     "metadata": {},
     "output_type": "execute_result"
    }
   ],
   "source": [
    "stations = pd.json_normalize(network_json['network']['stations'], max_level=1, errors='ignore')\n",
    "stations.head(5)"
   ]
  },
  {
   "cell_type": "code",
   "execution_count": 8,
   "metadata": {},
   "outputs": [
    {
     "data": {
      "text/html": [
       "<div>\n",
       "<style scoped>\n",
       "    .dataframe tbody tr th:only-of-type {\n",
       "        vertical-align: middle;\n",
       "    }\n",
       "\n",
       "    .dataframe tbody tr th {\n",
       "        vertical-align: top;\n",
       "    }\n",
       "\n",
       "    .dataframe thead th {\n",
       "        text-align: right;\n",
       "    }\n",
       "</style>\n",
       "<table border=\"1\" class=\"dataframe\">\n",
       "  <thead>\n",
       "    <tr style=\"text-align: right;\">\n",
       "      <th></th>\n",
       "      <th>empty_slots</th>\n",
       "      <th>free_bikes</th>\n",
       "      <th>id</th>\n",
       "      <th>latitude</th>\n",
       "      <th>longitude</th>\n",
       "      <th>name</th>\n",
       "      <th>timestamp</th>\n",
       "      <th>extra.ebikes</th>\n",
       "      <th>extra.has_ebikes</th>\n",
       "      <th>extra.last_updated</th>\n",
       "      <th>extra.normal_bikes</th>\n",
       "      <th>extra.renting</th>\n",
       "      <th>extra.returning</th>\n",
       "      <th>extra.slots</th>\n",
       "      <th>extra.uid</th>\n",
       "      <th>total_slots</th>\n",
       "    </tr>\n",
       "  </thead>\n",
       "  <tbody>\n",
       "    <tr>\n",
       "      <th>0</th>\n",
       "      <td>14</td>\n",
       "      <td>21</td>\n",
       "      <td>7a19c49f486d7c0c02b3685d7b240448</td>\n",
       "      <td>49.262487</td>\n",
       "      <td>-123.114397</td>\n",
       "      <td>10th &amp; Cambie</td>\n",
       "      <td>2023-02-13T19:22:31.595000Z</td>\n",
       "      <td>4</td>\n",
       "      <td>True</td>\n",
       "      <td>1676316003</td>\n",
       "      <td>17</td>\n",
       "      <td>True</td>\n",
       "      <td>True</td>\n",
       "      <td>35</td>\n",
       "      <td>0001</td>\n",
       "      <td>35</td>\n",
       "    </tr>\n",
       "    <tr>\n",
       "      <th>1</th>\n",
       "      <td>7</td>\n",
       "      <td>9</td>\n",
       "      <td>32603a87cfca71d0f7dfa3513bad69d5</td>\n",
       "      <td>49.274566</td>\n",
       "      <td>-123.121817</td>\n",
       "      <td>Yaletown-Roundhouse Station</td>\n",
       "      <td>2023-02-13T19:22:31.591000Z</td>\n",
       "      <td>1</td>\n",
       "      <td>True</td>\n",
       "      <td>1676315894</td>\n",
       "      <td>8</td>\n",
       "      <td>True</td>\n",
       "      <td>True</td>\n",
       "      <td>16</td>\n",
       "      <td>0004</td>\n",
       "      <td>16</td>\n",
       "    </tr>\n",
       "    <tr>\n",
       "      <th>2</th>\n",
       "      <td>13</td>\n",
       "      <td>13</td>\n",
       "      <td>6d42fa40360f9a6b2bf641c7b8bb2862</td>\n",
       "      <td>49.279764</td>\n",
       "      <td>-123.110154</td>\n",
       "      <td>Dunsmuir &amp; Beatty</td>\n",
       "      <td>2023-02-13T19:22:31.592000Z</td>\n",
       "      <td>0</td>\n",
       "      <td>True</td>\n",
       "      <td>1676315968</td>\n",
       "      <td>13</td>\n",
       "      <td>True</td>\n",
       "      <td>True</td>\n",
       "      <td>26</td>\n",
       "      <td>0005</td>\n",
       "      <td>26</td>\n",
       "    </tr>\n",
       "    <tr>\n",
       "      <th>3</th>\n",
       "      <td>14</td>\n",
       "      <td>2</td>\n",
       "      <td>66f873d641d448bd1572ab086665a458</td>\n",
       "      <td>49.260599</td>\n",
       "      <td>-123.113504</td>\n",
       "      <td>12th &amp; Yukon (City Hall)</td>\n",
       "      <td>2023-02-13T19:22:31.593000Z</td>\n",
       "      <td>0</td>\n",
       "      <td>True</td>\n",
       "      <td>1676316133</td>\n",
       "      <td>2</td>\n",
       "      <td>True</td>\n",
       "      <td>True</td>\n",
       "      <td>16</td>\n",
       "      <td>0007</td>\n",
       "      <td>16</td>\n",
       "    </tr>\n",
       "    <tr>\n",
       "      <th>4</th>\n",
       "      <td>7</td>\n",
       "      <td>9</td>\n",
       "      <td>485d4d24c803cfde829ab89699fed833</td>\n",
       "      <td>49.264215</td>\n",
       "      <td>-123.117772</td>\n",
       "      <td>8th &amp; Ash</td>\n",
       "      <td>2023-02-13T19:22:31.604000Z</td>\n",
       "      <td>2</td>\n",
       "      <td>True</td>\n",
       "      <td>1676315653</td>\n",
       "      <td>7</td>\n",
       "      <td>True</td>\n",
       "      <td>True</td>\n",
       "      <td>16</td>\n",
       "      <td>0008</td>\n",
       "      <td>16</td>\n",
       "    </tr>\n",
       "  </tbody>\n",
       "</table>\n",
       "</div>"
      ],
      "text/plain": [
       "   empty_slots  free_bikes                                id   latitude  \\\n",
       "0           14          21  7a19c49f486d7c0c02b3685d7b240448  49.262487   \n",
       "1            7           9  32603a87cfca71d0f7dfa3513bad69d5  49.274566   \n",
       "2           13          13  6d42fa40360f9a6b2bf641c7b8bb2862  49.279764   \n",
       "3           14           2  66f873d641d448bd1572ab086665a458  49.260599   \n",
       "4            7           9  485d4d24c803cfde829ab89699fed833  49.264215   \n",
       "\n",
       "    longitude                         name                    timestamp  \\\n",
       "0 -123.114397                10th & Cambie  2023-02-13T19:22:31.595000Z   \n",
       "1 -123.121817  Yaletown-Roundhouse Station  2023-02-13T19:22:31.591000Z   \n",
       "2 -123.110154            Dunsmuir & Beatty  2023-02-13T19:22:31.592000Z   \n",
       "3 -123.113504     12th & Yukon (City Hall)  2023-02-13T19:22:31.593000Z   \n",
       "4 -123.117772                    8th & Ash  2023-02-13T19:22:31.604000Z   \n",
       "\n",
       "   extra.ebikes  extra.has_ebikes  extra.last_updated  extra.normal_bikes  \\\n",
       "0             4              True          1676316003                  17   \n",
       "1             1              True          1676315894                   8   \n",
       "2             0              True          1676315968                  13   \n",
       "3             0              True          1676316133                   2   \n",
       "4             2              True          1676315653                   7   \n",
       "\n",
       "   extra.renting  extra.returning  extra.slots extra.uid  total_slots  \n",
       "0           True             True           35      0001           35  \n",
       "1           True             True           16      0004           16  \n",
       "2           True             True           26      0005           26  \n",
       "3           True             True           16      0007           16  \n",
       "4           True             True           16      0008           16  "
      ]
     },
     "execution_count": 8,
     "metadata": {},
     "output_type": "execute_result"
    }
   ],
   "source": [
    "# df['team_count'] = df.groupby('team')['team'].transform('count')\n",
    "stations['total_slots'] = stations['empty_slots']+stations['free_bikes']\n",
    "stations.head(5)"
   ]
  },
  {
   "cell_type": "markdown",
   "metadata": {},
   "source": [
    "Put your parsed results into a DataFrame."
   ]
  },
  {
   "cell_type": "code",
   "execution_count": 9,
   "metadata": {},
   "outputs": [
    {
     "data": {
      "text/plain": [
       "pandas.core.frame.DataFrame"
      ]
     },
     "execution_count": 9,
     "metadata": {},
     "output_type": "execute_result"
    }
   ],
   "source": [
    "type(stations)"
   ]
  },
  {
   "cell_type": "code",
   "execution_count": 10,
   "metadata": {},
   "outputs": [],
   "source": [
    "stations.to_csv('stations.csv')"
   ]
  }
 ],
 "metadata": {
  "kernelspec": {
   "display_name": "Python 3 (ipykernel)",
   "language": "python",
   "name": "python3"
  },
  "language_info": {
   "codemirror_mode": {
    "name": "ipython",
    "version": 3
   },
   "file_extension": ".py",
   "mimetype": "text/x-python",
   "name": "python",
   "nbconvert_exporter": "python",
   "pygments_lexer": "ipython3",
   "version": "3.9.13"
  }
 },
 "nbformat": 4,
 "nbformat_minor": 4
}
