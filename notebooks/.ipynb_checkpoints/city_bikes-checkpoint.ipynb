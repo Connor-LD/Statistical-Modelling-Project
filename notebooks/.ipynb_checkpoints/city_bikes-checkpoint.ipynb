{
 "cells": [
  {
   "cell_type": "markdown",
   "metadata": {},
   "source": [
    "# CityBikes"
   ]
  },
  {
   "cell_type": "markdown",
   "metadata": {},
   "source": [
    "Send a request to CityBikes for the city of your choice. "
   ]
  },
  {
   "cell_type": "code",
   "execution_count": 109,
   "metadata": {},
   "outputs": [],
   "source": [
    "import requests\n",
    "import pandas as pd\n",
    "from IPython.display import JSON #for nice JSON (or dict) display in JupyterLab (not currently supported in Jupyter Notebook)"
   ]
  },
  {
   "cell_type": "code",
   "execution_count": 110,
   "metadata": {},
   "outputs": [],
   "source": [
    "# get network data\n",
    "city_bike_networks = requests.get(\"http://api.citybik.es/v2/networks\").json()\n",
    "\n",
    "# view json in nice format\n",
    "# JSON(city_bike_networks)"
   ]
  },
  {
   "cell_type": "code",
   "execution_count": 125,
   "metadata": {},
   "outputs": [],
   "source": [
    "# Select city\n",
    "city='Saguenay'"
   ]
  },
  {
   "cell_type": "code",
   "execution_count": 126,
   "metadata": {},
   "outputs": [
    {
     "data": {
      "text/html": [
       "<div>\n",
       "<style scoped>\n",
       "    .dataframe tbody tr th:only-of-type {\n",
       "        vertical-align: middle;\n",
       "    }\n",
       "\n",
       "    .dataframe tbody tr th {\n",
       "        vertical-align: top;\n",
       "    }\n",
       "\n",
       "    .dataframe thead th {\n",
       "        text-align: right;\n",
       "    }\n",
       "</style>\n",
       "<table border=\"1\" class=\"dataframe\">\n",
       "  <thead>\n",
       "    <tr style=\"text-align: right;\">\n",
       "      <th></th>\n",
       "      <th>company</th>\n",
       "      <th>href</th>\n",
       "      <th>id</th>\n",
       "      <th>name</th>\n",
       "      <th>location.city</th>\n",
       "      <th>location.country</th>\n",
       "      <th>location.latitude</th>\n",
       "      <th>location.longitude</th>\n",
       "      <th>source</th>\n",
       "      <th>gbfs_href</th>\n",
       "      <th>license.name</th>\n",
       "      <th>license.url</th>\n",
       "      <th>ebikes</th>\n",
       "    </tr>\n",
       "  </thead>\n",
       "  <tbody>\n",
       "    <tr>\n",
       "      <th>0</th>\n",
       "      <td>[ЗАО «СитиБайк»]</td>\n",
       "      <td>/v2/networks/velobike-moscow</td>\n",
       "      <td>velobike-moscow</td>\n",
       "      <td>Velobike</td>\n",
       "      <td>Moscow</td>\n",
       "      <td>RU</td>\n",
       "      <td>55.75000</td>\n",
       "      <td>37.616667</td>\n",
       "      <td>NaN</td>\n",
       "      <td>NaN</td>\n",
       "      <td>NaN</td>\n",
       "      <td>NaN</td>\n",
       "      <td>NaN</td>\n",
       "    </tr>\n",
       "    <tr>\n",
       "      <th>1</th>\n",
       "      <td>[Urban Infrastructure Partner]</td>\n",
       "      <td>/v2/networks/baerum-bysykkel</td>\n",
       "      <td>baerum-bysykkel</td>\n",
       "      <td>Bysykkel</td>\n",
       "      <td>Bærum</td>\n",
       "      <td>NO</td>\n",
       "      <td>59.89455</td>\n",
       "      <td>10.546343</td>\n",
       "      <td>NaN</td>\n",
       "      <td>NaN</td>\n",
       "      <td>NaN</td>\n",
       "      <td>NaN</td>\n",
       "      <td>NaN</td>\n",
       "    </tr>\n",
       "  </tbody>\n",
       "</table>\n",
       "</div>"
      ],
      "text/plain": [
       "                          company                          href  \\\n",
       "0                [ЗАО «СитиБайк»]  /v2/networks/velobike-moscow   \n",
       "1  [Urban Infrastructure Partner]  /v2/networks/baerum-bysykkel   \n",
       "\n",
       "                id      name location.city location.country  \\\n",
       "0  velobike-moscow  Velobike        Moscow               RU   \n",
       "1  baerum-bysykkel  Bysykkel         Bærum               NO   \n",
       "\n",
       "   location.latitude  location.longitude source gbfs_href license.name  \\\n",
       "0           55.75000           37.616667    NaN       NaN          NaN   \n",
       "1           59.89455           10.546343    NaN       NaN          NaN   \n",
       "\n",
       "  license.url ebikes  \n",
       "0         NaN    NaN  \n",
       "1         NaN    NaN  "
      ]
     },
     "execution_count": 126,
     "metadata": {},
     "output_type": "execute_result"
    }
   ],
   "source": [
    "city_lookup = pd.json_normalize(city_bike_networks['networks'], max_level=1, errors='ignore')\n",
    "city_lookup.head(2)"
   ]
  },
  {
   "cell_type": "code",
   "execution_count": 127,
   "metadata": {},
   "outputs": [
    {
     "data": {
      "text/plain": [
       "610    acces-velo-saguenay\n",
       "Name: id, dtype: object"
      ]
     },
     "execution_count": 127,
     "metadata": {},
     "output_type": "execute_result"
    }
   ],
   "source": [
    "df[city_lookup['location.city']==city]['id']"
   ]
  },
  {
   "cell_type": "code",
   "execution_count": 128,
   "metadata": {},
   "outputs": [
    {
     "data": {
      "application/json": {
       "network": {
        "company": null,
        "gbfs_href": "https://saguenay.publicbikesystem.net/customer/gbfs/v2/gbfs.json",
        "href": "/v2/networks/acces-velo-saguenay",
        "id": "acces-velo-saguenay",
        "location": {
         "city": "Saguenay",
         "country": "CA",
         "latitude": 48.433333,
         "longitude": -71.083333
        },
        "name": "Accès Vélo",
        "stations": [
         {
          "empty_slots": 7,
          "extra": {
           "address": "Place du Citoyen",
           "altitude": 0,
           "ebikes": 0,
           "has_ebikes": true,
           "last_updated": 1668024104,
           "payment": [
            "key",
            "transitcard",
            "creditcard",
            "phone"
           ],
           "payment-terminal": true,
           "post_code": "0000",
           "renting": true,
           "returning": true,
           "slots": 7,
           "uid": "1"
          },
          "free_bikes": 0,
          "id": "b6903d788830595e054121e462598381",
          "latitude": 48.4280227,
          "longitude": -71.0625061,
          "name": "Place du Citoyen",
          "timestamp": "2023-02-27T01:23:17.149000Z"
         },
         {
          "empty_slots": 6,
          "extra": {
           "address": "Place du Royaume",
           "altitude": 0,
           "ebikes": 0,
           "has_ebikes": true,
           "last_updated": 1673464955,
           "payment": [
            "key",
            "transitcard",
            "creditcard",
            "phone"
           ],
           "payment-terminal": true,
           "post_code": "0000",
           "renting": true,
           "returning": true,
           "slots": 6,
           "uid": "3"
          },
          "free_bikes": 0,
          "id": "3aa299f4d3048ef94737bbf5fbc03825",
          "latitude": 48.4044567,
          "longitude": -71.0582083,
          "name": "Place du Royaume",
          "timestamp": "2023-02-27T01:23:17.154000Z"
         },
         {
          "empty_slots": 7,
          "extra": {
           "address": "UQAC",
           "altitude": 0,
           "ebikes": 0,
           "has_ebikes": true,
           "last_updated": 1667921898,
           "payment": [
            "key",
            "transitcard",
            "creditcard",
            "phone"
           ],
           "payment-terminal": true,
           "post_code": "0000",
           "renting": true,
           "returning": true,
           "slots": 7,
           "uid": "2"
          },
          "free_bikes": 0,
          "id": "0b1c0c48e94fae24b1a38f4559a5985a",
          "latitude": 48.42048,
          "longitude": -71.05338,
          "name": "UQAC",
          "timestamp": "2023-02-27T01:23:17.154000Z"
         },
         {
          "empty_slots": 7,
          "extra": {
           "altitude": null,
           "ebikes": 0,
           "has_ebikes": true,
           "last_updated": 1667845332,
           "payment": [
            "key",
            "transitcard",
            "creditcard",
            "phone"
           ],
           "payment-terminal": true,
           "post_code": "G7J 4H5",
           "renting": true,
           "returning": true,
           "slots": 7,
           "uid": "5"
          },
          "free_bikes": 0,
          "id": "f450af93c8d0f5ae5de8ea7cb1aafe70",
          "latitude": 48.3372301,
          "longitude": -70.8795642,
          "name": "Terminus La Baie",
          "timestamp": "2023-02-27T01:23:17.155000Z"
         },
         {
          "empty_slots": 7,
          "extra": {
           "address": "Cégep de Chicoutimi",
           "altitude": 0,
           "ebikes": 0,
           "has_ebikes": true,
           "last_updated": 1668103022,
           "payment": [
            "key",
            "transitcard",
            "creditcard",
            "phone"
           ],
           "payment-terminal": true,
           "post_code": "G7H 1Z5",
           "renting": true,
           "returning": true,
           "slots": 7,
           "uid": "4"
          },
          "free_bikes": 0,
          "id": "7ada5d893c40c9a46a54f771a392db6f",
          "latitude": 48.42511890000001,
          "longitude": -71.0513359,
          "name": "Cégep de Chicoutimi",
          "timestamp": "2023-02-27T01:23:17.156000Z"
         }
        ]
       }
      },
      "text/plain": [
       "<IPython.core.display.JSON object>"
      ]
     },
     "execution_count": 128,
     "metadata": {
      "application/json": {
       "expanded": false,
       "root": "root"
      }
     },
     "output_type": "execute_result"
    }
   ],
   "source": [
    "network_id = 'acces-velo-saguenay'\n",
    "network_json = requests.get(\"http://api.citybik.es/v2/networks/\"+network_id).json()\n",
    "JSON(network_json)"
   ]
  },
  {
   "cell_type": "markdown",
   "metadata": {},
   "source": [
    "Parse through the response to get the details you want for the bike stations in that city (latitude, longitude, number of bikes). "
   ]
  },
  {
   "cell_type": "code",
   "execution_count": 129,
   "metadata": {},
   "outputs": [
    {
     "data": {
      "text/html": [
       "<div>\n",
       "<style scoped>\n",
       "    .dataframe tbody tr th:only-of-type {\n",
       "        vertical-align: middle;\n",
       "    }\n",
       "\n",
       "    .dataframe tbody tr th {\n",
       "        vertical-align: top;\n",
       "    }\n",
       "\n",
       "    .dataframe thead th {\n",
       "        text-align: right;\n",
       "    }\n",
       "</style>\n",
       "<table border=\"1\" class=\"dataframe\">\n",
       "  <thead>\n",
       "    <tr style=\"text-align: right;\">\n",
       "      <th></th>\n",
       "      <th>empty_slots</th>\n",
       "      <th>free_bikes</th>\n",
       "      <th>id</th>\n",
       "      <th>latitude</th>\n",
       "      <th>longitude</th>\n",
       "      <th>name</th>\n",
       "      <th>timestamp</th>\n",
       "      <th>extra.address</th>\n",
       "      <th>extra.altitude</th>\n",
       "      <th>extra.ebikes</th>\n",
       "      <th>extra.has_ebikes</th>\n",
       "      <th>extra.last_updated</th>\n",
       "      <th>extra.payment</th>\n",
       "      <th>extra.payment-terminal</th>\n",
       "      <th>extra.post_code</th>\n",
       "      <th>extra.renting</th>\n",
       "      <th>extra.returning</th>\n",
       "      <th>extra.slots</th>\n",
       "      <th>extra.uid</th>\n",
       "    </tr>\n",
       "  </thead>\n",
       "  <tbody>\n",
       "    <tr>\n",
       "      <th>0</th>\n",
       "      <td>7</td>\n",
       "      <td>0</td>\n",
       "      <td>b6903d788830595e054121e462598381</td>\n",
       "      <td>48.428023</td>\n",
       "      <td>-71.062506</td>\n",
       "      <td>Place du Citoyen</td>\n",
       "      <td>2023-02-27T01:23:17.149000Z</td>\n",
       "      <td>Place du Citoyen</td>\n",
       "      <td>0.0</td>\n",
       "      <td>0</td>\n",
       "      <td>True</td>\n",
       "      <td>1668024104</td>\n",
       "      <td>[key, transitcard, creditcard, phone]</td>\n",
       "      <td>True</td>\n",
       "      <td>0000</td>\n",
       "      <td>True</td>\n",
       "      <td>True</td>\n",
       "      <td>7</td>\n",
       "      <td>1</td>\n",
       "    </tr>\n",
       "    <tr>\n",
       "      <th>1</th>\n",
       "      <td>6</td>\n",
       "      <td>0</td>\n",
       "      <td>3aa299f4d3048ef94737bbf5fbc03825</td>\n",
       "      <td>48.404457</td>\n",
       "      <td>-71.058208</td>\n",
       "      <td>Place du Royaume</td>\n",
       "      <td>2023-02-27T01:23:17.154000Z</td>\n",
       "      <td>Place du Royaume</td>\n",
       "      <td>0.0</td>\n",
       "      <td>0</td>\n",
       "      <td>True</td>\n",
       "      <td>1673464955</td>\n",
       "      <td>[key, transitcard, creditcard, phone]</td>\n",
       "      <td>True</td>\n",
       "      <td>0000</td>\n",
       "      <td>True</td>\n",
       "      <td>True</td>\n",
       "      <td>6</td>\n",
       "      <td>3</td>\n",
       "    </tr>\n",
       "    <tr>\n",
       "      <th>2</th>\n",
       "      <td>7</td>\n",
       "      <td>0</td>\n",
       "      <td>0b1c0c48e94fae24b1a38f4559a5985a</td>\n",
       "      <td>48.420480</td>\n",
       "      <td>-71.053380</td>\n",
       "      <td>UQAC</td>\n",
       "      <td>2023-02-27T01:23:17.154000Z</td>\n",
       "      <td>UQAC</td>\n",
       "      <td>0.0</td>\n",
       "      <td>0</td>\n",
       "      <td>True</td>\n",
       "      <td>1667921898</td>\n",
       "      <td>[key, transitcard, creditcard, phone]</td>\n",
       "      <td>True</td>\n",
       "      <td>0000</td>\n",
       "      <td>True</td>\n",
       "      <td>True</td>\n",
       "      <td>7</td>\n",
       "      <td>2</td>\n",
       "    </tr>\n",
       "    <tr>\n",
       "      <th>3</th>\n",
       "      <td>7</td>\n",
       "      <td>0</td>\n",
       "      <td>f450af93c8d0f5ae5de8ea7cb1aafe70</td>\n",
       "      <td>48.337230</td>\n",
       "      <td>-70.879564</td>\n",
       "      <td>Terminus La Baie</td>\n",
       "      <td>2023-02-27T01:23:17.155000Z</td>\n",
       "      <td>NaN</td>\n",
       "      <td>NaN</td>\n",
       "      <td>0</td>\n",
       "      <td>True</td>\n",
       "      <td>1667845332</td>\n",
       "      <td>[key, transitcard, creditcard, phone]</td>\n",
       "      <td>True</td>\n",
       "      <td>G7J 4H5</td>\n",
       "      <td>True</td>\n",
       "      <td>True</td>\n",
       "      <td>7</td>\n",
       "      <td>5</td>\n",
       "    </tr>\n",
       "    <tr>\n",
       "      <th>4</th>\n",
       "      <td>7</td>\n",
       "      <td>0</td>\n",
       "      <td>7ada5d893c40c9a46a54f771a392db6f</td>\n",
       "      <td>48.425119</td>\n",
       "      <td>-71.051336</td>\n",
       "      <td>Cégep de Chicoutimi</td>\n",
       "      <td>2023-02-27T01:23:17.156000Z</td>\n",
       "      <td>Cégep de Chicoutimi</td>\n",
       "      <td>0.0</td>\n",
       "      <td>0</td>\n",
       "      <td>True</td>\n",
       "      <td>1668103022</td>\n",
       "      <td>[key, transitcard, creditcard, phone]</td>\n",
       "      <td>True</td>\n",
       "      <td>G7H 1Z5</td>\n",
       "      <td>True</td>\n",
       "      <td>True</td>\n",
       "      <td>7</td>\n",
       "      <td>4</td>\n",
       "    </tr>\n",
       "  </tbody>\n",
       "</table>\n",
       "</div>"
      ],
      "text/plain": [
       "   empty_slots  free_bikes                                id   latitude  \\\n",
       "0            7           0  b6903d788830595e054121e462598381  48.428023   \n",
       "1            6           0  3aa299f4d3048ef94737bbf5fbc03825  48.404457   \n",
       "2            7           0  0b1c0c48e94fae24b1a38f4559a5985a  48.420480   \n",
       "3            7           0  f450af93c8d0f5ae5de8ea7cb1aafe70  48.337230   \n",
       "4            7           0  7ada5d893c40c9a46a54f771a392db6f  48.425119   \n",
       "\n",
       "   longitude                 name                    timestamp  \\\n",
       "0 -71.062506     Place du Citoyen  2023-02-27T01:23:17.149000Z   \n",
       "1 -71.058208     Place du Royaume  2023-02-27T01:23:17.154000Z   \n",
       "2 -71.053380                 UQAC  2023-02-27T01:23:17.154000Z   \n",
       "3 -70.879564     Terminus La Baie  2023-02-27T01:23:17.155000Z   \n",
       "4 -71.051336  Cégep de Chicoutimi  2023-02-27T01:23:17.156000Z   \n",
       "\n",
       "         extra.address  extra.altitude  extra.ebikes  extra.has_ebikes  \\\n",
       "0     Place du Citoyen             0.0             0              True   \n",
       "1     Place du Royaume             0.0             0              True   \n",
       "2                 UQAC             0.0             0              True   \n",
       "3                  NaN             NaN             0              True   \n",
       "4  Cégep de Chicoutimi             0.0             0              True   \n",
       "\n",
       "   extra.last_updated                          extra.payment  \\\n",
       "0          1668024104  [key, transitcard, creditcard, phone]   \n",
       "1          1673464955  [key, transitcard, creditcard, phone]   \n",
       "2          1667921898  [key, transitcard, creditcard, phone]   \n",
       "3          1667845332  [key, transitcard, creditcard, phone]   \n",
       "4          1668103022  [key, transitcard, creditcard, phone]   \n",
       "\n",
       "   extra.payment-terminal extra.post_code  extra.renting  extra.returning  \\\n",
       "0                    True            0000           True             True   \n",
       "1                    True            0000           True             True   \n",
       "2                    True            0000           True             True   \n",
       "3                    True         G7J 4H5           True             True   \n",
       "4                    True         G7H 1Z5           True             True   \n",
       "\n",
       "   extra.slots extra.uid  \n",
       "0            7         1  \n",
       "1            6         3  \n",
       "2            7         2  \n",
       "3            7         5  \n",
       "4            7         4  "
      ]
     },
     "execution_count": 129,
     "metadata": {},
     "output_type": "execute_result"
    }
   ],
   "source": [
    "stations = pd.json_normalize(network_json['network']['stations'], max_level=1, errors='ignore')\n",
    "stations"
   ]
  },
  {
   "cell_type": "markdown",
   "metadata": {},
   "source": [
    "Put your parsed results into a DataFrame."
   ]
  },
  {
   "cell_type": "code",
   "execution_count": 130,
   "metadata": {},
   "outputs": [
    {
     "data": {
      "text/plain": [
       "pandas.core.frame.DataFrame"
      ]
     },
     "execution_count": 130,
     "metadata": {},
     "output_type": "execute_result"
    }
   ],
   "source": [
    "type(stations)"
   ]
  },
  {
   "cell_type": "code",
   "execution_count": 131,
   "metadata": {},
   "outputs": [],
   "source": [
    "stations.to_csv('stations.csv')"
   ]
  },
  {
   "cell_type": "code",
   "execution_count": null,
   "metadata": {},
   "outputs": [],
   "source": []
  }
 ],
 "metadata": {
  "kernelspec": {
   "display_name": "Python 3 (ipykernel)",
   "language": "python",
   "name": "python3"
  },
  "language_info": {
   "codemirror_mode": {
    "name": "ipython",
    "version": 3
   },
   "file_extension": ".py",
   "mimetype": "text/x-python",
   "name": "python",
   "nbconvert_exporter": "python",
   "pygments_lexer": "ipython3",
   "version": "3.9.13"
  }
 },
 "nbformat": 4,
 "nbformat_minor": 4
}
