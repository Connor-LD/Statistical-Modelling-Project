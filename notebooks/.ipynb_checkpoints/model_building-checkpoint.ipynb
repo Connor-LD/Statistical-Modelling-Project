{
 "cells": [
  {
   "cell_type": "markdown",
   "metadata": {},
   "source": [
    "Build a regression model."
   ]
  },
  {
   "cell_type": "code",
   "execution_count": 27,
   "metadata": {},
   "outputs": [],
   "source": [
    "import numpy as np\n",
    "import pandas as pd\n",
    "import statsmodels.api as sm\n",
    "import statsmodels.formula.api as smf\n",
    "from sklearn import linear_model, datasets\n",
    "from sklearn.datasets import fetch_california_housing"
   ]
  },
  {
   "cell_type": "markdown",
   "metadata": {},
   "source": [
    "Provide model output and an interpretation of the results. "
   ]
  },
  {
   "cell_type": "code",
   "execution_count": 16,
   "metadata": {},
   "outputs": [
    {
     "data": {
      "text/html": [
       "<div>\n",
       "<style scoped>\n",
       "    .dataframe tbody tr th:only-of-type {\n",
       "        vertical-align: middle;\n",
       "    }\n",
       "\n",
       "    .dataframe tbody tr th {\n",
       "        vertical-align: top;\n",
       "    }\n",
       "\n",
       "    .dataframe thead th {\n",
       "        text-align: right;\n",
       "    }\n",
       "</style>\n",
       "<table border=\"1\" class=\"dataframe\">\n",
       "  <thead>\n",
       "    <tr style=\"text-align: right;\">\n",
       "      <th></th>\n",
       "      <th>avg_poi_rating</th>\n",
       "      <th>avg_poi_review_count</th>\n",
       "      <th>avg_poi_price</th>\n",
       "      <th>avg_poi_distance</th>\n",
       "      <th>avg_poi_popularity</th>\n",
       "      <th>poi_popularity_sum</th>\n",
       "      <th>id</th>\n",
       "      <th>latitude</th>\n",
       "      <th>longitude</th>\n",
       "      <th>name</th>\n",
       "      <th>total_slots</th>\n",
       "    </tr>\n",
       "  </thead>\n",
       "  <tbody>\n",
       "    <tr>\n",
       "      <th>0</th>\n",
       "      <td>3.800000</td>\n",
       "      <td>204.000000</td>\n",
       "      <td>1.900000</td>\n",
       "      <td>386.198279</td>\n",
       "      <td>767.300000</td>\n",
       "      <td>15346.0</td>\n",
       "      <td>7a19c49f486d7c0c02b3685d7b240448</td>\n",
       "      <td>49.262487</td>\n",
       "      <td>-123.114397</td>\n",
       "      <td>10th &amp; Cambie</td>\n",
       "      <td>35</td>\n",
       "    </tr>\n",
       "    <tr>\n",
       "      <th>1</th>\n",
       "      <td>3.928571</td>\n",
       "      <td>80.428571</td>\n",
       "      <td>1.714286</td>\n",
       "      <td>156.174324</td>\n",
       "      <td>302.357143</td>\n",
       "      <td>2116.5</td>\n",
       "      <td>32603a87cfca71d0f7dfa3513bad69d5</td>\n",
       "      <td>49.274566</td>\n",
       "      <td>-123.121817</td>\n",
       "      <td>Yaletown-Roundhouse Station</td>\n",
       "      <td>16</td>\n",
       "    </tr>\n",
       "    <tr>\n",
       "      <th>2</th>\n",
       "      <td>3.031250</td>\n",
       "      <td>86.250000</td>\n",
       "      <td>1.375000</td>\n",
       "      <td>120.425240</td>\n",
       "      <td>307.781250</td>\n",
       "      <td>4924.5</td>\n",
       "      <td>6d42fa40360f9a6b2bf641c7b8bb2862</td>\n",
       "      <td>49.279764</td>\n",
       "      <td>-123.110154</td>\n",
       "      <td>Dunsmuir &amp; Beatty</td>\n",
       "      <td>26</td>\n",
       "    </tr>\n",
       "  </tbody>\n",
       "</table>\n",
       "</div>"
      ],
      "text/plain": [
       "   avg_poi_rating  avg_poi_review_count  avg_poi_price  avg_poi_distance  \\\n",
       "0        3.800000            204.000000       1.900000        386.198279   \n",
       "1        3.928571             80.428571       1.714286        156.174324   \n",
       "2        3.031250             86.250000       1.375000        120.425240   \n",
       "\n",
       "   avg_poi_popularity  poi_popularity_sum                                id  \\\n",
       "0          767.300000             15346.0  7a19c49f486d7c0c02b3685d7b240448   \n",
       "1          302.357143              2116.5  32603a87cfca71d0f7dfa3513bad69d5   \n",
       "2          307.781250              4924.5  6d42fa40360f9a6b2bf641c7b8bb2862   \n",
       "\n",
       "    latitude   longitude                         name  total_slots  \n",
       "0  49.262487 -123.114397                10th & Cambie           35  \n",
       "1  49.274566 -123.121817  Yaletown-Roundhouse Station           16  \n",
       "2  49.279764 -123.110154            Dunsmuir & Beatty           26  "
      ]
     },
     "execution_count": 16,
     "metadata": {},
     "output_type": "execute_result"
    }
   ],
   "source": [
    "# Load Data\n",
    "stations_joined = pd.read_csv('stations_joined.csv')\n",
    "stations_joined = stations_joined.drop(columns=['Unnamed: 0'])\n",
    "stations_joined.head(3)"
   ]
  },
  {
   "cell_type": "code",
   "execution_count": 22,
   "metadata": {},
   "outputs": [
    {
     "data": {
      "text/plain": [
       "Index(['avg_poi_rating', 'avg_poi_review_count', 'avg_poi_price',\n",
       "       'avg_poi_distance', 'avg_poi_popularity', 'poi_popularity_sum', 'id',\n",
       "       'latitude', 'longitude', 'name', 'total_slots'],\n",
       "      dtype='object')"
      ]
     },
     "execution_count": 22,
     "metadata": {},
     "output_type": "execute_result"
    }
   ],
   "source": [
    "stations_joined.columns"
   ]
  },
  {
   "cell_type": "code",
   "execution_count": 23,
   "metadata": {},
   "outputs": [],
   "source": [
    "# Define variables\n",
    "X = stations_joined[stations_joined.columns[~stations_joined.columns.isin(['id','latitude', 'longitude', 'name', 'total_slots'])]]\n",
    "y = stations_joined['total_slots']"
   ]
  },
  {
   "cell_type": "code",
   "execution_count": 24,
   "metadata": {},
   "outputs": [
    {
     "data": {
      "text/plain": [
       "(206, 6)"
      ]
     },
     "execution_count": 24,
     "metadata": {},
     "output_type": "execute_result"
    }
   ],
   "source": [
    "# Check data\n",
    "X.shape"
   ]
  },
  {
   "cell_type": "code",
   "execution_count": 25,
   "metadata": {},
   "outputs": [
    {
     "data": {
      "text/html": [
       "<div>\n",
       "<style scoped>\n",
       "    .dataframe tbody tr th:only-of-type {\n",
       "        vertical-align: middle;\n",
       "    }\n",
       "\n",
       "    .dataframe tbody tr th {\n",
       "        vertical-align: top;\n",
       "    }\n",
       "\n",
       "    .dataframe thead th {\n",
       "        text-align: right;\n",
       "    }\n",
       "</style>\n",
       "<table border=\"1\" class=\"dataframe\">\n",
       "  <thead>\n",
       "    <tr style=\"text-align: right;\">\n",
       "      <th></th>\n",
       "      <th>avg_poi_rating</th>\n",
       "      <th>avg_poi_review_count</th>\n",
       "      <th>avg_poi_price</th>\n",
       "      <th>avg_poi_distance</th>\n",
       "      <th>avg_poi_popularity</th>\n",
       "      <th>poi_popularity_sum</th>\n",
       "    </tr>\n",
       "  </thead>\n",
       "  <tbody>\n",
       "    <tr>\n",
       "      <th>0</th>\n",
       "      <td>3.800000</td>\n",
       "      <td>204.000000</td>\n",
       "      <td>1.900000</td>\n",
       "      <td>386.198279</td>\n",
       "      <td>767.300000</td>\n",
       "      <td>15346.0</td>\n",
       "    </tr>\n",
       "    <tr>\n",
       "      <th>1</th>\n",
       "      <td>3.928571</td>\n",
       "      <td>80.428571</td>\n",
       "      <td>1.714286</td>\n",
       "      <td>156.174324</td>\n",
       "      <td>302.357143</td>\n",
       "      <td>2116.5</td>\n",
       "    </tr>\n",
       "    <tr>\n",
       "      <th>2</th>\n",
       "      <td>3.031250</td>\n",
       "      <td>86.250000</td>\n",
       "      <td>1.375000</td>\n",
       "      <td>120.425240</td>\n",
       "      <td>307.781250</td>\n",
       "      <td>4924.5</td>\n",
       "    </tr>\n",
       "    <tr>\n",
       "      <th>3</th>\n",
       "      <td>3.550000</td>\n",
       "      <td>65.800000</td>\n",
       "      <td>1.500000</td>\n",
       "      <td>160.393656</td>\n",
       "      <td>259.850000</td>\n",
       "      <td>2598.5</td>\n",
       "    </tr>\n",
       "    <tr>\n",
       "      <th>4</th>\n",
       "      <td>3.275000</td>\n",
       "      <td>117.600000</td>\n",
       "      <td>1.600000</td>\n",
       "      <td>152.997636</td>\n",
       "      <td>411.525000</td>\n",
       "      <td>8230.5</td>\n",
       "    </tr>\n",
       "  </tbody>\n",
       "</table>\n",
       "</div>"
      ],
      "text/plain": [
       "   avg_poi_rating  avg_poi_review_count  avg_poi_price  avg_poi_distance  \\\n",
       "0        3.800000            204.000000       1.900000        386.198279   \n",
       "1        3.928571             80.428571       1.714286        156.174324   \n",
       "2        3.031250             86.250000       1.375000        120.425240   \n",
       "3        3.550000             65.800000       1.500000        160.393656   \n",
       "4        3.275000            117.600000       1.600000        152.997636   \n",
       "\n",
       "   avg_poi_popularity  poi_popularity_sum  \n",
       "0          767.300000             15346.0  \n",
       "1          302.357143              2116.5  \n",
       "2          307.781250              4924.5  \n",
       "3          259.850000              2598.5  \n",
       "4          411.525000              8230.5  "
      ]
     },
     "execution_count": 25,
     "metadata": {},
     "output_type": "execute_result"
    }
   ],
   "source": [
    "X.head()"
   ]
  },
  {
   "cell_type": "code",
   "execution_count": 26,
   "metadata": {},
   "outputs": [
    {
     "data": {
      "text/plain": [
       "0    35\n",
       "1    16\n",
       "2    26\n",
       "3    16\n",
       "4    16\n",
       "Name: total_slots, dtype: int64"
      ]
     },
     "execution_count": 26,
     "metadata": {},
     "output_type": "execute_result"
    }
   ],
   "source": [
    "y.head()"
   ]
  },
  {
   "cell_type": "code",
   "execution_count": 28,
   "metadata": {},
   "outputs": [],
   "source": [
    "X = sm.add_constant(X) # adding a constant\n",
    "lin_reg = sm.OLS(y,X)"
   ]
  },
  {
   "cell_type": "code",
   "execution_count": 29,
   "metadata": {},
   "outputs": [
    {
     "name": "stdout",
     "output_type": "stream",
     "text": [
      "                            OLS Regression Results                            \n",
      "==============================================================================\n",
      "Dep. Variable:            total_slots   R-squared:                       0.019\n",
      "Model:                            OLS   Adj. R-squared:                 -0.011\n",
      "Method:                 Least Squares   F-statistic:                    0.6365\n",
      "Date:                Mon, 27 Feb 2023   Prob (F-statistic):              0.701\n",
      "Time:                        21:12:29   Log-Likelihood:                -638.32\n",
      "No. Observations:                 206   AIC:                             1291.\n",
      "Df Residuals:                     199   BIC:                             1314.\n",
      "Df Model:                           6                                         \n",
      "Covariance Type:            nonrobust                                         \n",
      "========================================================================================\n",
      "                           coef    std err          t      P>|t|      [0.025      0.975]\n",
      "----------------------------------------------------------------------------------------\n",
      "const                   20.6618      4.646      4.447      0.000      11.499      29.824\n",
      "avg_poi_rating           0.7165      1.177      0.609      0.543      -1.605       3.038\n",
      "avg_poi_review_count    -0.0015      0.048     -0.031      0.975      -0.096       0.093\n",
      "avg_poi_price           -2.6783      1.540     -1.739      0.084      -5.715       0.359\n",
      "avg_poi_distance         0.0005      0.006      0.078      0.938      -0.012       0.013\n",
      "avg_poi_popularity       0.0008      0.012      0.068      0.946      -0.023       0.025\n",
      "poi_popularity_sum   -2.924e-05   8.27e-05     -0.353      0.724      -0.000       0.000\n",
      "==============================================================================\n",
      "Omnibus:                       63.768   Durbin-Watson:                   1.680\n",
      "Prob(Omnibus):                  0.000   Jarque-Bera (JB):              134.736\n",
      "Skew:                           1.472   Prob(JB):                     5.53e-30\n",
      "Kurtosis:                       5.651   Cond. No.                     1.54e+05\n",
      "==============================================================================\n",
      "\n",
      "Notes:\n",
      "[1] Standard Errors assume that the covariance matrix of the errors is correctly specified.\n",
      "[2] The condition number is large, 1.54e+05. This might indicate that there are\n",
      "strong multicollinearity or other numerical problems.\n"
     ]
    }
   ],
   "source": [
    "model = lin_reg.fit()\n",
    "print_model = model.summary()\n",
    "print(print_model)"
   ]
  },
  {
   "cell_type": "code",
   "execution_count": 33,
   "metadata": {},
   "outputs": [],
   "source": [
    "# Backward elimination method (1 at a time, fast-forward 3 steps)\n",
    "X = stations_joined[stations_joined.columns[stations_joined.columns.isin(['avg_poi_rating', 'avg_poi_price', 'poi_popularity_sum'])]]\n",
    "y = stations_joined['total_slots']"
   ]
  },
  {
   "cell_type": "code",
   "execution_count": 34,
   "metadata": {},
   "outputs": [],
   "source": [
    "X = sm.add_constant(X) # adding a constant\n",
    "lin_reg = sm.OLS(y,X)"
   ]
  },
  {
   "cell_type": "code",
   "execution_count": 35,
   "metadata": {},
   "outputs": [
    {
     "name": "stdout",
     "output_type": "stream",
     "text": [
      "                            OLS Regression Results                            \n",
      "==============================================================================\n",
      "Dep. Variable:            total_slots   R-squared:                       0.019\n",
      "Model:                            OLS   Adj. R-squared:                  0.004\n",
      "Method:                 Least Squares   F-statistic:                     1.271\n",
      "Date:                Mon, 27 Feb 2023   Prob (F-statistic):              0.285\n",
      "Time:                        21:18:57   Log-Likelihood:                -638.35\n",
      "No. Observations:                 206   AIC:                             1285.\n",
      "Df Residuals:                     202   BIC:                             1298.\n",
      "Df Model:                           3                                         \n",
      "Covariance Type:            nonrobust                                         \n",
      "======================================================================================\n",
      "                         coef    std err          t      P>|t|      [0.025      0.975]\n",
      "--------------------------------------------------------------------------------------\n",
      "const                 20.3934      4.008      5.088      0.000      12.490      28.296\n",
      "avg_poi_rating         0.7856      1.016      0.774      0.440      -1.217       2.788\n",
      "avg_poi_price         -2.5567      1.397     -1.831      0.069      -5.311       0.197\n",
      "poi_popularity_sum -1.359e-05   4.49e-05     -0.303      0.762      -0.000    7.49e-05\n",
      "==============================================================================\n",
      "Omnibus:                       62.844   Durbin-Watson:                   1.678\n",
      "Prob(Omnibus):                  0.000   Jarque-Bera (JB):              130.587\n",
      "Skew:                           1.460   Prob(JB):                     4.40e-29\n",
      "Kurtosis:                       5.586   Cond. No.                     1.34e+05\n",
      "==============================================================================\n",
      "\n",
      "Notes:\n",
      "[1] Standard Errors assume that the covariance matrix of the errors is correctly specified.\n",
      "[2] The condition number is large, 1.34e+05. This might indicate that there are\n",
      "strong multicollinearity or other numerical problems.\n"
     ]
    }
   ],
   "source": [
    "model = lin_reg.fit()\n",
    "print_model = model.summary()\n",
    "print(print_model)"
   ]
  },
  {
   "cell_type": "markdown",
   "metadata": {},
   "source": [
    "### Multilinear does not appear effective."
   ]
  },
  {
   "cell_type": "markdown",
   "metadata": {},
   "source": [
    "# Stretch"
   ]
  },
  {
   "cell_type": "markdown",
   "metadata": {},
   "source": [
    "How can you turn the regression model into a classification model?"
   ]
  },
  {
   "cell_type": "markdown",
   "metadata": {},
   "source": [
    "# Stretch Answer\n",
    "\n",
    "Two meaninful opportunities for classification are:\n",
    "1. {high, medium, low} classification of total_bikes by station\n",
    "2. {overserved, good, underserved} from total_bikes/popularity by station"
   ]
  },
  {
   "cell_type": "code",
   "execution_count": null,
   "metadata": {},
   "outputs": [],
   "source": []
  }
 ],
 "metadata": {
  "kernelspec": {
   "display_name": "Python 3 (ipykernel)",
   "language": "python",
   "name": "python3"
  },
  "language_info": {
   "codemirror_mode": {
    "name": "ipython",
    "version": 3
   },
   "file_extension": ".py",
   "mimetype": "text/x-python",
   "name": "python",
   "nbconvert_exporter": "python",
   "pygments_lexer": "ipython3",
   "version": "3.9.13"
  }
 },
 "nbformat": 4,
 "nbformat_minor": 4
}
